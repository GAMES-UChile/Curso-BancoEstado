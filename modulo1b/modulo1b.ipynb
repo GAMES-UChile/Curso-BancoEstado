{
 "cells": [
  {
   "cell_type": "markdown",
   "metadata": {},
   "source": [
    "# Curso BancoEstado-CMM: Aprendizaje de Máquinas Avanzado \n",
    "**Autores:** Taco de Wolff y Felipe Tobar  \n",
    "\n",
    "**Fecha:** 4 octubre, 2019\n",
    "\n",
    "\n",
    "# Módulo 2 - Contenidos\n",
    "- Programación científica con Python\n",
    "- Numpy y Scipy"
   ]
  },
  {
   "cell_type": "markdown",
   "metadata": {},
   "source": [
    "## 1) NumPy: an efficient N-dimensional array package"
   ]
  },
  {
   "cell_type": "code",
   "execution_count": 1,
   "metadata": {},
   "outputs": [
    {
     "name": "stdout",
     "output_type": "stream",
     "text": [
      "A =\n",
      " [[0 1]\n",
      " [0 2]] \n",
      "\n",
      "B =\n",
      " [[2 0]\n",
      " [3 4]] \n",
      "\n",
      "B.T =\n",
      " [[2 3]\n",
      " [0 4]] \n",
      "\n",
      "A + B =\n",
      " [[2 1]\n",
      " [3 6]] \n",
      "\n",
      "A * B =\n",
      " [[0 0]\n",
      " [0 8]] \n",
      "\n",
      "A**B =\n",
      " [[ 0  1]\n",
      " [ 0 16]] \n",
      "\n"
     ]
    }
   ],
   "source": [
    "import numpy as np\n",
    "\n",
    "# Basic Operations\n",
    "A = np.array([[0, 1], [0, 2]])\n",
    "B = np.array([[2, 0], [3, 4]])\n",
    "\n",
    "print(\"A =\\n\", A, \"\\n\")\n",
    "print(\"B =\\n\", B, \"\\n\")\n",
    "print(\"B.T =\\n\", B.T, \"\\n\")\n",
    "print(\"A + B =\\n\", A + B, \"\\n\")\n",
    "print(\"A * B =\\n\", A * B, \"\\n\")\n",
    "print(\"A**B =\\n\", A**B, \"\\n\")"
   ]
  },
  {
   "cell_type": "code",
   "execution_count": 2,
   "metadata": {},
   "outputs": [
    {
     "name": "stdout",
     "output_type": "stream",
     "text": [
      "np.transpose(B) =\n",
      " [[2 3]\n",
      " [0 4]] \n",
      "\n",
      "np.add(B) =\n",
      " [[2 1]\n",
      " [3 6]] \n",
      "\n",
      "np.multiply(B) =\n",
      " [[0 0]\n",
      " [0 8]] \n",
      "\n",
      "np.power(B) =\n",
      " [[ 0  1]\n",
      " [ 0 16]] \n",
      "\n",
      "np.exp(B) =\n",
      " [[ 7.3890561   1.        ]\n",
      " [20.08553692 54.59815003]] \n",
      "\n",
      "np.sqrt(B) =\n",
      " [[1.41421356 0.        ]\n",
      " [1.73205081 2.        ]] \n",
      "\n",
      "np.sin(B) =\n",
      " [[ 0.90929743  0.        ]\n",
      " [ 0.14112001 -0.7568025 ]] \n",
      "\n"
     ]
    }
   ],
   "source": [
    "print(\"np.transpose(B) =\\n\", np.transpose(B), \"\\n\")\n",
    "print(\"np.add(B) =\\n\", np.add(A, B), \"\\n\")\n",
    "print(\"np.multiply(B) =\\n\", np.multiply(A, B), \"\\n\")\n",
    "print(\"np.power(B) =\\n\", np.power(A, B), \"\\n\")\n",
    "print(\"np.exp(B) =\\n\", np.exp(B), \"\\n\")\n",
    "print(\"np.sqrt(B) =\\n\", np.sqrt(B), \"\\n\")\n",
    "print(\"np.sin(B) =\\n\", np.sin(B), \"\\n\")"
   ]
  },
  {
   "cell_type": "code",
   "execution_count": 11,
   "metadata": {},
   "outputs": [
    {
     "name": "stdout",
     "output_type": "stream",
     "text": [
      "print(A) =\n",
      " [[0 1]\n",
      " [0 2]]\n",
      "np.sum(A) = 3\n",
      "np.mean(A) = 0.75\n",
      "np.std(A) = 0.82915619758885\n",
      "np.var(A) = 0.6875\n",
      "np.min(A) = 0\n",
      "np.max(A) = 2\n"
     ]
    }
   ],
   "source": [
    "print(\"print(A) =\\n\", A)\n",
    "print(\"np.sum(A) =\", np.sum(A))\n",
    "print(\"np.mean(A) =\", np.mean(A))\n",
    "print(\"np.std(A) =\", np.std(A))\n",
    "print(\"np.var(A) =\", np.var(A))\n",
    "print(\"np.min(A) =\", np.min(A))\n",
    "print(\"np.max(A) =\", np.max(A))"
   ]
  },
  {
   "cell_type": "markdown",
   "metadata": {},
   "source": [
    "### 1.1) Álgebra lineal"
   ]
  },
  {
   "cell_type": "code",
   "execution_count": 13,
   "metadata": {},
   "outputs": [],
   "source": [
    "#podemos consultar la documentación (de cualquier módulo) de esta forma\n",
    "np.linalg?"
   ]
  },
  {
   "cell_type": "code",
   "execution_count": 16,
   "metadata": {},
   "outputs": [
    {
     "name": "stdout",
     "output_type": "stream",
     "text": [
      "np.trace(C) = 5.0\n",
      "np.linalg.norm(C) = 5.477225575051661\n",
      "np.linalg.det(C) = -2.0000000000000004 \n",
      "\n",
      "np.linalg.inv(C) =\n",
      " [[-2.   1. ]\n",
      " [ 1.5 -0.5]] \n",
      "\n",
      "np.linalg.eig(C) =\n",
      " (array([-0.37228132,  5.37228132]), array([[-0.82456484, -0.41597356],\n",
      "       [ 0.56576746, -0.90937671]])) \n",
      "\n",
      "np.linalg.eigvals(C) =\n",
      " [-0.37228132  5.37228132] \n",
      "\n",
      "np.linalg.cholesky(C.T@C) =\n",
      " [[3.16227766 0.        ]\n",
      " [4.42718872 0.63245553]] \n",
      "\n"
     ]
    }
   ],
   "source": [
    "#operaciones generales con matrices\n",
    "C = np.array([[1.0, 2.0], [3.0, 4.0]])\n",
    "print(\"np.trace(C) =\", np.trace(C))\n",
    "print(\"np.linalg.norm(C) =\", np.linalg.norm(C))\n",
    "print(\"np.linalg.det(C) =\", np.linalg.det(C), \"\\n\")\n",
    "print(\"np.linalg.inv(C) =\\n\", np.linalg.inv(C), \"\\n\")\n",
    "print(\"np.linalg.eig(C) =\\n\", np.linalg.eig(C), \"\\n\")\n",
    "print(\"np.linalg.eigvals(C) =\\n\", np.linalg.eigvals(C), \"\\n\")\n",
    "print(\"np.linalg.cholesky(C.T@C) =\\n\", np.linalg.cholesky(C.T@C), \"\\n\")"
   ]
  },
  {
   "cell_type": "markdown",
   "metadata": {},
   "source": [
    "## 2) SciPy: una librería fundamental para computación científica\n",
    "\n",
    "https://docs.scipy.org/doc/scipy/reference/tutorial/index.html"
   ]
  },
  {
   "cell_type": "code",
   "execution_count": 28,
   "metadata": {},
   "outputs": [
    {
     "name": "stdout",
     "output_type": "stream",
     "text": [
      "SciPy: A scientific computing package for Python\n",
      "================================================\n",
      "\n",
      "Documentation is available in the docstrings and\n",
      "online at https://docs.scipy.org.\n",
      "\n",
      "Contents\n",
      "--------\n",
      "SciPy imports all the functions from the NumPy namespace, and in\n",
      "addition provides:\n",
      "\n",
      "Subpackages\n",
      "-----------\n",
      "Using any of these subpackages requires an explicit import.  For example,\n",
      "``import scipy.cluster``.\n",
      "\n",
      "::\n",
      "\n",
      " cluster                      --- Vector Quantization / Kmeans\n",
      " fftpack                      --- Discrete Fourier Transform algorithms\n",
      " integrate                    --- Integration routines\n",
      " interpolate                  --- Interpolation Tools\n",
      " io                           --- Data input and output\n",
      " linalg                       --- Linear algebra routines\n",
      " linalg.blas                  --- Wrappers to BLAS library\n",
      " linalg.lapack                --- Wrappers to LAPACK library\n",
      " misc                         --- Various utilities that don't have\n",
      "                                  another home.\n",
      " ndimage                      --- n-dimensional image package\n",
      " odr                          --- Orthogonal Distance Regression\n",
      " optimize                     --- Optimization Tools\n",
      " signal                       --- Signal Processing Tools\n",
      " signal.windows               --- Window functions\n",
      " sparse                       --- Sparse Matrices\n",
      " sparse.linalg                --- Sparse Linear Algebra\n",
      " sparse.linalg.dsolve         --- Linear Solvers\n",
      " sparse.linalg.dsolve.umfpack --- :Interface to the UMFPACK library:\n",
      "                                  Conjugate Gradient Method (LOBPCG)\n",
      " sparse.linalg.eigen          --- Sparse Eigenvalue Solvers\n",
      " sparse.linalg.eigen.lobpcg   --- Locally Optimal Block Preconditioned\n",
      "                                  Conjugate Gradient Method (LOBPCG)\n",
      " spatial                      --- Spatial data structures and algorithms\n",
      " special                      --- Special functions\n",
      " stats                        --- Statistical Functions\n",
      "\n",
      "Utility tools\n",
      "-------------\n",
      "::\n",
      "\n",
      " test              --- Run scipy unittests\n",
      " show_config       --- Show scipy build configuration\n",
      " show_numpy_config --- Show numpy build configuration\n",
      " __version__       --- SciPy version string\n",
      " __numpy_version__ --- Numpy version string\n"
     ]
    }
   ],
   "source": [
    "import scipy as sp\n",
    "\n",
    "sp.info(sp)"
   ]
  },
  {
   "cell_type": "markdown",
   "metadata": {},
   "source": [
    "### 2.1 Optimización\n",
    "https://docs.scipy.org/doc/scipy/reference/tutorial/optimize.html\n",
    "El paquete `scipy.optimize` provee algoritmos comunmente usados en optimización, entre ellos:\n",
    "- Minimización con o sin restricciones para funciones escalares (métodos BFGS, Newton conjugate gradient, Nelder-Mead Simplex, etc)\n",
    "- Rutinas de fuerza bruta\n",
    "- Mínimos cuadrados y algoritmos de ajuste de curvas\n",
    "\n",
    "En el ejemplo que se muestra a continuación se minimiza la función de Rosenbrok de $N$ variables dada por\n",
    "\\begin{equation}\n",
    "    \\sum_{i=1}^{N-1} 100*(x_{i+1} - x^2_i)^2 + (1-x_i)^2.\n",
    "\\end{equation}\n",
    "El algoritmo usado puede ser 'nelder-mead' o bien 'powell'. Lo bueno de estos métodos es que sólo se necesita evaluar la función y no usa evaluación del gradiente. (es por ello que es más lenta)."
   ]
  },
  {
   "cell_type": "code",
   "execution_count": 29,
   "metadata": {},
   "outputs": [],
   "source": [
    "from scipy.optimize import minimize\n",
    "\n",
    "def rosen(x):\n",
    "    return sum(100.0 * (x[1:] - x[:-1]**2.0)**2.0 + (1 - x[:-1])**2.0)\n",
    "\n",
    "x0 = np.array([1.3, 0.7, 0.8, 1.9, 1.2])"
   ]
  },
  {
   "cell_type": "code",
   "execution_count": 38,
   "metadata": {},
   "outputs": [
    {
     "name": "stdout",
     "output_type": "stream",
     "text": [
      "Optimization terminated successfully.\n",
      "         Current function value: 0.000000\n",
      "         Iterations: 25\n",
      "         Function evaluations: 210\n",
      "         Gradient evaluations: 30\n",
      "      fun: 4.581718348719802e-11\n",
      " hess_inv: array([[0.00758467, 0.01243419, 0.02343126, 0.04612654, 0.09217015],\n",
      "       [0.01243419, 0.02481131, 0.04711868, 0.09295502, 0.18561931],\n",
      "       [0.02343126, 0.04711868, 0.09454461, 0.18669089, 0.3726818 ],\n",
      "       [0.04612654, 0.09295502, 0.18669089, 0.37367905, 0.74586086],\n",
      "       [0.09217015, 0.18561931, 0.3726818 , 0.74586086, 1.49364903]])\n",
      "      jac: array([-5.78928443e-06, -2.82288555e-06, -2.79935363e-06, -7.64283697e-06,\n",
      "        5.85513480e-06])\n",
      "  message: 'Optimization terminated successfully.'\n",
      "     nfev: 210\n",
      "      nit: 25\n",
      "     njev: 30\n",
      "   status: 0\n",
      "  success: True\n",
      "        x: array([0.99999925, 0.99999852, 0.99999706, 0.99999416, 0.99998833])\n",
      "CPU times: user 6.73 ms, sys: 1.8 ms, total: 8.53 ms\n",
      "Wall time: 6.87 ms\n"
     ]
    }
   ],
   "source": [
    "%%time\n",
    "res = minimize(rosen, x0, options={'maxiter': 100, 'disp': True})\n",
    "print(res)"
   ]
  },
  {
   "cell_type": "code",
   "execution_count": 33,
   "metadata": {},
   "outputs": [
    {
     "name": "stdout",
     "output_type": "stream",
     "text": [
      "Optimization terminated successfully.\n",
      "         Current function value: 0.000000\n",
      "         Iterations: 19\n",
      "         Function evaluations: 1622\n",
      "   direc: array([[ 1.59217495e-06,  1.43301633e-06,  4.65187663e-06,\n",
      "         9.58520273e-06,  2.09783685e-05],\n",
      "       [-5.72229228e-04, -8.96827101e-04, -2.05165897e-03,\n",
      "        -4.12621496e-03, -7.47022249e-03],\n",
      "       [ 0.00000000e+00,  0.00000000e+00,  1.00000000e+00,\n",
      "         0.00000000e+00,  0.00000000e+00],\n",
      "       [-6.33752967e-03, -3.93431060e-03, -1.22576639e-03,\n",
      "         4.95313151e-05,  1.18066443e-04],\n",
      "       [ 3.39029104e-08,  7.58841519e-08,  1.38160426e-07,\n",
      "         2.56876108e-07,  5.19973682e-07]])\n",
      "     fun: 2.0864733021357032e-21\n",
      " message: 'Optimization terminated successfully.'\n",
      "    nfev: 1622\n",
      "     nit: 19\n",
      "  status: 0\n",
      " success: True\n",
      "       x: array([1., 1., 1., 1., 1.])\n",
      "CPU times: user 31 ms, sys: 743 µs, total: 31.7 ms\n",
      "Wall time: 31.7 ms\n"
     ]
    }
   ],
   "source": [
    "%%time\n",
    "res = minimize(rosen, x0, method='powell', options={'xtol': 1e-8, 'disp': True})\n",
    "print(res)"
   ]
  },
  {
   "cell_type": "code",
   "execution_count": 35,
   "metadata": {},
   "outputs": [
    {
     "name": "stdout",
     "output_type": "stream",
     "text": [
      "Optimization terminated successfully.\n",
      "         Current function value: 0.000000\n",
      "         Iterations: 339\n",
      "         Function evaluations: 571\n",
      " final_simplex: (array([[1.        , 1.        , 1.        , 1.        , 1.        ],\n",
      "       [1.        , 1.        , 1.        , 1.        , 1.        ],\n",
      "       [1.        , 1.        , 1.        , 1.00000001, 1.00000001],\n",
      "       [1.        , 1.        , 1.        , 1.        , 1.        ],\n",
      "       [1.        , 1.        , 1.        , 1.        , 1.        ],\n",
      "       [1.        , 1.        , 1.        , 1.        , 0.99999999]]), array([4.86115343e-17, 7.65182843e-17, 8.11395684e-17, 8.63263255e-17,\n",
      "       8.64080682e-17, 2.17927418e-16]))\n",
      "           fun: 4.861153433422115e-17\n",
      "       message: 'Optimization terminated successfully.'\n",
      "          nfev: 571\n",
      "           nit: 339\n",
      "        status: 0\n",
      "       success: True\n",
      "             x: array([1., 1., 1., 1., 1.])\n",
      "CPU times: user 19.6 ms, sys: 2.9 ms, total: 22.5 ms\n",
      "Wall time: 22.1 ms\n"
     ]
    }
   ],
   "source": [
    "%%time \n",
    "res = minimize(rosen, x0, method='nelder-mead', options={'xtol': 1e-8, 'disp': True})\n",
    "print(res)"
   ]
  },
  {
   "cell_type": "markdown",
   "metadata": {},
   "source": [
    "Para obtener un mejor desempeño (converger en menos iteraciones al óptimo), se implementará un método para optimizar que usa el gradiente de la función, por ello se define la función rosen_der, que corresponde al gradiente.\n",
    "\n",
    "Luego se llama al algoritmo 'BFGS', el cual recibe como argumento el gradiente de la función en 'jac'.\n",
    "\n",
    "En caso de no recibir explicitamente el jacobiano, el método lo obtiene numéricamente por diferencias finitas.\n",
    "\n",
    "Para minimizaciones de problemas más grandes, se puede usar el método de Newton-CG, el cual necesita el Hessiano. No se explicita aquí."
   ]
  },
  {
   "cell_type": "code",
   "execution_count": 36,
   "metadata": {},
   "outputs": [],
   "source": [
    "def rosen_der(x):\n",
    "    xm = x[1:-1]\n",
    "    xm_m1 = x[:-2]\n",
    "    xm_p1 = x[2:]\n",
    "    der = np.zeros_like(x)\n",
    "    der[1:-1] = 200*(xm-xm_m1**2) - 400*(xm_p1 - xm**2)*xm - 2*(1-xm)\n",
    "    der[0] = -400*x[0]*(x[1]-x[0]**2) - 2*(1-x[0])\n",
    "    der[-1] = 200*(x[-1]-x[-2]**2)\n",
    "    return der"
   ]
  },
  {
   "cell_type": "code",
   "execution_count": 39,
   "metadata": {},
   "outputs": [
    {
     "name": "stdout",
     "output_type": "stream",
     "text": [
      "Optimization terminated successfully.\n",
      "         Current function value: 0.000000\n",
      "         Iterations: 47\n",
      "         Function evaluations: 97\n",
      "         Gradient evaluations: 97\n",
      "     fun: 4.4251137864727476e-12\n",
      "     jac: array([ 7.26028891e-07, -5.26163523e-06, -2.67771991e-06,  5.86457311e-06,\n",
      "       -4.05953233e-06])\n",
      " message: 'Optimization terminated successfully.'\n",
      "    nfev: 97\n",
      "     nit: 47\n",
      "    njev: 97\n",
      "  status: 0\n",
      " success: True\n",
      "       x: array([0.99999977, 0.99999954, 0.99999909, 0.99999819, 0.99999636])\n",
      "CPU times: user 7.34 ms, sys: 2.19 ms, total: 9.53 ms\n",
      "Wall time: 7.53 ms\n"
     ]
    }
   ],
   "source": [
    "%%time \n",
    "res = minimize(rosen, x0, method='CG', jac=rosen_der, options={'disp': True})\n",
    "print(res)"
   ]
  },
  {
   "cell_type": "code",
   "execution_count": 40,
   "metadata": {},
   "outputs": [
    {
     "name": "stdout",
     "output_type": "stream",
     "text": [
      "Optimization terminated successfully.\n",
      "         Current function value: 0.000000\n",
      "         Iterations: 25\n",
      "         Function evaluations: 30\n",
      "         Gradient evaluations: 30\n",
      "      fun: 4.0130879949972905e-13\n",
      " hess_inv: array([[0.00758796, 0.01243893, 0.02344025, 0.04614953, 0.09222281],\n",
      "       [0.01243893, 0.02481725, 0.04712952, 0.09298607, 0.18569385],\n",
      "       [0.02344025, 0.04712952, 0.09456412, 0.18674836, 0.37282072],\n",
      "       [0.04614953, 0.09298607, 0.18674836, 0.37383212, 0.74621435],\n",
      "       [0.09222281, 0.18569385, 0.37282072, 0.74621435, 1.49444705]])\n",
      "      jac: array([-5.68982937e-06, -2.73296557e-06, -2.54520599e-06, -7.73460770e-06,\n",
      "        5.78142698e-06])\n",
      "  message: 'Optimization terminated successfully.'\n",
      "     nfev: 30\n",
      "      nit: 25\n",
      "     njev: 30\n",
      "   status: 0\n",
      "  success: True\n",
      "        x: array([1.00000004, 1.0000001 , 1.00000021, 1.00000044, 1.00000092])\n",
      "CPU times: user 5.28 ms, sys: 1.69 ms, total: 6.96 ms\n",
      "Wall time: 5.35 ms\n"
     ]
    }
   ],
   "source": [
    "%%time \n",
    "res = minimize(rosen, x0, method='BFGS', jac=rosen_der, options={'disp': True})\n",
    "print(res)"
   ]
  },
  {
   "cell_type": "code",
   "execution_count": 43,
   "metadata": {},
   "outputs": [
    {
     "name": "stdout",
     "output_type": "stream",
     "text": [
      "      fun: 1.3003448967631297e-12\n",
      " hess_inv: <5x5 LbfgsInvHessProduct with dtype=float64>\n",
      "      jac: array([ 3.29645133e-08, -1.26798629e-05,  1.17985872e-05, -1.22448317e-05,\n",
      "        5.95941114e-06])\n",
      "  message: b'CONVERGENCE: REL_REDUCTION_OF_F_<=_FACTR*EPSMCH'\n",
      "     nfev: 26\n",
      "      nit: 24\n",
      "   status: 0\n",
      "  success: True\n",
      "        x: array([1.00000011, 1.00000021, 1.00000046, 1.00000091, 1.00000184])\n",
      "CPU times: user 2.84 ms, sys: 675 µs, total: 3.51 ms\n",
      "Wall time: 2.98 ms\n"
     ]
    }
   ],
   "source": [
    "%%time \n",
    "res = minimize(rosen, x0, method='L-BFGS-B', jac=rosen_der, options={'disp': True})\n",
    "print(res)"
   ]
  },
  {
   "cell_type": "code",
   "execution_count": 44,
   "metadata": {},
   "outputs": [
    {
     "name": "stdout",
     "output_type": "stream",
     "text": [
      "Optimization terminated successfully.\n",
      "         Current function value: 0.000000\n",
      "         Iterations: 21\n",
      "         Function evaluations: 30\n",
      "         Gradient evaluations: 152\n",
      "         Hessian evaluations: 0\n",
      "     fun: 2.6774618376303503e-08\n",
      "     jac: array([ 5.76974862e-05,  1.52631177e-04,  6.96162538e-04,  3.07230062e-03,\n",
      "       -1.91705036e-03])\n",
      " message: 'Optimization terminated successfully.'\n",
      "    nfev: 30\n",
      "    nhev: 0\n",
      "     nit: 21\n",
      "    njev: 152\n",
      "  status: 0\n",
      " success: True\n",
      "       x: array([0.99998222, 0.99996459, 0.99992917, 0.9998581 , 0.99971556])\n",
      "CPU times: user 8.65 ms, sys: 3.02 ms, total: 11.7 ms\n",
      "Wall time: 9.03 ms\n"
     ]
    }
   ],
   "source": [
    "%%time \n",
    "res = minimize(rosen, x0, method='Newton-CG', jac=rosen_der, options={'disp': True})\n",
    "print(res)"
   ]
  },
  {
   "cell_type": "markdown",
   "metadata": {},
   "source": [
    "## 2.2) Optimización de mínimos cuadrados\n",
    "\n",
    "Scipy es capaz de resolver problemas no lineales de mínimos cuadrados sujetos a restricciones de la forma\n",
    "\n",
    "\\begin{align}\n",
    "\\text{min } \\frac{1}{2} \\sum_{1=1}^{m} \\rho (f_i(x)^2)\\\\\n",
    "\\text{sujeto a } l_b \\leq x \\leq u_b\n",
    "\\end{align}\n",
    "donde $f_i$ son funciones suaves de $R^N$ a $R$. El proposito de $\\rho$ es reducir la infuencia de outliers.\n",
    "\n",
    "Todos los métodos específicos de minimos cuadrados utilzian la matriz Jacobiana de $f$, y es muy recomendado computar esta matriz y pasarsela 'least_squares', de otra forma será estimado numericamente.\n",
    "\n",
    "Se considerará el 'Analysis of an Enzyme Reaction' **Agregar modelo como yo lo hice arriba y graficar**"
   ]
  },
  {
   "cell_type": "code",
   "execution_count": 47,
   "metadata": {},
   "outputs": [
    {
     "name": "stdout",
     "output_type": "stream",
     "text": [
      "`ftol` termination condition is satisfied.\n",
      "Function evaluations 131, initial cost 4.4383e+00, final cost 1.5375e-04, first-order optimality 4.52e-08.\n"
     ]
    }
   ],
   "source": [
    "from scipy.optimize import least_squares\n",
    "\n",
    "\n",
    "def model(x, u):\n",
    "    return x[0] * (u ** 2 + x[1] * u) / (u ** 2 + x[2] * u + x[3])\n",
    "\n",
    "\n",
    "def costo(x, u, y):\n",
    "    return model(x, u) - y\n",
    "\n",
    "\n",
    "def jac(x, u, y):\n",
    "    J = np.empty((u.size, x.size))\n",
    "    den = u ** 2 + x[2] * u + x[3]\n",
    "    num = u ** 2 + x[1] * u\n",
    "    J[:, 0] = num / den\n",
    "    J[:, 1] = x[0] * u / den\n",
    "    J[:, 2] = -x[0] * num * u / den ** 2\n",
    "    J[:, 3] = -x[0] * num / den ** 2\n",
    "    return J\n",
    "\n",
    "\n",
    "u = np.array([4.0, 2.0, 1.0, 5.0e-1, 2.5e-1, 1.67e-1,\n",
    "              1.25e-1, 1.0e-1, 8.33e-2, 7.14e-2, 6.25e-2])\n",
    "y = np.array([1.957e-1, 1.947e-1, 1.735e-1, 1.6e-1, 8.44e-2,\n",
    "              6.27e-2, 4.56e-2, 3.42e-2, 3.23e-2, 2.35e-2, 2.46e-2])\n",
    "x0 = np.array([2.5, 3.9, 4.15, 3.9])\n",
    "res = least_squares(costo, x0, jac=jac, bounds=(0, 100), args=(u, y), verbose=1)"
   ]
  },
  {
   "cell_type": "code",
   "execution_count": 48,
   "metadata": {},
   "outputs": [
    {
     "data": {
      "text/plain": [
       "array([0.192806  , 0.19130332, 0.12306046, 0.13607205])"
      ]
     },
     "execution_count": 48,
     "metadata": {},
     "output_type": "execute_result"
    }
   ],
   "source": [
    "res.x"
   ]
  },
  {
   "cell_type": "code",
   "execution_count": 51,
   "metadata": {},
   "outputs": [
    {
     "data": {
      "image/png": "[encoded data removed]",
      "text/plain": [
       "<Figure size 1080x360 with 1 Axes>"
      ]
     },
     "metadata": {
      "needs_background": "light"
     },
     "output_type": "display_data"
    }
   ],
   "source": [
    "import matplotlib.pyplot as plt\n",
    "plt.rcParams['figure.figsize'] = (15,5)\n",
    "\n",
    "u_test = np.linspace(0, 5)\n",
    "y_test = model(res.x, u_test)\n",
    "plt.plot(u, y, 'o', markersize=4, label='observaciones')\n",
    "plt.plot(u_test, y_test, label='modelo ajustado')\n",
    "plt.xlabel(\"u\")\n",
    "plt.ylabel(\"y\")\n",
    "plt.title('Regresión de mínimos cuadrados para análisis de reacción enzimática')\n",
    "plt.legend(loc='lower right')\n",
    "plt.show();"
   ]
  },
  {
   "cell_type": "markdown",
   "metadata": {},
   "source": [
    "### 2.3)  Mínimos cuadrados: repaso\n",
    "\n",
    "El problema lineal de los minimos cuadrados aparece en muchas ramas de las matemáticas. EN este problema un conjunto de coeficientes lineales se desean encontrar para poder ajustar el modelo a los datos.\n",
    "EN particular, se supone que los datos $y_i$ se relacionan con los datos $x_i$ por un conjunto de coeficientes $c_j$ y una función modelo $f_j(x_i)$ de la forma:\n",
    "\n",
    "\\begin{align}\n",
    "y_i = \\sum_{j} c_j f_j(x_i) + \\epsilon_i\n",
    "\\end{align}\n",
    "\n",
    "donde $\\epsilon_i$ representa incertezas en los datos. La estrategia de los mínimos cuadrados es escoger coeficientes $c_j$ que minimicen el error cuadrático, es decir\n",
    "\n",
    "\\begin{align}\n",
    "J(c) = \\sum_{i} \\left| y_i - \\sum_j c_j f_j (x_i) \\right| ^2\n",
    "\\end{align}\n",
    "\n",
    "Definiendo $\\{ A\\}_{ij} = f_j (x_i)$, notemos que el problema se puede escribir $y = Ac + \\epsilon$, y el problema posee solución cuando $A^H A$ es invertible y entonces\n",
    "\n",
    "\\begin{align}\n",
    "c = \\left( A^H A \\right)^{-1} A^H y = A^{\\dagger} y\n",
    "\\end{align}\n",
    "\n",
    "\n",
    "El comando 'linalg.lstsq' resolverá el problema de los mínimos cuadrados para $c$ dado $A$ e $y$. Para calcular $A^{\\dagger}$ se puede usar las funciones 'linalg.pinv' o 'linalg.pinv2'.\n",
    "\n",
    "El siguiente ejemplo muestra el uso de las funciones antes mencionadas para el modelo\n",
    "\n",
    "\\begin{align}\n",
    "y_i = c_1 e^{-x_i} + c_2 x_i\n",
    "\\end{align}\n",
    "con $x_i=0.1$, $i = 1,...,10$, $c_1 =5, c_2 = 4$. Se añade ruido a $y_i$ y los coeficientes $c_1, c_2$ son estimados usando minimos cuadrados lineal"
   ]
  },
  {
   "cell_type": "markdown",
   "metadata": {},
   "source": [
    "### 2.4) otra forma de hacer mínimos cuadrados"
   ]
  },
  {
   "cell_type": "code",
   "execution_count": 81,
   "metadata": {},
   "outputs": [
    {
     "name": "stdout",
     "output_type": "stream",
     "text": [
      "[4.72418709 4.49365377 4.3040911  4.15160023 4.0326533  3.94405818\n",
      " 3.88292652 3.84664482 3.8328483  3.83939721]\n",
      "[4.76918996 4.72630341 4.37983155 4.23211244 4.10643012 4.08969264\n",
      " 3.92382645 3.97702199 4.00121783 3.87730994]\n"
     ]
    }
   ],
   "source": [
    "from scipy import linalg\n",
    "\n",
    "c1, c2 = 5.0, 2.0\n",
    "i = np.r_[1:11]\n",
    "xi = 0.1 * i\n",
    "yi = c1 * np.exp(-xi) + c2 * xi\n",
    "zi = yi + 0.05 * np.max(yi) * np.random.rand(len(yi))\n",
    "print(yi)\n",
    "print(zi)"
   ]
  },
  {
   "cell_type": "code",
   "execution_count": 82,
   "metadata": {},
   "outputs": [
    {
     "name": "stdout",
     "output_type": "stream",
     "text": [
      "[[0.90483742 0.1       ]\n",
      " [0.81873075 0.2       ]\n",
      " [0.74081822 0.3       ]\n",
      " [0.67032005 0.4       ]\n",
      " [0.60653066 0.5       ]\n",
      " [0.54881164 0.6       ]\n",
      " [0.4965853  0.7       ]\n",
      " [0.44932896 0.8       ]\n",
      " [0.40656966 0.9       ]\n",
      " [0.36787944 1.        ]]\n",
      "[5.12088798 2.05504896] 0.03723253392970332 2 [2.58763467 1.02933937]\n",
      "[5.12088798 2.05504896]\n"
     ]
    }
   ],
   "source": [
    "A = np.c_[np.exp(-xi)[:, np.newaxis], xi[:, np.newaxis]]\n",
    "print(A)\n",
    "c, resid, rank, sigma = linalg.lstsq(A, zi)\n",
    "\n",
    "print(c, resid, rank, sigma)\n",
    "print(c)"
   ]
  },
  {
   "cell_type": "code",
   "execution_count": 83,
   "metadata": {},
   "outputs": [
    {
     "data": {
      "image/png": "[encoded data removed]",
      "text/plain": [
       "<Figure size 1080x360 with 1 Axes>"
      ]
     },
     "metadata": {
      "needs_background": "light"
     },
     "output_type": "display_data"
    }
   ],
   "source": [
    "xi2 = np.r_[0.1:1.0:100j]\n",
    "yi2 = c[0] * np.exp(-xi2) + c[1] * xi2\n",
    "plt.plot(xi, zi, 'x', xi2, yi2)\n",
    "plt.axis([0, 1.1, 3.0, 5.5])\n",
    "plt.xlabel('$x_i$')\n",
    "plt.title('Data fitting with linalg.lstsq')\n",
    "plt.show()"
   ]
  },
  {
   "cell_type": "markdown",
   "metadata": {},
   "source": [
    "### 2.5) Análisis de Fourier"
   ]
  },
  {
   "cell_type": "code",
   "execution_count": 84,
   "metadata": {
    "scrolled": false
   },
   "outputs": [
    {
     "data": {
      "image/png": "[encoded data removed]",
      "text/plain": [
       "<Figure size 1080x360 with 1 Axes>"
      ]
     },
     "metadata": {
      "needs_background": "light"
     },
     "output_type": "display_data"
    },
    {
     "data": {
      "image/png": "[encoded data removed]",
      "text/plain": [
       "<Figure size 1080x360 with 1 Axes>"
      ]
     },
     "metadata": {
      "needs_background": "light"
     },
     "output_type": "display_data"
    }
   ],
   "source": [
    "import scipy.fftpack\n",
    "\n",
    "N = 600\n",
    "T = 1.0 / 100.0\n",
    "\n",
    "x = np.linspace(0, N*T, N)\n",
    "y = np.sin(20 * 2.0*np.pi*x) + 0.5*np.cos(32 * 2.0*np.pi*x) + 1/(x+0.1)\n",
    "\n",
    "xf = np.linspace(0.0, 1.0/(2.0*T), int(N/2))\n",
    "yf = sp.fftpack.fft(y)\n",
    "\n",
    "\n",
    "plt.plot(x, y)\n",
    "plt.show()\n",
    "\n",
    "plt.plot(xf, 2.0/N * np.abs(yf[:N//2]))\n",
    "plt.show()"
   ]
  },
  {
   "cell_type": "code",
   "execution_count": null,
   "metadata": {},
   "outputs": [],
   "source": []
  }
 ],
 "metadata": {
  "kernelspec": {
   "display_name": "Python 3",
   "language": "python",
   "name": "python3"
  },
  "language_info": {
   "codemirror_mode": {
    "name": "ipython",
    "version": 3
   },
   "file_extension": ".py",
   "mimetype": "text/x-python",
   "name": "python",
   "nbconvert_exporter": "python",
   "pygments_lexer": "ipython3",
   "version": "3.7.3"
  }
 },
 "nbformat": 4,
 "nbformat_minor": 2
}
