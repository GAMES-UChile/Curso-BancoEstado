{
 "cells": [
  {
   "cell_type": "markdown",
   "metadata": {},
   "source": [
    "# Curso BancoEstado-CMM: Aprendizaje de Máquinas Avanzado \n",
    "**Autores:** Taco de Wolff y Felipe Tobar  \n",
    "\n",
    "**Fecha:** 11 octubre, 2019\n",
    "\n",
    "\n",
    "# Módulo 3 - Contenidos\n",
    "- Pandas y DataFrames\n",
    "- Acceso a SQL a través de Pandas\n",
    "\n",
    "Introduction to Pandas: http://gregreda.com/2013/10/26/intro-to-pandas-data-structures/\n",
    "DataFrame API: https://pandas.pydata.org/pandas-docs/stable/reference/api/pandas.DataFrame.html#pandas.DataFrame"
   ]
  },
  {
   "cell_type": "code",
   "execution_count": 132,
   "metadata": {},
   "outputs": [],
   "source": [
    "#paquetes preliminares\n",
    "from IPython.display import Markdown, display\n",
    "def printbf(string):\n",
    "    display(Markdown('**'+string+'**'))"
   ]
  },
  {
   "cell_type": "markdown",
   "metadata": {},
   "source": [
    "## 0) Estructuras de datos\n",
    "En Python tenemos distintas maneras de guardar y manejar estructuras de datos. Lo más básicos en que vamos a enfocar son los números (`3` o `4.5` o `8e10`), palabrras (`\"example\"`) y variables lógicas o _booleanas_ (`True` o `False`). Con estos elementos podemos construir estructuras de datos más complejos, por ejemplo listas, diccionarios o tuplas; los cuales veremos a continuación.\n",
    "\n",
    "Las **listas** y **tuplas** son objetos ordenados de múltiple elementos que pueden tener distintos tipos de datos, pueden considerarse coom arreglos de datos de cualquier tipo. Las tuplas son inmutables, lo que quiere decir que no pueden ser modificadas una vez que son creadas. Las listas, por el contrario, son mutables y se les puede agregar o elimilar elementos. Los índices tanto en las listas como en las tuplas son siempre son números ordenados. Los diccionarios por su parte son conjuntos de datos en los que los índices no son necesariamente ordenados y pueden ser otros tipos de datos, por ejemple palabras, o _strings,_ o números con decimales.\n",
    "\n",
    "Una lista puede ser construida directamente con sus valores usando los delimitadores `[` y `]`:"
   ]
  },
  {
   "cell_type": "code",
   "execution_count": 133,
   "metadata": {},
   "outputs": [
    {
     "data": {
      "text/plain": [
       "[3, 5, 2, 8, 1, 'texto']"
      ]
     },
     "execution_count": 133,
     "metadata": {},
     "output_type": "execute_result"
    }
   ],
   "source": [
    "lista = [3, 5, 2, 8, 1, 'texto']\n",
    "lista"
   ]
  },
  {
   "cell_type": "code",
   "execution_count": 134,
   "metadata": {},
   "outputs": [
    {
     "data": {
      "text/plain": [
       "8"
      ]
     },
     "execution_count": 134,
     "metadata": {},
     "output_type": "execute_result"
    }
   ],
   "source": [
    "#podemos acceder a un elemento de la lista de la siguiente forma \n",
    "lista[3]"
   ]
  },
  {
   "cell_type": "markdown",
   "metadata": {},
   "source": [
    "Así podemos acceder el quinto elemento (que tiene índice `4`) que contiene el valor `1`. Recordemos que los índices comienzan desde `0`, tal como los siglos: estamos en siglo 21 aunque el año está 2019.\n",
    "\n",
    "**TACO**: si la diferencia entre lista y tupla es que la primera es mutable, hay que mostrar un ejempo de ello. \n",
    "\n",
    "**TACO**: en una lista se puede modificar un valor?"
   ]
  },
  {
   "cell_type": "markdown",
   "metadata": {},
   "source": [
    "Las tuplas, por su parte, son como listas pero no se pueden agregar o eliminar elementos. En Python las tuplas son usadas por ejemplo para los parámetros y retornos de funciónes (que son básicamente listas de distintos tipos de datos). Una tupla se instancia con los delimitadores  `(` y `)`:"
   ]
  },
  {
   "cell_type": "code",
   "execution_count": 135,
   "metadata": {},
   "outputs": [
    {
     "data": {
      "text/plain": [
       "(5, 'text', [3.2, 4.5])"
      ]
     },
     "execution_count": 135,
     "metadata": {},
     "output_type": "execute_result"
    }
   ],
   "source": [
    "tup = (5, \"text\", [3.2, 4.5])\n",
    "tup"
   ]
  },
  {
   "cell_type": "code",
   "execution_count": 136,
   "metadata": {},
   "outputs": [
    {
     "data": {
      "text/plain": [
       "[3.2, 4.5]"
      ]
     },
     "execution_count": 136,
     "metadata": {},
     "output_type": "execute_result"
    }
   ],
   "source": [
    "tup[2]"
   ]
  },
  {
   "cell_type": "markdown",
   "metadata": {},
   "source": [
    "Finalmente, en los disccionarios podemos acceder elementos a través de textos u otros números no ordenados. Esta estructura de datos se instancia con los delimitadores `{` y `}`:"
   ]
  },
  {
   "cell_type": "code",
   "execution_count": 137,
   "metadata": {},
   "outputs": [
    {
     "data": {
      "text/plain": [
       "{'a': 5, 'b': 7, 9.3: 9}"
      ]
     },
     "execution_count": 137,
     "metadata": {},
     "output_type": "execute_result"
    }
   ],
   "source": [
    "diccionario = {'a': 5, 'b': 7, 9.3: 9}\n",
    "diccionario"
   ]
  },
  {
   "cell_type": "code",
   "execution_count": 138,
   "metadata": {},
   "outputs": [
    {
     "data": {
      "text/plain": [
       "5"
      ]
     },
     "execution_count": 138,
     "metadata": {},
     "output_type": "execute_result"
    }
   ],
   "source": [
    "diccionario['a']"
   ]
  },
  {
   "cell_type": "markdown",
   "metadata": {},
   "source": [
    "A continuación veremos cómo Pandas usa y extiende las estructuras de datos de Python."
   ]
  },
  {
   "cell_type": "markdown",
   "metadata": {},
   "source": [
    "## 1) Introducción\n",
    "El manejo adecuado de datos es (naturalmente) un aspecto fundamental en ciencia de datos. Como se ha visto, NumPy permite un manejo básico de datos a través de sus operaciones sobre arreglos. No obstante, las tareas referentes al manejo de datos requieren habitualmente de funcionalidades más especificas.\n",
    "\n",
    "### ¿Qué es Pandas?\n",
    "\n",
    "Pandas es una librería open source para análisis de datos. Python siempre ha sido fantástico para preparar y montar datos, sin embargo, Python no es necesariamente bueno cuando hay que analizar datos. Uno regularmente termina usando R o cargando la base de datos usando SQL (o peor aún, Excel). \n",
    "\n",
    "Pandas hace que Python pueda ser usado satisfactoriamente para analizar datos. Podemos considerar Pandas como una extensión de NumPy basada en software libre y dirigida específicamente a la manipulación y análisis de datos en Python.\n",
    "\n",
    "### ¿Cómo se relaciona Pandas con el resto de la suite de Python?\n",
    "\n",
    "Pandas provee estructuras y operaciones para el trabajo de tablas numéricas y series de tiempo, es estándar en aplicaciones de ciencia de datos (basadas en Python). Se usa en conjunto con librerías de computación numérica (como Numpy y SciPy), librerías de visualización (como `matplotlib` y `seaborn`), librerías de analítica (como `statsmodels` y `scikit-learn`), entre otras.\n",
    "\n",
    "El manejo de datos con Pandas toma los elementos de Numpy en cuanto a computación basada en arreglos y los expande al manejo de datos heterogéneos.\n",
    "\n"
   ]
  },
  {
   "cell_type": "markdown",
   "metadata": {},
   "source": [
    "Como convención, Pandas se importa de la siguiente manera:"
   ]
  },
  {
   "cell_type": "code",
   "execution_count": 139,
   "metadata": {},
   "outputs": [],
   "source": [
    "import pandas as pd"
   ]
  },
  {
   "cell_type": "markdown",
   "metadata": {},
   "source": [
    "## 2) Estructuras de datos\n",
    "\n",
    "Pandas propone dos nuevas estructuras de datos: Series y DataFrame, ambas construidas sobre NumPy (es decir, rápidas). Una serie es un objeto cuya estructura consiste en un arreglo unidimensional que contiene una sucesión de valores al cual se asocia un nuevo arreglo con las etiquetas de los datos, este último arreglo se denota como índice.\n",
    "\n",
    "### 2.1) Series\n",
    "\n",
    "Una Serie es un objeto unidimensional similar a un arreglo, lista, columna o tabla. La Serie tiene un índice asignado a cada ítem en la serie. Por defecto, cada ítem recibe un índice que va de 0 hasta N-1, donde N es el largo de la Serie.\n"
   ]
  },
  {
   "cell_type": "code",
   "execution_count": 140,
   "metadata": {},
   "outputs": [
    {
     "name": "stdout",
     "output_type": "stream",
     "text": [
      "0                 1.2\n",
      "1         BancoEstado\n",
      "2                3.14\n",
      "3         -1789710578\n",
      "4    ¡Hoy es viernes!\n",
      "dtype: object\n"
     ]
    }
   ],
   "source": [
    "# creamos una Serie con valores arbitrarios\n",
    "s = pd.Series([12/10, 'BancoEstado', 3.14, -1789710578, '¡Hoy es viernes!'])\n",
    "print(s)"
   ]
  },
  {
   "cell_type": "code",
   "execution_count": 141,
   "metadata": {},
   "outputs": [
    {
     "data": {
      "text/plain": [
       "'BancoEstado'"
      ]
     },
     "execution_count": 141,
     "metadata": {},
     "output_type": "execute_result"
    }
   ],
   "source": [
    "s[1]  # imprimir el tercero elemento con index dos"
   ]
  },
  {
   "cell_type": "markdown",
   "metadata": {},
   "source": [
    "### 2.2) Índices\n",
    "Los índices definen las referencias a los elementos o rangos de elementos en la serie. El índice puede ser numérico, textual, fechas, ..."
   ]
  },
  {
   "cell_type": "code",
   "execution_count": 142,
   "metadata": {},
   "outputs": [
    {
     "name": "stdout",
     "output_type": "stream",
     "text": [
      "[0 1 2 3 4]\n"
     ]
    }
   ],
   "source": [
    "#imprimir los indices  (valores por defecto)\n",
    "print(s.index.values)"
   ]
  },
  {
   "cell_type": "markdown",
   "metadata": {},
   "source": [
    "Podemos asignar nuestros propios valores de los índices de las siguientes formas, la primera es modificando el objeto `s.index`, es decir"
   ]
  },
  {
   "cell_type": "code",
   "execution_count": 143,
   "metadata": {},
   "outputs": [
    {
     "name": "stdout",
     "output_type": "stream",
     "text": [
      "i                 1.2\n",
      "n         BancoEstado\n",
      "d                3.14\n",
      "e         -1789710578\n",
      "x    ¡Hoy es viernes!\n",
      "dtype: object\n",
      "\n",
      "\n",
      "['i' 'n' 'd' 'e' 'x']\n"
     ]
    }
   ],
   "source": [
    "s.index = ['i','n','d','e','x']\n",
    "s\n",
    "print(s)\n",
    "print('\\n')\n",
    "print(s.index.values)"
   ]
  },
  {
   "cell_type": "markdown",
   "metadata": {},
   "source": [
    "Alternativamente, podemos construir la serie directamente con valores para sus índices:"
   ]
  },
  {
   "cell_type": "code",
   "execution_count": 144,
   "metadata": {},
   "outputs": [
    {
     "data": {
      "text/plain": [
       "A                   7\n",
       "Z         BancoEstado\n",
       "C                3.14\n",
       "Y         -1789710578\n",
       "E    ¡Hoy es viernes!\n",
       "dtype: object"
      ]
     },
     "execution_count": 144,
     "metadata": {},
     "output_type": "execute_result"
    }
   ],
   "source": [
    "s2 = pd.Series([7, 'BancoEstado', 3.14, -1789710578, '¡Hoy es viernes!'],\n",
    "              index=['A', 'Z', 'C', 'Y', 'E'])\n",
    "s2"
   ]
  },
  {
   "cell_type": "markdown",
   "metadata": {},
   "source": [
    "El constructor de la serie puede tomar un _diccionario_ también, pues recordemos que esta estructura de datos tiene valores arbitrarios para sus entradas. Veamos a  continuación la construcción de una serie que contiene los habitantes de las principales ciudades de Chile (en base a su población) desde un diccionario que contiene esa información. "
   ]
  },
  {
   "cell_type": "code",
   "execution_count": 145,
   "metadata": {
    "scrolled": true
   },
   "outputs": [
    {
     "data": {
      "text/plain": [
       "Santiago       6139087.0\n",
       "Concepción      972714.0\n",
       "Valparaíso      951311.0\n",
       "Coquimbo        399450.0\n",
       "Antofagasta          NaN\n",
       "dtype: float64"
      ]
     },
     "execution_count": 145,
     "metadata": {},
     "output_type": "execute_result"
    }
   ],
   "source": [
    "dicc = {'Santiago': 6139087, 'Concepción': 972714, 'Valparaíso': 951311, \n",
    "     'Coquimbo': 399450, 'Antofagasta': None}\n",
    "ciudades = pd.Series(dicc)\n",
    "ciudades"
   ]
  },
  {
   "cell_type": "markdown",
   "metadata": {},
   "source": [
    "Los índices sirven precisamente para referenciar (y cambiar!) los valores de la lista, en particular para _llamarlos_"
   ]
  },
  {
   "cell_type": "code",
   "execution_count": 146,
   "metadata": {},
   "outputs": [
    {
     "data": {
      "text/plain": [
       "6139087.0"
      ]
     },
     "execution_count": 146,
     "metadata": {},
     "output_type": "execute_result"
    }
   ],
   "source": [
    "#rescatar el valor para una ciudad\n",
    "ciudades['Santiago']"
   ]
  },
  {
   "cell_type": "code",
   "execution_count": 147,
   "metadata": {},
   "outputs": [
    {
     "name": "stdout",
     "output_type": "stream",
     "text": [
      "6200000.0\n"
     ]
    }
   ],
   "source": [
    "#reasigna el valor para una ciudad\n",
    "ciudades['Santiago'] = 6200000\n",
    "print(ciudades['Santiago'])"
   ]
  },
  {
   "cell_type": "code",
   "execution_count": 148,
   "metadata": {
    "scrolled": true
   },
   "outputs": [
    {
     "data": {
      "text/plain": [
       "Santiago      6200000.0\n",
       "Concepción     972714.0\n",
       "dtype: float64"
      ]
     },
     "execution_count": 148,
     "metadata": {},
     "output_type": "execute_result"
    }
   ],
   "source": [
    "#rescatar el valor para múltiples ciudades\n",
    "ciudades[['Santiago','Concepción']]"
   ]
  },
  {
   "cell_type": "markdown",
   "metadata": {},
   "source": [
    "Podemos incluso usar _indexacción booleana_ es decir:"
   ]
  },
  {
   "cell_type": "code",
   "execution_count": 149,
   "metadata": {},
   "outputs": [
    {
     "data": {
      "text/plain": [
       "Concepción    972714.0\n",
       "Valparaíso    951311.0\n",
       "Coquimbo      399450.0\n",
       "dtype: float64"
      ]
     },
     "execution_count": 149,
     "metadata": {},
     "output_type": "execute_result"
    }
   ],
   "source": [
    "ciudades[ciudades < 1000000]\n",
    "#TACO: como componemos operadores más expresivos"
   ]
  },
  {
   "cell_type": "markdown",
   "metadata": {},
   "source": [
    "para entender esto, veamos que el enunciado `ciudades > 500000` entrega un arreglo de variables booleanas (*True* y *False*) denotando las posiciones donde se cumple el enunciado. Luego, al pasar este arreglo booleano como _índices_ del arreglo, solo se reportan  los valores para las entradas _True_."
   ]
  },
  {
   "cell_type": "code",
   "execution_count": 150,
   "metadata": {
    "scrolled": false
   },
   "outputs": [
    {
     "name": "stdout",
     "output_type": "stream",
     "text": [
      "Arreglo de booleans es:\n",
      "Santiago        True\n",
      "Concepción      True\n",
      "Valparaíso      True\n",
      "Coquimbo       False\n",
      "Antofagasta    False\n",
      "dtype: bool\n",
      "\n",
      "\n",
      "Arreglo de ciudades es:\n",
      "Santiago      6200000.0\n",
      "Concepción     972714.0\n",
      "Valparaíso     951311.0\n",
      "dtype: float64\n"
     ]
    }
   ],
   "source": [
    "arreglo = ciudades > 500000\n",
    "print('Arreglo de booleans es:')\n",
    "print(arreglo)\n",
    "print('\\n')\n",
    "print('Arreglo de ciudades es:')\n",
    "print(ciudades[arreglo])"
   ]
  },
  {
   "cell_type": "markdown",
   "metadata": {},
   "source": [
    "Estos operadores booleanos sirven también para verificar si un índice pertenece a la serie, por ejemplo"
   ]
  },
  {
   "cell_type": "code",
   "execution_count": 151,
   "metadata": {},
   "outputs": [
    {
     "name": "stdout",
     "output_type": "stream",
     "text": [
      "True\n",
      "False\n"
     ]
    }
   ],
   "source": [
    "print('Santiago' in ciudades)\n",
    "print('Peor es Nada' in ciudades)"
   ]
  },
  {
   "cell_type": "markdown",
   "metadata": {},
   "source": [
    "Podemos incluso asignar rangos de fechas a nuestros índices usando el\n",
    "método `pandas.date_range`"
   ]
  },
  {
   "cell_type": "code",
   "execution_count": 152,
   "metadata": {
    "scrolled": false
   },
   "outputs": [
    {
     "data": {
      "text/plain": [
       "2019-01-01      7.00\n",
       "2019-01-02      5.00\n",
       "2019-01-03      3.14\n",
       "2019-01-04   -178.00\n",
       "2019-01-05      0.27\n",
       "2019-01-06     55.00\n",
       "Freq: D, dtype: float64"
      ]
     },
     "execution_count": 152,
     "metadata": {},
     "output_type": "execute_result"
    }
   ],
   "source": [
    "serie_con_fecha= pd.Series([7, 5, 3.14, -178, 0.27, 55])\n",
    "serie_con_fecha.index = pd.date_range(start='2019-01-01', end='2019-01-06', freq='D')\n",
    "serie_con_fecha"
   ]
  },
  {
   "cell_type": "markdown",
   "metadata": {},
   "source": [
    "Finalmente, veamos que podemos asignar multiples índices usando  de fechas a nuestros índices usando la método `pandas.MultiIndex.from_arrays`"
   ]
  },
  {
   "cell_type": "code",
   "execution_count": 153,
   "metadata": {},
   "outputs": [
    {
     "data": {
      "text/plain": [
       "0  a      7.00\n",
       "   b      5.00\n",
       "   c      3.14\n",
       "1  a   -178.00\n",
       "   b      0.27\n",
       "   c     55.00\n",
       "dtype: float64"
      ]
     },
     "execution_count": 153,
     "metadata": {},
     "output_type": "execute_result"
    }
   ],
   "source": [
    "serie_multi = serie_con_fecha #reciclamos la serie anterior\n",
    "serie_multi.index = pd.MultiIndex.from_arrays(\n",
    "    [[0,0,0,1,1,1], ['a','b','c','a','b','c']])\n",
    "serie_multi"
   ]
  },
  {
   "cell_type": "markdown",
   "metadata": {},
   "source": [
    "La serie tiene dos índices. Un índice principal (`0` o `1`) y uno secundarios (`a`, `b`, `c`). Para acceder una sola fila, necesitamos entregar dos índices. Primero, accedemos al primer índice:"
   ]
  },
  {
   "cell_type": "code",
   "execution_count": 154,
   "metadata": {},
   "outputs": [
    {
     "data": {
      "text/plain": [
       "a   -178.00\n",
       "b      0.27\n",
       "c     55.00\n",
       "dtype: float64"
      ]
     },
     "execution_count": 154,
     "metadata": {},
     "output_type": "execute_result"
    }
   ],
   "source": [
    "serie_multi[1]"
   ]
  },
  {
   "cell_type": "markdown",
   "metadata": {},
   "source": [
    "Después podemos acceder una fila sola con el segundo índice:"
   ]
  },
  {
   "cell_type": "code",
   "execution_count": 155,
   "metadata": {},
   "outputs": [
    {
     "data": {
      "text/plain": [
       "0.27"
      ]
     },
     "execution_count": 155,
     "metadata": {},
     "output_type": "execute_result"
    }
   ],
   "source": [
    "serie_multi[1,'b']"
   ]
  },
  {
   "cell_type": "markdown",
   "metadata": {},
   "source": [
    "Es posible seleccionar el segundo índice solo también, por usar el cáracter `:` que signífica seleccionar todo de ese índice."
   ]
  },
  {
   "cell_type": "code",
   "execution_count": 156,
   "metadata": {},
   "outputs": [
    {
     "data": {
      "text/plain": [
       "0    5.00\n",
       "1    0.27\n",
       "dtype: float64"
      ]
     },
     "execution_count": 156,
     "metadata": {},
     "output_type": "execute_result"
    }
   ],
   "source": [
    "serie_multi[:,'b']"
   ]
  },
  {
   "cell_type": "markdown",
   "metadata": {},
   "source": [
    "Normalmente no agregamos datos a Series o DataFrames y solo cambiamos la vista a nuestros datos. Por ejemplo, cargamos nuestros datos desde un archivo de CSV y después seleccionamos parte de nuestros datos según una condición. Pero, a veces queremos construir una serie poco a poco, agregando filas. El método recomendado es agregar todo a una lista o diccionario de Python y después construir la serie:"
   ]
  },
  {
   "cell_type": "code",
   "execution_count": 157,
   "metadata": {},
   "outputs": [
    {
     "data": {
      "text/plain": [
       "0     50\n",
       "1    100\n",
       "2    150\n",
       "3    200\n",
       "dtype: int64"
      ]
     },
     "execution_count": 157,
     "metadata": {},
     "output_type": "execute_result"
    }
   ],
   "source": [
    "serie = pd.Series([50, 100, 150, 200], index=range(0,4))\n",
    "serie"
   ]
  },
  {
   "cell_type": "markdown",
   "metadata": {},
   "source": [
    "Si luego queremos agregar más filas, podemos agregar otra Serie usando en método `Series.append`. ¡Atención con los índices!"
   ]
  },
  {
   "cell_type": "code",
   "execution_count": 158,
   "metadata": {
    "scrolled": true
   },
   "outputs": [],
   "source": [
    "serie = serie.append(pd.Series([250, 300, 350, 400], index=range(4,8)))\n"
   ]
  },
  {
   "cell_type": "markdown",
   "metadata": {},
   "source": [
    "TACO: ¿cómo remover entradas de la serie?"
   ]
  },
  {
   "cell_type": "markdown",
   "metadata": {},
   "source": [
    "### 2.3) Acceder los elementos internos de la series\n",
    "Internamente, los datos en objetos de Pandas (tales como `Index`, `Series`, `DataFrame`) son arreglos de datos, y Pandas sólo provee una manera ordenada de manejarlos. Con `array` obtenemos un tipo de datos fundamental de Pandas que contiene los valores de interés. Mientras, `values` nos da los elementos en formato de NumPy. También podemos acceder a los valores de los índices."
   ]
  },
  {
   "cell_type": "code",
   "execution_count": 159,
   "metadata": {},
   "outputs": [
    {
     "data": {
      "text/plain": [
       "<PandasArray>\n",
       "[7.0, 5.0, 3.14, -178.0, 0.27, 55.0]\n",
       "Length: 6, dtype: float64"
      ]
     },
     "execution_count": 159,
     "metadata": {},
     "output_type": "execute_result"
    }
   ],
   "source": [
    "serie_multi.array"
   ]
  },
  {
   "cell_type": "code",
   "execution_count": 160,
   "metadata": {},
   "outputs": [
    {
     "data": {
      "text/plain": [
       "array([   7.  ,    5.  ,    3.14, -178.  ,    0.27,   55.  ])"
      ]
     },
     "execution_count": 160,
     "metadata": {},
     "output_type": "execute_result"
    }
   ],
   "source": [
    "serie_multi.values"
   ]
  },
  {
   "cell_type": "code",
   "execution_count": 161,
   "metadata": {},
   "outputs": [
    {
     "data": {
      "text/plain": [
       "array([(0, 'a'), (0, 'b'), (0, 'c'), (1, 'a'), (1, 'b'), (1, 'c')],\n",
       "      dtype=object)"
      ]
     },
     "execution_count": 161,
     "metadata": {},
     "output_type": "execute_result"
    }
   ],
   "source": [
    "serie_multi.index.values"
   ]
  },
  {
   "cell_type": "markdown",
   "metadata": {},
   "source": [
    "## 3) DataFrame\n",
    "Una serie representa un arreglo unidimensional enriquecido por índices y manejo de valores faltantes. Un `DataFrame` por su parte, representa una _tabla_ o arreglo bi-dimensional, donde los datos están contenidos en una estructura ordenada y basada en filas y columnas, las que pueden ser de distintos tipos (`int`, `str`, `bool`).\n",
    "\n",
    "Un `DataFrame` posee tanto índices para sus columnas y sus filas. Al igual que la Serie, se puede observar como un diccionario de NumPy donde cada campo de valores es una serie, cada una de las cuales, comparten el mismo índice. Si bien esta noción describe un objeto 2-dimensional, es posible obtener representaciones dimensionalmente superiores mediante una indexación adecuada (un proceso llamado _unfolding)_.\n",
    "\n",
    "Existen varias formas de construir un `DataFrame`, una manera conveniente, consiste en definir un diccionario de listas, todas de igual longitud:"
   ]
  },
  {
   "cell_type": "code",
   "execution_count": 162,
   "metadata": {},
   "outputs": [
    {
     "data": {
      "text/html": [
       "<div>\n",
       "<style scoped>\n",
       "    .dataframe tbody tr th:only-of-type {\n",
       "        vertical-align: middle;\n",
       "    }\n",
       "\n",
       "    .dataframe tbody tr th {\n",
       "        vertical-align: top;\n",
       "    }\n",
       "\n",
       "    .dataframe thead th {\n",
       "        text-align: right;\n",
       "    }\n",
       "</style>\n",
       "<table border=\"1\" class=\"dataframe\">\n",
       "  <thead>\n",
       "    <tr style=\"text-align: right;\">\n",
       "      <th></th>\n",
       "      <th>ciudad</th>\n",
       "      <th>año</th>\n",
       "      <th>pob</th>\n",
       "    </tr>\n",
       "  </thead>\n",
       "  <tbody>\n",
       "    <tr>\n",
       "      <th>0</th>\n",
       "      <td>Temuco</td>\n",
       "      <td>2000</td>\n",
       "      <td>1.5</td>\n",
       "    </tr>\n",
       "    <tr>\n",
       "      <th>1</th>\n",
       "      <td>Temuco</td>\n",
       "      <td>2001</td>\n",
       "      <td>1.7</td>\n",
       "    </tr>\n",
       "    <tr>\n",
       "      <th>2</th>\n",
       "      <td>Temuco</td>\n",
       "      <td>2002</td>\n",
       "      <td>3.6</td>\n",
       "    </tr>\n",
       "    <tr>\n",
       "      <th>3</th>\n",
       "      <td>Iquique</td>\n",
       "      <td>2001</td>\n",
       "      <td>2.4</td>\n",
       "    </tr>\n",
       "    <tr>\n",
       "      <th>4</th>\n",
       "      <td>Iquique</td>\n",
       "      <td>2002</td>\n",
       "      <td>2.9</td>\n",
       "    </tr>\n",
       "    <tr>\n",
       "      <th>5</th>\n",
       "      <td>Iquique</td>\n",
       "      <td>2003</td>\n",
       "      <td>3.2</td>\n",
       "    </tr>\n",
       "  </tbody>\n",
       "</table>\n",
       "</div>"
      ],
      "text/plain": [
       "    ciudad   año  pob\n",
       "0   Temuco  2000  1.5\n",
       "1   Temuco  2001  1.7\n",
       "2   Temuco  2002  3.6\n",
       "3  Iquique  2001  2.4\n",
       "4  Iquique  2002  2.9\n",
       "5  Iquique  2003  3.2"
      ]
     },
     "execution_count": 162,
     "metadata": {},
     "output_type": "execute_result"
    }
   ],
   "source": [
    "data = {'ciudad': ['Temuco', 'Temuco', 'Temuco', 'Iquique', 'Iquique', 'Iquique'],\n",
    "        'año': [2000, 2001, 2002, 2001, 2002, 2003],\n",
    "        'pob': [1.5, 1.7, 3.6, 2.4, 2.9, 3.2]}\n",
    "\n",
    "df = pd.DataFrame(data)\n",
    "df"
   ]
  },
  {
   "cell_type": "markdown",
   "metadata": {},
   "source": [
    "A través del comando `shape` podemos ver que el tamaño del DataFrame es de seis filas y tres columnas:"
   ]
  },
  {
   "cell_type": "code",
   "execution_count": 163,
   "metadata": {},
   "outputs": [
    {
     "data": {
      "text/plain": [
       "(6, 3)"
      ]
     },
     "execution_count": 163,
     "metadata": {},
     "output_type": "execute_result"
    }
   ],
   "source": [
    "df.shape"
   ]
  },
  {
   "cell_type": "markdown",
   "metadata": {},
   "source": [
    "Una manera de visualizar las primeras filas de datos es la función `head`. Esta es muy útil para ver todas las columnas y averiguar si los datos han sido bien cargados. También existe la función `tail` que nos da los últimas filas."
   ]
  },
  {
   "cell_type": "code",
   "execution_count": 164,
   "metadata": {},
   "outputs": [
    {
     "data": {
      "text/html": [
       "<div>\n",
       "<style scoped>\n",
       "    .dataframe tbody tr th:only-of-type {\n",
       "        vertical-align: middle;\n",
       "    }\n",
       "\n",
       "    .dataframe tbody tr th {\n",
       "        vertical-align: top;\n",
       "    }\n",
       "\n",
       "    .dataframe thead th {\n",
       "        text-align: right;\n",
       "    }\n",
       "</style>\n",
       "<table border=\"1\" class=\"dataframe\">\n",
       "  <thead>\n",
       "    <tr style=\"text-align: right;\">\n",
       "      <th></th>\n",
       "      <th>ciudad</th>\n",
       "      <th>año</th>\n",
       "      <th>pob</th>\n",
       "    </tr>\n",
       "  </thead>\n",
       "  <tbody>\n",
       "    <tr>\n",
       "      <th>0</th>\n",
       "      <td>Temuco</td>\n",
       "      <td>2000</td>\n",
       "      <td>1.5</td>\n",
       "    </tr>\n",
       "    <tr>\n",
       "      <th>1</th>\n",
       "      <td>Temuco</td>\n",
       "      <td>2001</td>\n",
       "      <td>1.7</td>\n",
       "    </tr>\n",
       "    <tr>\n",
       "      <th>2</th>\n",
       "      <td>Temuco</td>\n",
       "      <td>2002</td>\n",
       "      <td>3.6</td>\n",
       "    </tr>\n",
       "  </tbody>\n",
       "</table>\n",
       "</div>"
      ],
      "text/plain": [
       "   ciudad   año  pob\n",
       "0  Temuco  2000  1.5\n",
       "1  Temuco  2001  1.7\n",
       "2  Temuco  2002  3.6"
      ]
     },
     "metadata": {},
     "output_type": "display_data"
    },
    {
     "data": {
      "text/html": [
       "<div>\n",
       "<style scoped>\n",
       "    .dataframe tbody tr th:only-of-type {\n",
       "        vertical-align: middle;\n",
       "    }\n",
       "\n",
       "    .dataframe tbody tr th {\n",
       "        vertical-align: top;\n",
       "    }\n",
       "\n",
       "    .dataframe thead th {\n",
       "        text-align: right;\n",
       "    }\n",
       "</style>\n",
       "<table border=\"1\" class=\"dataframe\">\n",
       "  <thead>\n",
       "    <tr style=\"text-align: right;\">\n",
       "      <th></th>\n",
       "      <th>ciudad</th>\n",
       "      <th>año</th>\n",
       "      <th>pob</th>\n",
       "    </tr>\n",
       "  </thead>\n",
       "  <tbody>\n",
       "    <tr>\n",
       "      <th>4</th>\n",
       "      <td>Iquique</td>\n",
       "      <td>2002</td>\n",
       "      <td>2.9</td>\n",
       "    </tr>\n",
       "    <tr>\n",
       "      <th>5</th>\n",
       "      <td>Iquique</td>\n",
       "      <td>2003</td>\n",
       "      <td>3.2</td>\n",
       "    </tr>\n",
       "  </tbody>\n",
       "</table>\n",
       "</div>"
      ],
      "text/plain": [
       "    ciudad   año  pob\n",
       "4  Iquique  2002  2.9\n",
       "5  Iquique  2003  3.2"
      ]
     },
     "metadata": {},
     "output_type": "display_data"
    }
   ],
   "source": [
    "display(df.head(3))\n",
    "display(df.tail(2))"
   ]
  },
  {
   "cell_type": "markdown",
   "metadata": {},
   "source": [
    "Los datos disponibles de DataFrame de Pandas son por ejemplo el índice `index`, los nombres de columnas `columns`, todo los valores en el DataFrame en formato de NumPy `values`, los números de valores por columna `count()`, y información de nuestro DataFrame `info()`."
   ]
  },
  {
   "cell_type": "code",
   "execution_count": 165,
   "metadata": {},
   "outputs": [
    {
     "data": {
      "text/markdown": [
       "**El objecto de índices:**"
      ],
      "text/plain": [
       "<IPython.core.display.Markdown object>"
      ]
     },
     "metadata": {},
     "output_type": "display_data"
    },
    {
     "name": "stdout",
     "output_type": "stream",
     "text": [
      "RangeIndex(start=0, stop=6, step=1)\n"
     ]
    },
    {
     "data": {
      "text/markdown": [
       "**Los valores de índices:**"
      ],
      "text/plain": [
       "<IPython.core.display.Markdown object>"
      ]
     },
     "metadata": {},
     "output_type": "display_data"
    },
    {
     "name": "stdout",
     "output_type": "stream",
     "text": [
      "[0 1 2 3 4 5]\n"
     ]
    },
    {
     "data": {
      "text/markdown": [
       "**Las columnas:**"
      ],
      "text/plain": [
       "<IPython.core.display.Markdown object>"
      ]
     },
     "metadata": {},
     "output_type": "display_data"
    },
    {
     "name": "stdout",
     "output_type": "stream",
     "text": [
      "Index(['ciudad', 'año', 'pob'], dtype='object')\n"
     ]
    },
    {
     "data": {
      "text/markdown": [
       "**Los valores del DataFrame:**"
      ],
      "text/plain": [
       "<IPython.core.display.Markdown object>"
      ]
     },
     "metadata": {},
     "output_type": "display_data"
    },
    {
     "name": "stdout",
     "output_type": "stream",
     "text": [
      "[['Temuco' 2000 1.5]\n",
      " ['Temuco' 2001 1.7]\n",
      " ['Temuco' 2002 3.6]\n",
      " ['Iquique' 2001 2.4]\n",
      " ['Iquique' 2002 2.9]\n",
      " ['Iquique' 2003 3.2]]\n"
     ]
    },
    {
     "data": {
      "text/markdown": [
       "**Cantidad de filas por columna:**"
      ],
      "text/plain": [
       "<IPython.core.display.Markdown object>"
      ]
     },
     "metadata": {},
     "output_type": "display_data"
    },
    {
     "name": "stdout",
     "output_type": "stream",
     "text": [
      "ciudad    6\n",
      "año       6\n",
      "pob       6\n",
      "dtype: int64\n"
     ]
    },
    {
     "data": {
      "text/markdown": [
       "**Más información:**"
      ],
      "text/plain": [
       "<IPython.core.display.Markdown object>"
      ]
     },
     "metadata": {},
     "output_type": "display_data"
    },
    {
     "name": "stdout",
     "output_type": "stream",
     "text": [
      "<class 'pandas.core.frame.DataFrame'>\n",
      "RangeIndex: 6 entries, 0 to 5\n",
      "Data columns (total 3 columns):\n",
      "ciudad    6 non-null object\n",
      "año       6 non-null int64\n",
      "pob       6 non-null float64\n",
      "dtypes: float64(1), int64(1), object(1)\n",
      "memory usage: 224.0+ bytes\n"
     ]
    }
   ],
   "source": [
    "#usamos nuestra función printbf\n",
    "\n",
    "printbf(\"El objecto de índices:\")\n",
    "print(df.index)\n",
    "\n",
    "printbf(\"Los valores de índices:\")\n",
    "print(df.index.values)\n",
    "\n",
    "printbf(\"Las columnas:\")\n",
    "print(df.columns)\n",
    "\n",
    "printbf(\"Los valores del DataFrame:\")\n",
    "print(df.values)\n",
    "\n",
    "printbf(\"Cantidad de filas por columna:\")\n",
    "print(df.count())\n",
    "\n",
    "printbf(\"Más información:\")\n",
    "df.info()"
   ]
  },
  {
   "cell_type": "markdown",
   "metadata": {},
   "source": [
    "Para ver estadísticas simples de nuestros datos, usamos la función `describe()`:"
   ]
  },
  {
   "cell_type": "code",
   "execution_count": 166,
   "metadata": {
    "scrolled": true
   },
   "outputs": [
    {
     "data": {
      "text/markdown": [
       "**Descripción de nuestro DF usando `DataFrame.describe()`:**"
      ],
      "text/plain": [
       "<IPython.core.display.Markdown object>"
      ]
     },
     "metadata": {},
     "output_type": "display_data"
    },
    {
     "data": {
      "text/html": [
       "<div>\n",
       "<style scoped>\n",
       "    .dataframe tbody tr th:only-of-type {\n",
       "        vertical-align: middle;\n",
       "    }\n",
       "\n",
       "    .dataframe tbody tr th {\n",
       "        vertical-align: top;\n",
       "    }\n",
       "\n",
       "    .dataframe thead th {\n",
       "        text-align: right;\n",
       "    }\n",
       "</style>\n",
       "<table border=\"1\" class=\"dataframe\">\n",
       "  <thead>\n",
       "    <tr style=\"text-align: right;\">\n",
       "      <th></th>\n",
       "      <th>año</th>\n",
       "      <th>pob</th>\n",
       "    </tr>\n",
       "  </thead>\n",
       "  <tbody>\n",
       "    <tr>\n",
       "      <th>count</th>\n",
       "      <td>6.000000</td>\n",
       "      <td>6.000000</td>\n",
       "    </tr>\n",
       "    <tr>\n",
       "      <th>mean</th>\n",
       "      <td>2001.500000</td>\n",
       "      <td>2.550000</td>\n",
       "    </tr>\n",
       "    <tr>\n",
       "      <th>std</th>\n",
       "      <td>1.048809</td>\n",
       "      <td>0.836062</td>\n",
       "    </tr>\n",
       "    <tr>\n",
       "      <th>min</th>\n",
       "      <td>2000.000000</td>\n",
       "      <td>1.500000</td>\n",
       "    </tr>\n",
       "    <tr>\n",
       "      <th>25%</th>\n",
       "      <td>2001.000000</td>\n",
       "      <td>1.875000</td>\n",
       "    </tr>\n",
       "    <tr>\n",
       "      <th>50%</th>\n",
       "      <td>2001.500000</td>\n",
       "      <td>2.650000</td>\n",
       "    </tr>\n",
       "    <tr>\n",
       "      <th>75%</th>\n",
       "      <td>2002.000000</td>\n",
       "      <td>3.125000</td>\n",
       "    </tr>\n",
       "    <tr>\n",
       "      <th>max</th>\n",
       "      <td>2003.000000</td>\n",
       "      <td>3.600000</td>\n",
       "    </tr>\n",
       "  </tbody>\n",
       "</table>\n",
       "</div>"
      ],
      "text/plain": [
       "               año       pob\n",
       "count     6.000000  6.000000\n",
       "mean   2001.500000  2.550000\n",
       "std       1.048809  0.836062\n",
       "min    2000.000000  1.500000\n",
       "25%    2001.000000  1.875000\n",
       "50%    2001.500000  2.650000\n",
       "75%    2002.000000  3.125000\n",
       "max    2003.000000  3.600000"
      ]
     },
     "execution_count": 166,
     "metadata": {},
     "output_type": "execute_result"
    }
   ],
   "source": [
    "printbf(\"Descripción de nuestro DF usando `DataFrame.describe()`:\")\n",
    "df.describe()"
   ]
  },
  {
   "cell_type": "markdown",
   "metadata": {},
   "source": [
    "### 3.1) Seleccionar datos\n",
    "Existen al menos tres formas de accede a los elementos de una DataFrame. La primera manera es usando el índice (`variable[índice]`), lo cual entrega una columna. Entonces, el índice debe ser el nombre de la columna y el retorno será la Serie que representa la columna.\n",
    "\n",
    "Además tenemos las dos funciones `loc` y `iloc` que pueden acceder filas, columnas o celdas con sus nombres (`loc`) o con sus posiciones (`iloc`). Estas funciones reciben dos indíces, en que el primero selecciona la fila y el segundo la columna. El segundo es opcional.\n",
    "\n",
    "#### 3.1.1) Selectionar con el índice\n",
    "Usando el primer método, podemos seleccinar la columna 'año' nos entrega la siguiente serie"
   ]
  },
  {
   "cell_type": "code",
   "execution_count": 167,
   "metadata": {},
   "outputs": [
    {
     "data": {
      "text/plain": [
       "0    1.5\n",
       "1    1.7\n",
       "2    3.6\n",
       "3    2.4\n",
       "4    2.9\n",
       "5    3.2\n",
       "Name: pob, dtype: float64"
      ]
     },
     "execution_count": 167,
     "metadata": {},
     "output_type": "execute_result"
    }
   ],
   "source": [
    "df['pob']"
   ]
  },
  {
   "cell_type": "markdown",
   "metadata": {},
   "source": [
    "Cuando se instancia un objeto `Pandas.DataFrame` se crean atributos con los nombres de las columnas, consecuentemente, es posible llamar directamente usando este atributo. Es decri, "
   ]
  },
  {
   "cell_type": "code",
   "execution_count": 168,
   "metadata": {},
   "outputs": [
    {
     "data": {
      "text/plain": [
       "0    1.5\n",
       "1    1.7\n",
       "2    3.6\n",
       "3    2.4\n",
       "4    2.9\n",
       "5    3.2\n",
       "Name: pob, dtype: float64"
      ]
     },
     "execution_count": 168,
     "metadata": {},
     "output_type": "execute_result"
    }
   ],
   "source": [
    "df.pob"
   ]
  },
  {
   "cell_type": "markdown",
   "metadata": {},
   "source": [
    "#### 3.1.2) Selectionar con `loc`\n",
    "Para obtener una selección usando etiquetas, reemplazamos los índices numéricos con nombres:"
   ]
  },
  {
   "cell_type": "code",
   "execution_count": 169,
   "metadata": {},
   "outputs": [
    {
     "data": {
      "text/html": [
       "<div>\n",
       "<style scoped>\n",
       "    .dataframe tbody tr th:only-of-type {\n",
       "        vertical-align: middle;\n",
       "    }\n",
       "\n",
       "    .dataframe tbody tr th {\n",
       "        vertical-align: top;\n",
       "    }\n",
       "\n",
       "    .dataframe thead th {\n",
       "        text-align: right;\n",
       "    }\n",
       "</style>\n",
       "<table border=\"1\" class=\"dataframe\">\n",
       "  <thead>\n",
       "    <tr style=\"text-align: right;\">\n",
       "      <th></th>\n",
       "      <th>ciudad</th>\n",
       "      <th>año</th>\n",
       "      <th>pob</th>\n",
       "    </tr>\n",
       "  </thead>\n",
       "  <tbody>\n",
       "    <tr>\n",
       "      <th>A</th>\n",
       "      <td>Temuco</td>\n",
       "      <td>2000</td>\n",
       "      <td>1.5</td>\n",
       "    </tr>\n",
       "    <tr>\n",
       "      <th>B</th>\n",
       "      <td>Temuco</td>\n",
       "      <td>2001</td>\n",
       "      <td>1.7</td>\n",
       "    </tr>\n",
       "    <tr>\n",
       "      <th>C</th>\n",
       "      <td>Temuco</td>\n",
       "      <td>2002</td>\n",
       "      <td>3.6</td>\n",
       "    </tr>\n",
       "    <tr>\n",
       "      <th>D</th>\n",
       "      <td>Iquique</td>\n",
       "      <td>2001</td>\n",
       "      <td>2.4</td>\n",
       "    </tr>\n",
       "    <tr>\n",
       "      <th>E</th>\n",
       "      <td>Iquique</td>\n",
       "      <td>2002</td>\n",
       "      <td>2.9</td>\n",
       "    </tr>\n",
       "    <tr>\n",
       "      <th>F</th>\n",
       "      <td>Iquique</td>\n",
       "      <td>2003</td>\n",
       "      <td>3.2</td>\n",
       "    </tr>\n",
       "  </tbody>\n",
       "</table>\n",
       "</div>"
      ],
      "text/plain": [
       "    ciudad   año  pob\n",
       "A   Temuco  2000  1.5\n",
       "B   Temuco  2001  1.7\n",
       "C   Temuco  2002  3.6\n",
       "D  Iquique  2001  2.4\n",
       "E  Iquique  2002  2.9\n",
       "F  Iquique  2003  3.2"
      ]
     },
     "execution_count": 169,
     "metadata": {},
     "output_type": "execute_result"
    }
   ],
   "source": [
    "df.index = ['A','B','C','D','E','F']\n",
    "df"
   ]
  },
  {
   "cell_type": "markdown",
   "metadata": {},
   "source": [
    "Así seleccionamos una fila:"
   ]
  },
  {
   "cell_type": "code",
   "execution_count": 170,
   "metadata": {},
   "outputs": [
    {
     "data": {
      "text/plain": [
       "ciudad    Iquique\n",
       "año          2001\n",
       "pob           2.4\n",
       "Name: D, dtype: object"
      ]
     },
     "execution_count": 170,
     "metadata": {},
     "output_type": "execute_result"
    }
   ],
   "source": [
    "df.loc['D']"
   ]
  },
  {
   "cell_type": "markdown",
   "metadata": {},
   "source": [
    "O incluso múltiple filas:"
   ]
  },
  {
   "cell_type": "code",
   "execution_count": 171,
   "metadata": {},
   "outputs": [
    {
     "data": {
      "text/html": [
       "<div>\n",
       "<style scoped>\n",
       "    .dataframe tbody tr th:only-of-type {\n",
       "        vertical-align: middle;\n",
       "    }\n",
       "\n",
       "    .dataframe tbody tr th {\n",
       "        vertical-align: top;\n",
       "    }\n",
       "\n",
       "    .dataframe thead th {\n",
       "        text-align: right;\n",
       "    }\n",
       "</style>\n",
       "<table border=\"1\" class=\"dataframe\">\n",
       "  <thead>\n",
       "    <tr style=\"text-align: right;\">\n",
       "      <th></th>\n",
       "      <th>ciudad</th>\n",
       "      <th>año</th>\n",
       "      <th>pob</th>\n",
       "    </tr>\n",
       "  </thead>\n",
       "  <tbody>\n",
       "    <tr>\n",
       "      <th>B</th>\n",
       "      <td>Temuco</td>\n",
       "      <td>2001</td>\n",
       "      <td>1.7</td>\n",
       "    </tr>\n",
       "    <tr>\n",
       "      <th>C</th>\n",
       "      <td>Temuco</td>\n",
       "      <td>2002</td>\n",
       "      <td>3.6</td>\n",
       "    </tr>\n",
       "    <tr>\n",
       "      <th>D</th>\n",
       "      <td>Iquique</td>\n",
       "      <td>2001</td>\n",
       "      <td>2.4</td>\n",
       "    </tr>\n",
       "    <tr>\n",
       "      <th>E</th>\n",
       "      <td>Iquique</td>\n",
       "      <td>2002</td>\n",
       "      <td>2.9</td>\n",
       "    </tr>\n",
       "  </tbody>\n",
       "</table>\n",
       "</div>"
      ],
      "text/plain": [
       "    ciudad   año  pob\n",
       "B   Temuco  2001  1.7\n",
       "C   Temuco  2002  3.6\n",
       "D  Iquique  2001  2.4\n",
       "E  Iquique  2002  2.9"
      ]
     },
     "execution_count": 171,
     "metadata": {},
     "output_type": "execute_result"
    }
   ],
   "source": [
    "df.loc['B':'E']"
   ]
  },
  {
   "cell_type": "markdown",
   "metadata": {},
   "source": [
    "Como podemos entregar valores tanto para las filas como para las columnas, podemos reportar, en particular, todas las filas y solo la columna `año`:"
   ]
  },
  {
   "cell_type": "code",
   "execution_count": 172,
   "metadata": {},
   "outputs": [
    {
     "data": {
      "text/plain": [
       "A    2000\n",
       "B    2001\n",
       "C    2002\n",
       "D    2001\n",
       "E    2002\n",
       "F    2003\n",
       "Name: año, dtype: int64"
      ]
     },
     "execution_count": 172,
     "metadata": {},
     "output_type": "execute_result"
    }
   ],
   "source": [
    "df.loc[:, 'año']"
   ]
  },
  {
   "cell_type": "markdown",
   "metadata": {},
   "source": [
    "O solo unas filas y las columnas `año` y `pob`:"
   ]
  },
  {
   "cell_type": "code",
   "execution_count": 173,
   "metadata": {},
   "outputs": [
    {
     "data": {
      "text/html": [
       "<div>\n",
       "<style scoped>\n",
       "    .dataframe tbody tr th:only-of-type {\n",
       "        vertical-align: middle;\n",
       "    }\n",
       "\n",
       "    .dataframe tbody tr th {\n",
       "        vertical-align: top;\n",
       "    }\n",
       "\n",
       "    .dataframe thead th {\n",
       "        text-align: right;\n",
       "    }\n",
       "</style>\n",
       "<table border=\"1\" class=\"dataframe\">\n",
       "  <thead>\n",
       "    <tr style=\"text-align: right;\">\n",
       "      <th></th>\n",
       "      <th>año</th>\n",
       "      <th>pob</th>\n",
       "    </tr>\n",
       "  </thead>\n",
       "  <tbody>\n",
       "    <tr>\n",
       "      <th>A</th>\n",
       "      <td>2000</td>\n",
       "      <td>1.5</td>\n",
       "    </tr>\n",
       "    <tr>\n",
       "      <th>B</th>\n",
       "      <td>2001</td>\n",
       "      <td>1.7</td>\n",
       "    </tr>\n",
       "  </tbody>\n",
       "</table>\n",
       "</div>"
      ],
      "text/plain": [
       "    año  pob\n",
       "A  2000  1.5\n",
       "B  2001  1.7"
      ]
     },
     "execution_count": 173,
     "metadata": {},
     "output_type": "execute_result"
    }
   ],
   "source": [
    "df.loc['A':'B', ['año', 'pob']]"
   ]
  },
  {
   "cell_type": "markdown",
   "metadata": {},
   "source": [
    "O solo una celda:"
   ]
  },
  {
   "cell_type": "code",
   "execution_count": 174,
   "metadata": {},
   "outputs": [
    {
     "data": {
      "text/plain": [
       "1.5"
      ]
     },
     "execution_count": 174,
     "metadata": {},
     "output_type": "execute_result"
    }
   ],
   "source": [
    "df.loc['A', 'pob']"
   ]
  },
  {
   "cell_type": "markdown",
   "metadata": {},
   "source": [
    "#### 3.1.3) Selectionar con `iloc`\n",
    "A diferencia de `loc`, este método recibe la posición, no el nombre de la fila:"
   ]
  },
  {
   "cell_type": "code",
   "execution_count": 175,
   "metadata": {},
   "outputs": [
    {
     "data": {
      "text/plain": [
       "ciudad    Iquique\n",
       "año          2001\n",
       "pob           2.4\n",
       "Name: D, dtype: object"
      ]
     },
     "execution_count": 175,
     "metadata": {},
     "output_type": "execute_result"
    }
   ],
   "source": [
    "df.iloc[3]"
   ]
  },
  {
   "cell_type": "markdown",
   "metadata": {},
   "source": [
    "También un rango de filas y columnas:"
   ]
  },
  {
   "cell_type": "code",
   "execution_count": 176,
   "metadata": {},
   "outputs": [
    {
     "data": {
      "text/html": [
       "<div>\n",
       "<style scoped>\n",
       "    .dataframe tbody tr th:only-of-type {\n",
       "        vertical-align: middle;\n",
       "    }\n",
       "\n",
       "    .dataframe tbody tr th {\n",
       "        vertical-align: top;\n",
       "    }\n",
       "\n",
       "    .dataframe thead th {\n",
       "        text-align: right;\n",
       "    }\n",
       "</style>\n",
       "<table border=\"1\" class=\"dataframe\">\n",
       "  <thead>\n",
       "    <tr style=\"text-align: right;\">\n",
       "      <th></th>\n",
       "      <th>ciudad</th>\n",
       "      <th>año</th>\n",
       "    </tr>\n",
       "  </thead>\n",
       "  <tbody>\n",
       "    <tr>\n",
       "      <th>B</th>\n",
       "      <td>Temuco</td>\n",
       "      <td>2001</td>\n",
       "    </tr>\n",
       "    <tr>\n",
       "      <th>C</th>\n",
       "      <td>Temuco</td>\n",
       "      <td>2002</td>\n",
       "    </tr>\n",
       "    <tr>\n",
       "      <th>D</th>\n",
       "      <td>Iquique</td>\n",
       "      <td>2001</td>\n",
       "    </tr>\n",
       "    <tr>\n",
       "      <th>E</th>\n",
       "      <td>Iquique</td>\n",
       "      <td>2002</td>\n",
       "    </tr>\n",
       "  </tbody>\n",
       "</table>\n",
       "</div>"
      ],
      "text/plain": [
       "    ciudad   año\n",
       "B   Temuco  2001\n",
       "C   Temuco  2002\n",
       "D  Iquique  2001\n",
       "E  Iquique  2002"
      ]
     },
     "execution_count": 176,
     "metadata": {},
     "output_type": "execute_result"
    }
   ],
   "source": [
    "df.iloc[1:5, 0:2]"
   ]
  },
  {
   "cell_type": "markdown",
   "metadata": {},
   "source": [
    "O una celda sola:"
   ]
  },
  {
   "cell_type": "code",
   "execution_count": 177,
   "metadata": {},
   "outputs": [
    {
     "data": {
      "text/plain": [
       "1.5"
      ]
     },
     "execution_count": 177,
     "metadata": {},
     "output_type": "execute_result"
    }
   ],
   "source": [
    "df.iloc[0,2]"
   ]
  },
  {
   "cell_type": "markdown",
   "metadata": {},
   "source": [
    "### 3.2) Seleccionar por variables booleanas\n",
    "Podemos acceder filas y columnas con una lista de booleanos, en que cada elemento dice si está incluido en la fila (`True`) o no (`False`). En este ejemplo seleccionamos la tercera, quinta y sexta fila:"
   ]
  },
  {
   "cell_type": "code",
   "execution_count": 178,
   "metadata": {},
   "outputs": [
    {
     "data": {
      "text/html": [
       "<div>\n",
       "<style scoped>\n",
       "    .dataframe tbody tr th:only-of-type {\n",
       "        vertical-align: middle;\n",
       "    }\n",
       "\n",
       "    .dataframe tbody tr th {\n",
       "        vertical-align: top;\n",
       "    }\n",
       "\n",
       "    .dataframe thead th {\n",
       "        text-align: right;\n",
       "    }\n",
       "</style>\n",
       "<table border=\"1\" class=\"dataframe\">\n",
       "  <thead>\n",
       "    <tr style=\"text-align: right;\">\n",
       "      <th></th>\n",
       "      <th>ciudad</th>\n",
       "      <th>año</th>\n",
       "      <th>pob</th>\n",
       "    </tr>\n",
       "  </thead>\n",
       "  <tbody>\n",
       "    <tr>\n",
       "      <th>C</th>\n",
       "      <td>Temuco</td>\n",
       "      <td>2002</td>\n",
       "      <td>3.6</td>\n",
       "    </tr>\n",
       "    <tr>\n",
       "      <th>E</th>\n",
       "      <td>Iquique</td>\n",
       "      <td>2002</td>\n",
       "      <td>2.9</td>\n",
       "    </tr>\n",
       "    <tr>\n",
       "      <th>F</th>\n",
       "      <td>Iquique</td>\n",
       "      <td>2003</td>\n",
       "      <td>3.2</td>\n",
       "    </tr>\n",
       "  </tbody>\n",
       "</table>\n",
       "</div>"
      ],
      "text/plain": [
       "    ciudad   año  pob\n",
       "C   Temuco  2002  3.6\n",
       "E  Iquique  2002  2.9\n",
       "F  Iquique  2003  3.2"
      ]
     },
     "execution_count": 178,
     "metadata": {},
     "output_type": "execute_result"
    }
   ],
   "source": [
    "df.loc[[False, False, True, False, True, True]]\n",
    "#lo mismo que df.iloc[[2,4,5]]"
   ]
  },
  {
   "cell_type": "markdown",
   "metadata": {},
   "source": [
    "De la misma forma que hicimos en la Series, podemos construir un arreglo de booleanos con una condición en nuestro DataFrame. Por ejemplo, si quieremos seleccionar las filas que tienen una población mayor a `3`, construimos una serie de booleanos así:"
   ]
  },
  {
   "cell_type": "code",
   "execution_count": 179,
   "metadata": {},
   "outputs": [
    {
     "data": {
      "text/plain": [
       "A    False\n",
       "B    False\n",
       "C     True\n",
       "D    False\n",
       "E    False\n",
       "F     True\n",
       "Name: pob, dtype: bool"
      ]
     },
     "execution_count": 179,
     "metadata": {},
     "output_type": "execute_result"
    }
   ],
   "source": [
    "df.pob > 3.0"
   ]
  },
  {
   "cell_type": "markdown",
   "metadata": {},
   "source": [
    "Este Serie de booleanos podemos usar para seleccionar filas en un DataFrame:"
   ]
  },
  {
   "cell_type": "code",
   "execution_count": 180,
   "metadata": {},
   "outputs": [
    {
     "data": {
      "text/html": [
       "<div>\n",
       "<style scoped>\n",
       "    .dataframe tbody tr th:only-of-type {\n",
       "        vertical-align: middle;\n",
       "    }\n",
       "\n",
       "    .dataframe tbody tr th {\n",
       "        vertical-align: top;\n",
       "    }\n",
       "\n",
       "    .dataframe thead th {\n",
       "        text-align: right;\n",
       "    }\n",
       "</style>\n",
       "<table border=\"1\" class=\"dataframe\">\n",
       "  <thead>\n",
       "    <tr style=\"text-align: right;\">\n",
       "      <th></th>\n",
       "      <th>ciudad</th>\n",
       "      <th>año</th>\n",
       "      <th>pob</th>\n",
       "    </tr>\n",
       "  </thead>\n",
       "  <tbody>\n",
       "    <tr>\n",
       "      <th>C</th>\n",
       "      <td>Temuco</td>\n",
       "      <td>2002</td>\n",
       "      <td>3.6</td>\n",
       "    </tr>\n",
       "    <tr>\n",
       "      <th>F</th>\n",
       "      <td>Iquique</td>\n",
       "      <td>2003</td>\n",
       "      <td>3.2</td>\n",
       "    </tr>\n",
       "  </tbody>\n",
       "</table>\n",
       "</div>"
      ],
      "text/plain": [
       "    ciudad   año  pob\n",
       "C   Temuco  2002  3.6\n",
       "F  Iquique  2003  3.2"
      ]
     },
     "execution_count": 180,
     "metadata": {},
     "output_type": "execute_result"
    }
   ],
   "source": [
    "df[df.pob > 3.0]"
   ]
  },
  {
   "cell_type": "markdown",
   "metadata": {},
   "source": [
    "## 4) Reordenar\n",
    "Con la función `sort_values` podemos reordenar nuestras filas en el DataFrame. Pasando la columna queremos reordenar (con `by`), y qué dirección (ascendiendo o descendiendo con `ascending`), y el `inplace` que signífica reemplazar los índices en el mismo DataFrame. Si `inplace=False`, la función retornará un nuevo DataFrame que está reordenado, y deja el originál como era.\n",
    "\n",
    "Los parámetros `by` y `ascending` pueden ser listas también, en que reordenamos primero por la primera columna y después con la segunda etc."
   ]
  },
  {
   "cell_type": "code",
   "execution_count": 181,
   "metadata": {},
   "outputs": [
    {
     "data": {
      "text/html": [
       "<div>\n",
       "<style scoped>\n",
       "    .dataframe tbody tr th:only-of-type {\n",
       "        vertical-align: middle;\n",
       "    }\n",
       "\n",
       "    .dataframe tbody tr th {\n",
       "        vertical-align: top;\n",
       "    }\n",
       "\n",
       "    .dataframe thead th {\n",
       "        text-align: right;\n",
       "    }\n",
       "</style>\n",
       "<table border=\"1\" class=\"dataframe\">\n",
       "  <thead>\n",
       "    <tr style=\"text-align: right;\">\n",
       "      <th></th>\n",
       "      <th>Marca</th>\n",
       "      <th>Precio</th>\n",
       "      <th>Año</th>\n",
       "    </tr>\n",
       "  </thead>\n",
       "  <tbody>\n",
       "    <tr>\n",
       "      <th>0</th>\n",
       "      <td>Honda Civic</td>\n",
       "      <td>22000</td>\n",
       "      <td>2015</td>\n",
       "    </tr>\n",
       "    <tr>\n",
       "      <th>1</th>\n",
       "      <td>Toyota Corolla</td>\n",
       "      <td>25000</td>\n",
       "      <td>2013</td>\n",
       "    </tr>\n",
       "    <tr>\n",
       "      <th>2</th>\n",
       "      <td>Ford Focus</td>\n",
       "      <td>27000</td>\n",
       "      <td>2018</td>\n",
       "    </tr>\n",
       "    <tr>\n",
       "      <th>3</th>\n",
       "      <td>Audi A4</td>\n",
       "      <td>35000</td>\n",
       "      <td>2018</td>\n",
       "    </tr>\n",
       "  </tbody>\n",
       "</table>\n",
       "</div>"
      ],
      "text/plain": [
       "            Marca  Precio   Año\n",
       "0     Honda Civic   22000  2015\n",
       "1  Toyota Corolla   25000  2013\n",
       "2      Ford Focus   27000  2018\n",
       "3         Audi A4   35000  2018"
      ]
     },
     "execution_count": 181,
     "metadata": {},
     "output_type": "execute_result"
    }
   ],
   "source": [
    "autos = {'Marca':  ['Honda Civic', 'Toyota Corolla', 'Ford Focus', 'Audi A4'],\n",
    "         'Precio': [22000, 25000, 27000, 35000],\n",
    "         'Año':    [2015, 2013, 2018, 2018]\n",
    "        }\n",
    " \n",
    "df = pd.DataFrame(autos, columns= ['Marca', 'Precio','Año'])\n",
    "df"
   ]
  },
  {
   "cell_type": "code",
   "execution_count": 182,
   "metadata": {},
   "outputs": [
    {
     "data": {
      "text/html": [
       "<div>\n",
       "<style scoped>\n",
       "    .dataframe tbody tr th:only-of-type {\n",
       "        vertical-align: middle;\n",
       "    }\n",
       "\n",
       "    .dataframe tbody tr th {\n",
       "        vertical-align: top;\n",
       "    }\n",
       "\n",
       "    .dataframe thead th {\n",
       "        text-align: right;\n",
       "    }\n",
       "</style>\n",
       "<table border=\"1\" class=\"dataframe\">\n",
       "  <thead>\n",
       "    <tr style=\"text-align: right;\">\n",
       "      <th></th>\n",
       "      <th>Marca</th>\n",
       "      <th>Precio</th>\n",
       "      <th>Año</th>\n",
       "    </tr>\n",
       "  </thead>\n",
       "  <tbody>\n",
       "    <tr>\n",
       "      <th>3</th>\n",
       "      <td>Audi A4</td>\n",
       "      <td>35000</td>\n",
       "      <td>2018</td>\n",
       "    </tr>\n",
       "    <tr>\n",
       "      <th>2</th>\n",
       "      <td>Ford Focus</td>\n",
       "      <td>27000</td>\n",
       "      <td>2018</td>\n",
       "    </tr>\n",
       "    <tr>\n",
       "      <th>0</th>\n",
       "      <td>Honda Civic</td>\n",
       "      <td>22000</td>\n",
       "      <td>2015</td>\n",
       "    </tr>\n",
       "    <tr>\n",
       "      <th>1</th>\n",
       "      <td>Toyota Corolla</td>\n",
       "      <td>25000</td>\n",
       "      <td>2013</td>\n",
       "    </tr>\n",
       "  </tbody>\n",
       "</table>\n",
       "</div>"
      ],
      "text/plain": [
       "            Marca  Precio   Año\n",
       "3         Audi A4   35000  2018\n",
       "2      Ford Focus   27000  2018\n",
       "0     Honda Civic   22000  2015\n",
       "1  Toyota Corolla   25000  2013"
      ]
     },
     "execution_count": 182,
     "metadata": {},
     "output_type": "execute_result"
    }
   ],
   "source": [
    "df.sort_values(by=['Marca'], inplace=True, ascending=True)\n",
    "df"
   ]
  },
  {
   "cell_type": "code",
   "execution_count": 183,
   "metadata": {},
   "outputs": [
    {
     "data": {
      "text/html": [
       "<div>\n",
       "<style scoped>\n",
       "    .dataframe tbody tr th:only-of-type {\n",
       "        vertical-align: middle;\n",
       "    }\n",
       "\n",
       "    .dataframe tbody tr th {\n",
       "        vertical-align: top;\n",
       "    }\n",
       "\n",
       "    .dataframe thead th {\n",
       "        text-align: right;\n",
       "    }\n",
       "</style>\n",
       "<table border=\"1\" class=\"dataframe\">\n",
       "  <thead>\n",
       "    <tr style=\"text-align: right;\">\n",
       "      <th></th>\n",
       "      <th>Marca</th>\n",
       "      <th>Precio</th>\n",
       "      <th>Año</th>\n",
       "    </tr>\n",
       "  </thead>\n",
       "  <tbody>\n",
       "    <tr>\n",
       "      <th>1</th>\n",
       "      <td>Toyota Corolla</td>\n",
       "      <td>25000</td>\n",
       "      <td>2013</td>\n",
       "    </tr>\n",
       "    <tr>\n",
       "      <th>0</th>\n",
       "      <td>Honda Civic</td>\n",
       "      <td>22000</td>\n",
       "      <td>2015</td>\n",
       "    </tr>\n",
       "    <tr>\n",
       "      <th>2</th>\n",
       "      <td>Ford Focus</td>\n",
       "      <td>27000</td>\n",
       "      <td>2018</td>\n",
       "    </tr>\n",
       "    <tr>\n",
       "      <th>3</th>\n",
       "      <td>Audi A4</td>\n",
       "      <td>35000</td>\n",
       "      <td>2018</td>\n",
       "    </tr>\n",
       "  </tbody>\n",
       "</table>\n",
       "</div>"
      ],
      "text/plain": [
       "            Marca  Precio   Año\n",
       "1  Toyota Corolla   25000  2013\n",
       "0     Honda Civic   22000  2015\n",
       "2      Ford Focus   27000  2018\n",
       "3         Audi A4   35000  2018"
      ]
     },
     "execution_count": 183,
     "metadata": {},
     "output_type": "execute_result"
    }
   ],
   "source": [
    "df.sort_values(by=['Año', 'Marca'], inplace=True, ascending=[True, False])\n",
    "df"
   ]
  },
  {
   "cell_type": "markdown",
   "metadata": {},
   "source": [
    "## 5) Aggregate y GroupBy\n",
    "`GroupBy` te da la oportunidád de reagrupar datos y, consecuentemente, reducir su tamaño. Por ejemplo, queremos agrupar los datos según una columna, esta columna será el nuevo índice del DataFrame. Abajo tenemos las velocidades de pájaros, y queremos saber reunir información por tipo de pájaro:"
   ]
  },
  {
   "cell_type": "code",
   "execution_count": 184,
   "metadata": {},
   "outputs": [
    {
     "data": {
      "text/html": [
       "<div>\n",
       "<style scoped>\n",
       "    .dataframe tbody tr th:only-of-type {\n",
       "        vertical-align: middle;\n",
       "    }\n",
       "\n",
       "    .dataframe tbody tr th {\n",
       "        vertical-align: top;\n",
       "    }\n",
       "\n",
       "    .dataframe thead th {\n",
       "        text-align: right;\n",
       "    }\n",
       "</style>\n",
       "<table border=\"1\" class=\"dataframe\">\n",
       "  <thead>\n",
       "    <tr style=\"text-align: right;\">\n",
       "      <th></th>\n",
       "      <th>Pájaro</th>\n",
       "      <th>Velocidad</th>\n",
       "    </tr>\n",
       "  </thead>\n",
       "  <tbody>\n",
       "    <tr>\n",
       "      <th>0</th>\n",
       "      <td>Halcón</td>\n",
       "      <td>80.0</td>\n",
       "    </tr>\n",
       "    <tr>\n",
       "      <th>1</th>\n",
       "      <td>Halcón</td>\n",
       "      <td>65.0</td>\n",
       "    </tr>\n",
       "    <tr>\n",
       "      <th>2</th>\n",
       "      <td>Águila</td>\n",
       "      <td>45.0</td>\n",
       "    </tr>\n",
       "    <tr>\n",
       "      <th>3</th>\n",
       "      <td>Águila</td>\n",
       "      <td>51.0</td>\n",
       "    </tr>\n",
       "    <tr>\n",
       "      <th>4</th>\n",
       "      <td>Águila</td>\n",
       "      <td>49.0</td>\n",
       "    </tr>\n",
       "    <tr>\n",
       "      <th>5</th>\n",
       "      <td>Cóndor</td>\n",
       "      <td>54.0</td>\n",
       "    </tr>\n",
       "    <tr>\n",
       "      <th>6</th>\n",
       "      <td>Cóndor</td>\n",
       "      <td>50.0</td>\n",
       "    </tr>\n",
       "    <tr>\n",
       "      <th>7</th>\n",
       "      <td>Cóndor</td>\n",
       "      <td>62.0</td>\n",
       "    </tr>\n",
       "  </tbody>\n",
       "</table>\n",
       "</div>"
      ],
      "text/plain": [
       "   Pájaro  Velocidad\n",
       "0  Halcón       80.0\n",
       "1  Halcón       65.0\n",
       "2  Águila       45.0\n",
       "3  Águila       51.0\n",
       "4  Águila       49.0\n",
       "5  Cóndor       54.0\n",
       "6  Cóndor       50.0\n",
       "7  Cóndor       62.0"
      ]
     },
     "execution_count": 184,
     "metadata": {},
     "output_type": "execute_result"
    }
   ],
   "source": [
    "df = pd.DataFrame({'Pájaro': ['Halcón', 'Halcón', 'Águila', 'Águila', 'Águila', 'Cóndor', 'Cóndor', 'Cóndor'],\n",
    "                   'Velocidad': [80., 65., 45., 51., 49., 54., 50., 62.]})\n",
    "df"
   ]
  },
  {
   "cell_type": "markdown",
   "metadata": {},
   "source": [
    "Agrupamos por pájaro y extraemos el promedio:"
   ]
  },
  {
   "cell_type": "code",
   "execution_count": 190,
   "metadata": {},
   "outputs": [
    {
     "data": {
      "text/html": [
       "<div>\n",
       "<style scoped>\n",
       "    .dataframe tbody tr th:only-of-type {\n",
       "        vertical-align: middle;\n",
       "    }\n",
       "\n",
       "    .dataframe tbody tr th {\n",
       "        vertical-align: top;\n",
       "    }\n",
       "\n",
       "    .dataframe thead th {\n",
       "        text-align: right;\n",
       "    }\n",
       "</style>\n",
       "<table border=\"1\" class=\"dataframe\">\n",
       "  <thead>\n",
       "    <tr style=\"text-align: right;\">\n",
       "      <th></th>\n",
       "      <th>Velocidad</th>\n",
       "    </tr>\n",
       "    <tr>\n",
       "      <th>Pájaro</th>\n",
       "      <th></th>\n",
       "    </tr>\n",
       "  </thead>\n",
       "  <tbody>\n",
       "    <tr>\n",
       "      <th>Cóndor</th>\n",
       "      <td>6.110101</td>\n",
       "    </tr>\n",
       "    <tr>\n",
       "      <th>Halcón</th>\n",
       "      <td>10.606602</td>\n",
       "    </tr>\n",
       "    <tr>\n",
       "      <th>Águila</th>\n",
       "      <td>3.055050</td>\n",
       "    </tr>\n",
       "  </tbody>\n",
       "</table>\n",
       "</div>"
      ],
      "text/plain": [
       "        Velocidad\n",
       "Pájaro           \n",
       "Cóndor   6.110101\n",
       "Halcón  10.606602\n",
       "Águila   3.055050"
      ]
     },
     "execution_count": 190,
     "metadata": {},
     "output_type": "execute_result"
    }
   ],
   "source": [
    "df.groupby('Pájaro').std()"
   ]
  },
  {
   "cell_type": "markdown",
   "metadata": {},
   "source": [
    "Podemos usar funciónes más _elaboradas_ con `aggregate`, en este ejemplo usamos `np.min` que nos da el mínimo de nuestra selección:"
   ]
  },
  {
   "cell_type": "code",
   "execution_count": 193,
   "metadata": {},
   "outputs": [
    {
     "data": {
      "text/html": [
       "<div>\n",
       "<style scoped>\n",
       "    .dataframe tbody tr th:only-of-type {\n",
       "        vertical-align: middle;\n",
       "    }\n",
       "\n",
       "    .dataframe tbody tr th {\n",
       "        vertical-align: top;\n",
       "    }\n",
       "\n",
       "    .dataframe thead tr th {\n",
       "        text-align: left;\n",
       "    }\n",
       "\n",
       "    .dataframe thead tr:last-of-type th {\n",
       "        text-align: right;\n",
       "    }\n",
       "</style>\n",
       "<table border=\"1\" class=\"dataframe\">\n",
       "  <thead>\n",
       "    <tr>\n",
       "      <th></th>\n",
       "      <th colspan=\"3\" halign=\"left\">Velocidad</th>\n",
       "    </tr>\n",
       "    <tr>\n",
       "      <th></th>\n",
       "      <th>amin</th>\n",
       "      <th>median</th>\n",
       "      <th>amax</th>\n",
       "    </tr>\n",
       "    <tr>\n",
       "      <th>Pájaro</th>\n",
       "      <th></th>\n",
       "      <th></th>\n",
       "      <th></th>\n",
       "    </tr>\n",
       "  </thead>\n",
       "  <tbody>\n",
       "    <tr>\n",
       "      <th>Cóndor</th>\n",
       "      <td>50.0</td>\n",
       "      <td>54.0</td>\n",
       "      <td>62.0</td>\n",
       "    </tr>\n",
       "    <tr>\n",
       "      <th>Halcón</th>\n",
       "      <td>65.0</td>\n",
       "      <td>72.5</td>\n",
       "      <td>80.0</td>\n",
       "    </tr>\n",
       "    <tr>\n",
       "      <th>Águila</th>\n",
       "      <td>45.0</td>\n",
       "      <td>49.0</td>\n",
       "      <td>51.0</td>\n",
       "    </tr>\n",
       "  </tbody>\n",
       "</table>\n",
       "</div>"
      ],
      "text/plain": [
       "       Velocidad             \n",
       "            amin median  amax\n",
       "Pájaro                       \n",
       "Cóndor      50.0   54.0  62.0\n",
       "Halcón      65.0   72.5  80.0\n",
       "Águila      45.0   49.0  51.0"
      ]
     },
     "execution_count": 193,
     "metadata": {},
     "output_type": "execute_result"
    }
   ],
   "source": [
    "import numpy as np\n",
    "df.groupby('Pájaro').aggregate([np.min, np.median, np.max])"
   ]
  },
  {
   "cell_type": "markdown",
   "metadata": {},
   "source": [
    "## 6) Graficar\n",
    "Pandas también permite graficar los valores dentro de sus DataFrames fácilmente. Por ejemplo, abajo mostramos varios métodos de graficar con datos de números aleatorios. También hay otros tipos de gráficos, se recomienda consultar https://pandas.pydata.org/pandas-docs/stable/user_guide/visualization.html para ver los tipos de gráficos que provee Pandas."
   ]
  },
  {
   "cell_type": "code",
   "execution_count": 89,
   "metadata": {},
   "outputs": [
    {
     "data": {
      "text/plain": [
       "<matplotlib.axes._subplots.AxesSubplot at 0x1169c4400>"
      ]
     },
     "execution_count": 89,
     "metadata": {},
     "output_type": "execute_result"
    },
    {
     "data": {
      "image/png": "[encoded data removed]",
      "text/plain": [
       "<Figure size 432x288 with 1 Axes>"
      ]
     },
     "metadata": {
      "needs_background": "light"
     },
     "output_type": "display_data"
    }
   ],
   "source": [
    "import numpy as np\n",
    "datos = np.random.randn(1000, 4)\n",
    "index = pd.date_range('2000-01-01', periods=1000, freq='D')\n",
    "\n",
    "df = pd.DataFrame(datos, index=index, columns=list('ABCD'))\n",
    "df = df.cumsum()\n",
    "#df.head(10) #primeras 10 filas\n",
    "df.plot()"
   ]
  },
  {
   "cell_type": "code",
   "execution_count": 94,
   "metadata": {},
   "outputs": [
    {
     "data": {
      "image/png": "[encoded data removed]",
      "text/plain": [
       "<Figure size 432x288 with 1 Axes>"
      ]
     },
     "metadata": {
      "needs_background": "light"
     },
     "output_type": "display_data"
    }
   ],
   "source": [
    "df = pd.DataFrame(np.random.rand(10, 4), columns=['a', 'b', 'c', 'd'])\n",
    "df.plot.bar();"
   ]
  },
  {
   "cell_type": "code",
   "execution_count": 105,
   "metadata": {},
   "outputs": [
    {
     "data": {
      "image/png": "[encoded data removed]",
      "text/plain": [
       "<Figure size 432x288 with 1 Axes>"
      ]
     },
     "metadata": {
      "needs_background": "light"
     },
     "output_type": "display_data"
    }
   ],
   "source": [
    "df = pd.DataFrame({'a': np.random.randn(1000) + 1,\n",
    "                   'b': np.random.randn(1000),\n",
    "                   'c': np.random.randn(1000) - 1},\n",
    "                  columns=['a', 'b', 'c'])\n",
    "df.plot.hist(bins = 20, alpha=0.5);"
   ]
  },
  {
   "cell_type": "markdown",
   "metadata": {},
   "source": [
    "## 7) Cargando datos con formato CSV, Excel, HDF5\n",
    "Pandas es capaz de cargar datos desde una una variedad de distintos formatos, incluyendo:\n",
    "- CSV\n",
    "- JSON\n",
    "- HTML\n",
    "- Excel\n",
    "- HDF5 format\n",
    "- Feather format\n",
    "- Parquet format\n",
    "- Msgpack\n",
    "- Stata\n",
    "- SAS\n",
    "- SQL\n",
    "\n",
    "A continuación guardamos y cargamos un DataFrame en formatos CSV y Excel. Para ver más formatos, revisar https://pandas.pydata.org/pandas-docs/stable/user_guide/io.html"
   ]
  },
  {
   "cell_type": "code",
   "execution_count": 116,
   "metadata": {},
   "outputs": [],
   "source": [
    "df = pd.DataFrame({'ciudad': ['Temuco', 'Temuco', 'Temuco', 'Iquique', 'Iquique', 'Iquique'],\n",
    "                   'year': [2000, 2001, 2002, 2001, 2002, 2003],\n",
    "                   'pob': [1.5, 1.7, 3.6, 2.4, 2.9, 3.2]})"
   ]
  },
  {
   "cell_type": "markdown",
   "metadata": {},
   "source": [
    "### 6.1) CSV"
   ]
  },
  {
   "cell_type": "code",
   "execution_count": 117,
   "metadata": {},
   "outputs": [],
   "source": [
    "df.to_csv('poblacion.csv')"
   ]
  },
  {
   "cell_type": "code",
   "execution_count": 122,
   "metadata": {},
   "outputs": [
    {
     "data": {
      "text/html": [
       "<div>\n",
       "<style scoped>\n",
       "    .dataframe tbody tr th:only-of-type {\n",
       "        vertical-align: middle;\n",
       "    }\n",
       "\n",
       "    .dataframe tbody tr th {\n",
       "        vertical-align: top;\n",
       "    }\n",
       "\n",
       "    .dataframe thead th {\n",
       "        text-align: right;\n",
       "    }\n",
       "</style>\n",
       "<table border=\"1\" class=\"dataframe\">\n",
       "  <thead>\n",
       "    <tr style=\"text-align: right;\">\n",
       "      <th></th>\n",
       "      <th>ciudad</th>\n",
       "      <th>year</th>\n",
       "      <th>pob</th>\n",
       "    </tr>\n",
       "  </thead>\n",
       "  <tbody>\n",
       "    <tr>\n",
       "      <th>0</th>\n",
       "      <td>Temuco</td>\n",
       "      <td>2000</td>\n",
       "      <td>1.5</td>\n",
       "    </tr>\n",
       "    <tr>\n",
       "      <th>1</th>\n",
       "      <td>Temuco</td>\n",
       "      <td>2001</td>\n",
       "      <td>1.7</td>\n",
       "    </tr>\n",
       "    <tr>\n",
       "      <th>2</th>\n",
       "      <td>Temuco</td>\n",
       "      <td>2002</td>\n",
       "      <td>3.6</td>\n",
       "    </tr>\n",
       "    <tr>\n",
       "      <th>3</th>\n",
       "      <td>Iquique</td>\n",
       "      <td>2001</td>\n",
       "      <td>2.4</td>\n",
       "    </tr>\n",
       "    <tr>\n",
       "      <th>4</th>\n",
       "      <td>Iquique</td>\n",
       "      <td>2002</td>\n",
       "      <td>2.9</td>\n",
       "    </tr>\n",
       "    <tr>\n",
       "      <th>5</th>\n",
       "      <td>Iquique</td>\n",
       "      <td>2003</td>\n",
       "      <td>3.2</td>\n",
       "    </tr>\n",
       "  </tbody>\n",
       "</table>\n",
       "</div>"
      ],
      "text/plain": [
       "    ciudad  year  pob\n",
       "0   Temuco  2000  1.5\n",
       "1   Temuco  2001  1.7\n",
       "2   Temuco  2002  3.6\n",
       "3  Iquique  2001  2.4\n",
       "4  Iquique  2002  2.9\n",
       "5  Iquique  2003  3.2"
      ]
     },
     "execution_count": 122,
     "metadata": {},
     "output_type": "execute_result"
    }
   ],
   "source": [
    "pd.read_csv('poblacion.csv', index_col=0)"
   ]
  },
  {
   "cell_type": "markdown",
   "metadata": {},
   "source": [
    "### 6.2) XLSX"
   ]
  },
  {
   "cell_type": "code",
   "execution_count": 123,
   "metadata": {},
   "outputs": [],
   "source": [
    "df.to_excel('poblacion.xlsx', sheet_name='Poblacion por ciudad')"
   ]
  },
  {
   "cell_type": "code",
   "execution_count": 124,
   "metadata": {},
   "outputs": [],
   "source": [
    "pd.read_excel?"
   ]
  },
  {
   "cell_type": "code",
   "execution_count": 125,
   "metadata": {},
   "outputs": [
    {
     "data": {
      "text/html": [
       "<div>\n",
       "<style scoped>\n",
       "    .dataframe tbody tr th:only-of-type {\n",
       "        vertical-align: middle;\n",
       "    }\n",
       "\n",
       "    .dataframe tbody tr th {\n",
       "        vertical-align: top;\n",
       "    }\n",
       "\n",
       "    .dataframe thead th {\n",
       "        text-align: right;\n",
       "    }\n",
       "</style>\n",
       "<table border=\"1\" class=\"dataframe\">\n",
       "  <thead>\n",
       "    <tr style=\"text-align: right;\">\n",
       "      <th></th>\n",
       "      <th>ciudad</th>\n",
       "      <th>year</th>\n",
       "      <th>pob</th>\n",
       "    </tr>\n",
       "  </thead>\n",
       "  <tbody>\n",
       "    <tr>\n",
       "      <th>0</th>\n",
       "      <td>Temuco</td>\n",
       "      <td>2000</td>\n",
       "      <td>1.5</td>\n",
       "    </tr>\n",
       "    <tr>\n",
       "      <th>1</th>\n",
       "      <td>Temuco</td>\n",
       "      <td>2001</td>\n",
       "      <td>1.7</td>\n",
       "    </tr>\n",
       "    <tr>\n",
       "      <th>2</th>\n",
       "      <td>Temuco</td>\n",
       "      <td>2002</td>\n",
       "      <td>3.6</td>\n",
       "    </tr>\n",
       "    <tr>\n",
       "      <th>3</th>\n",
       "      <td>Iquique</td>\n",
       "      <td>2001</td>\n",
       "      <td>2.4</td>\n",
       "    </tr>\n",
       "    <tr>\n",
       "      <th>4</th>\n",
       "      <td>Iquique</td>\n",
       "      <td>2002</td>\n",
       "      <td>2.9</td>\n",
       "    </tr>\n",
       "    <tr>\n",
       "      <th>5</th>\n",
       "      <td>Iquique</td>\n",
       "      <td>2003</td>\n",
       "      <td>3.2</td>\n",
       "    </tr>\n",
       "  </tbody>\n",
       "</table>\n",
       "</div>"
      ],
      "text/plain": [
       "    ciudad  year  pob\n",
       "0   Temuco  2000  1.5\n",
       "1   Temuco  2001  1.7\n",
       "2   Temuco  2002  3.6\n",
       "3  Iquique  2001  2.4\n",
       "4  Iquique  2002  2.9\n",
       "5  Iquique  2003  3.2"
      ]
     },
     "execution_count": 125,
     "metadata": {},
     "output_type": "execute_result"
    }
   ],
   "source": [
    "pd.read_excel('poblacion.xlsx', index_col=0, na_values=['NA'])"
   ]
  },
  {
   "cell_type": "markdown",
   "metadata": {},
   "source": [
    "## 8) SQL\n",
    "**¿Qué es Structured Query Language, o SQL?** Es un lenguaje de comunicación con bases de datos relacionales. Se usa para seleccionar, agregar, sacar, actualizar datos con los comandos `SELECT`, `INSERT`, `UPDATE`, `DELETE`, ... SQL es un lenguaje estandardizado y es construido para usar con base de datos grandes (por ejemplo, millones de filas de datos). SQL tiene muchas implementaciones distintas, cada con su specialidad. Por ejemplo MySQL (usado mucho para sitios de web), MSSQL (de Microsoft), Oracle, Postgres, SQLite ...\n",
    "\n",
    "TACO: cuál es el tamaño de arreglos que permite Pandas?\n",
    "\n",
    "Acá mostramos cómo seleccionar datos de un server de SQL y cargarlos en un DataFrame. SQLite es una implentación más sencilla y amigable para demostraciones. Seleccionando y cargando datos de otras implementaciones funciona de todas formas DataFrames. Con SQLite hacemos lo siguiente:\n",
    "\n",
    "```\n",
    "import sqlite3\n",
    "\n",
    "conn = sqlite3.connect(\"mydatabase_filename.sqlite\")\n",
    "df = pd.read_sql_query(\"SELECT * FROM <tablename>\", conn)\n",
    "```\n",
    "\n",
    "mientras para Postgres hacemos:\n",
    "\n",
    "```\n",
    "import psycopg2 as pg\n",
    "import pandas.io.sql as psql\n",
    "\n",
    "conn = pg.connect(\"dbname=mydatabase user=postgres\")\n",
    "df = psql.frame_query(\"SELECT * FROM <tablename>\", conn)\n",
    "```"
   ]
  },
  {
   "cell_type": "code",
   "execution_count": 129,
   "metadata": {},
   "outputs": [
    {
     "data": {
      "text/markdown": [
       "**Número de filas:**"
      ],
      "text/plain": [
       "<IPython.core.display.Markdown object>"
      ]
     },
     "metadata": {},
     "output_type": "display_data"
    },
    {
     "data": {
      "text/plain": [
       "index                         6660\n",
       "Id                            6660\n",
       "Periodo                       6660\n",
       "Ventas_IT                     6660\n",
       "Otros_Ingresos_IT             6660\n",
       "Costos_Fijos_IT               6660\n",
       "Costos_Variables_IT           6660\n",
       "Capacidad_Pago_Ajustada_IT    6660\n",
       "Capacidad_Pago_IT             6660\n",
       "Resultado_Operacional_IT      6660\n",
       "Deudas_IT                     6660\n",
       "sexo                          5363\n",
       "edad                          5363\n",
       "est_civil                     5363\n",
       "comuna                        3102\n",
       "region                        5363\n",
       "act_eco_cod                   5363\n",
       "act_eco_des                   5363\n",
       "sec_cod                       5363\n",
       "DDVI                          5363\n",
       "DM                            5275\n",
       "DDVE                          5275\n",
       "DDC                           5275\n",
       "DDVI1                         4956\n",
       "DM1                           4956\n",
       "DDVE1                         4956\n",
       "DDC1                          4956\n",
       "DDVI2                         4871\n",
       "DM2                           4871\n",
       "DDVE2                         4871\n",
       "                              ... \n",
       "SCP_MSL_TIP_MDU               6660\n",
       "SCP_MTT_TIT_COM               6660\n",
       "SCP_MTT_TIT_EDA               6660\n",
       "SCP_MTT_TIT_EST_CIV           6660\n",
       "SCP_MTT_TIT_NAC               6660\n",
       "SCP_MTT_TIT_RGM_CYG           6660\n",
       "SCP_MTT_TIT_RGN               6660\n",
       "SCP_MTT_TIT_SEX               6371\n",
       "SCP_MTT_TIT_TSC_CMR           6660\n",
       "SCP_MTT_FEC_NCT_CLI           6660\n",
       "SCP_MIC_PFL_PMA_NEG           6660\n",
       "SCP_MIC_FOR                   6660\n",
       "SCP_MIC_NNS                   6660\n",
       "SCP_MIC_SGM                   6660\n",
       "SCP_MIC_SSG                   6660\n",
       "SCP_MIC_MCS                   6660\n",
       "SCP_MIC_DEU_PRO_VIV           6660\n",
       "SCP_MIC_CNE_INA               6660\n",
       "SCP_MIC_FEC_INA               6660\n",
       "SCP_MIC_ATE                   6660\n",
       "SCP_MCE_FEC_ULT_CRD           6660\n",
       "SCP_MCE_LCR_DIS               6660\n",
       "SCP_MPD_MNT_SOL               6660\n",
       "SCP_MBU_SBS_HBT_ASG           6660\n",
       "SCP_MIC_GRP_FAM_ADL           6660\n",
       "SCP_MIC_GRP_FAM_NNO           6660\n",
       "SCP_MIC_GST_FAM_SME           6660\n",
       "SCP_MIC_OTR_GST_VIV           6660\n",
       "SCP_MIC_PRD_COS_MOB           6660\n",
       "SCP_MIC_PRD_COS_MPM           6660\n",
       "Length: 143, dtype: int64"
      ]
     },
     "metadata": {},
     "output_type": "display_data"
    },
    {
     "data": {
      "text/markdown": [
       "**Primeras cinco filas:**"
      ],
      "text/plain": [
       "<IPython.core.display.Markdown object>"
      ]
     },
     "metadata": {},
     "output_type": "display_data"
    },
    {
     "data": {
      "text/html": [
       "<div>\n",
       "<style scoped>\n",
       "    .dataframe tbody tr th:only-of-type {\n",
       "        vertical-align: middle;\n",
       "    }\n",
       "\n",
       "    .dataframe tbody tr th {\n",
       "        vertical-align: top;\n",
       "    }\n",
       "\n",
       "    .dataframe thead th {\n",
       "        text-align: right;\n",
       "    }\n",
       "</style>\n",
       "<table border=\"1\" class=\"dataframe\">\n",
       "  <thead>\n",
       "    <tr style=\"text-align: right;\">\n",
       "      <th></th>\n",
       "      <th>index</th>\n",
       "      <th>Id</th>\n",
       "      <th>Periodo</th>\n",
       "      <th>Ventas_IT</th>\n",
       "      <th>Otros_Ingresos_IT</th>\n",
       "      <th>Costos_Fijos_IT</th>\n",
       "      <th>Costos_Variables_IT</th>\n",
       "      <th>Capacidad_Pago_Ajustada_IT</th>\n",
       "      <th>Capacidad_Pago_IT</th>\n",
       "      <th>Resultado_Operacional_IT</th>\n",
       "      <th>...</th>\n",
       "      <th>SCP_MCE_FEC_ULT_CRD</th>\n",
       "      <th>SCP_MCE_LCR_DIS</th>\n",
       "      <th>SCP_MPD_MNT_SOL</th>\n",
       "      <th>SCP_MBU_SBS_HBT_ASG</th>\n",
       "      <th>SCP_MIC_GRP_FAM_ADL</th>\n",
       "      <th>SCP_MIC_GRP_FAM_NNO</th>\n",
       "      <th>SCP_MIC_GST_FAM_SME</th>\n",
       "      <th>SCP_MIC_OTR_GST_VIV</th>\n",
       "      <th>SCP_MIC_PRD_COS_MOB</th>\n",
       "      <th>SCP_MIC_PRD_COS_MPM</th>\n",
       "    </tr>\n",
       "  </thead>\n",
       "  <tbody>\n",
       "    <tr>\n",
       "      <th>0</th>\n",
       "      <td>2</td>\n",
       "      <td>3</td>\n",
       "      <td>201601</td>\n",
       "      <td>2650972</td>\n",
       "      <td>107927</td>\n",
       "      <td>385000</td>\n",
       "      <td>1423333</td>\n",
       "      <td>271055</td>\n",
       "      <td>451759</td>\n",
       "      <td>842639</td>\n",
       "      <td>...</td>\n",
       "      <td>9999-12-31</td>\n",
       "      <td>0</td>\n",
       "      <td>1000000</td>\n",
       "      <td>0</td>\n",
       "      <td>2</td>\n",
       "      <td>0</td>\n",
       "      <td>300000</td>\n",
       "      <td>0</td>\n",
       "      <td>0.0</td>\n",
       "      <td>1.400000e+38</td>\n",
       "    </tr>\n",
       "    <tr>\n",
       "      <th>1</th>\n",
       "      <td>3</td>\n",
       "      <td>4</td>\n",
       "      <td>201601</td>\n",
       "      <td>3926041</td>\n",
       "      <td>0</td>\n",
       "      <td>578000</td>\n",
       "      <td>2100000</td>\n",
       "      <td>638155</td>\n",
       "      <td>638155</td>\n",
       "      <td>1248041</td>\n",
       "      <td>...</td>\n",
       "      <td>2015-05-08</td>\n",
       "      <td>1794000</td>\n",
       "      <td>3000000</td>\n",
       "      <td>0</td>\n",
       "      <td>2</td>\n",
       "      <td>0</td>\n",
       "      <td>300000</td>\n",
       "      <td>0</td>\n",
       "      <td>0.0</td>\n",
       "      <td>3.900000e+33</td>\n",
       "    </tr>\n",
       "    <tr>\n",
       "      <th>2</th>\n",
       "      <td>4</td>\n",
       "      <td>5</td>\n",
       "      <td>201601</td>\n",
       "      <td>3707743</td>\n",
       "      <td>0</td>\n",
       "      <td>1141180</td>\n",
       "      <td>1360000</td>\n",
       "      <td>638683</td>\n",
       "      <td>638683</td>\n",
       "      <td>1206563</td>\n",
       "      <td>...</td>\n",
       "      <td>2013-12-23</td>\n",
       "      <td>615000</td>\n",
       "      <td>8000000</td>\n",
       "      <td>0</td>\n",
       "      <td>3</td>\n",
       "      <td>1</td>\n",
       "      <td>450000</td>\n",
       "      <td>0</td>\n",
       "      <td>0.0</td>\n",
       "      <td>1.150000e+34</td>\n",
       "    </tr>\n",
       "    <tr>\n",
       "      <th>3</th>\n",
       "      <td>12</td>\n",
       "      <td>13</td>\n",
       "      <td>201601</td>\n",
       "      <td>4155904</td>\n",
       "      <td>425000</td>\n",
       "      <td>150000</td>\n",
       "      <td>2880208</td>\n",
       "      <td>289214</td>\n",
       "      <td>723036</td>\n",
       "      <td>1125696</td>\n",
       "      <td>...</td>\n",
       "      <td>2013-09-16</td>\n",
       "      <td>426000</td>\n",
       "      <td>1300000</td>\n",
       "      <td>0</td>\n",
       "      <td>2</td>\n",
       "      <td>0</td>\n",
       "      <td>200000</td>\n",
       "      <td>0</td>\n",
       "      <td>0.0</td>\n",
       "      <td>2.800000e+38</td>\n",
       "    </tr>\n",
       "    <tr>\n",
       "      <th>4</th>\n",
       "      <td>16</td>\n",
       "      <td>17</td>\n",
       "      <td>201601</td>\n",
       "      <td>1663259</td>\n",
       "      <td>140000</td>\n",
       "      <td>111025</td>\n",
       "      <td>1220000</td>\n",
       "      <td>224317</td>\n",
       "      <td>224317</td>\n",
       "      <td>332234</td>\n",
       "      <td>...</td>\n",
       "      <td>2013-03-06</td>\n",
       "      <td>0</td>\n",
       "      <td>3000000</td>\n",
       "      <td>0</td>\n",
       "      <td>2</td>\n",
       "      <td>0</td>\n",
       "      <td>200000</td>\n",
       "      <td>0</td>\n",
       "      <td>0.0</td>\n",
       "      <td>8.000000e+31</td>\n",
       "    </tr>\n",
       "  </tbody>\n",
       "</table>\n",
       "<p>5 rows × 143 columns</p>\n",
       "</div>"
      ],
      "text/plain": [
       "   index  Id  Periodo  Ventas_IT  Otros_Ingresos_IT  Costos_Fijos_IT  \\\n",
       "0      2   3   201601    2650972             107927           385000   \n",
       "1      3   4   201601    3926041                  0           578000   \n",
       "2      4   5   201601    3707743                  0          1141180   \n",
       "3     12  13   201601    4155904             425000           150000   \n",
       "4     16  17   201601    1663259             140000           111025   \n",
       "\n",
       "   Costos_Variables_IT  Capacidad_Pago_Ajustada_IT  Capacidad_Pago_IT  \\\n",
       "0              1423333                      271055             451759   \n",
       "1              2100000                      638155             638155   \n",
       "2              1360000                      638683             638683   \n",
       "3              2880208                      289214             723036   \n",
       "4              1220000                      224317             224317   \n",
       "\n",
       "   Resultado_Operacional_IT  ...  SCP_MCE_FEC_ULT_CRD  SCP_MCE_LCR_DIS  \\\n",
       "0                    842639  ...           9999-12-31                0   \n",
       "1                   1248041  ...           2015-05-08          1794000   \n",
       "2                   1206563  ...           2013-12-23           615000   \n",
       "3                   1125696  ...           2013-09-16           426000   \n",
       "4                    332234  ...           2013-03-06                0   \n",
       "\n",
       "   SCP_MPD_MNT_SOL  SCP_MBU_SBS_HBT_ASG  SCP_MIC_GRP_FAM_ADL  \\\n",
       "0          1000000                    0                    2   \n",
       "1          3000000                    0                    2   \n",
       "2          8000000                    0                    3   \n",
       "3          1300000                    0                    2   \n",
       "4          3000000                    0                    2   \n",
       "\n",
       "   SCP_MIC_GRP_FAM_NNO  SCP_MIC_GST_FAM_SME SCP_MIC_OTR_GST_VIV  \\\n",
       "0                    0               300000                   0   \n",
       "1                    0               300000                   0   \n",
       "2                    1               450000                   0   \n",
       "3                    0               200000                   0   \n",
       "4                    0               200000                   0   \n",
       "\n",
       "   SCP_MIC_PRD_COS_MOB  SCP_MIC_PRD_COS_MPM  \n",
       "0                  0.0         1.400000e+38  \n",
       "1                  0.0         3.900000e+33  \n",
       "2                  0.0         1.150000e+34  \n",
       "3                  0.0         2.800000e+38  \n",
       "4                  0.0         8.000000e+31  \n",
       "\n",
       "[5 rows x 143 columns]"
      ]
     },
     "metadata": {},
     "output_type": "display_data"
    },
    {
     "data": {
      "text/markdown": [
       "**Estadísticas de la columna 'Costos_Fijos_IT':**"
      ],
      "text/plain": [
       "<IPython.core.display.Markdown object>"
      ]
     },
     "metadata": {},
     "output_type": "display_data"
    },
    {
     "name": "stdout",
     "output_type": "stream",
     "text": [
      "count    6.660000e+03\n",
      "mean     6.232622e+05\n",
      "std      1.121243e+06\n",
      "min      1.001250e+05\n",
      "25%      1.690922e+05\n",
      "50%      3.120000e+05\n",
      "75%      6.512500e+05\n",
      "max      2.520000e+07\n",
      "Name: Costos_Fijos_IT, dtype: float64\n"
     ]
    }
   ],
   "source": [
    "import sqlite3\n",
    "\n",
    "conn = sqlite3.connect(\"db.sqlite\")\n",
    "df = pd.read_sql_query(\"SELECT * FROM ventas_costos WHERE Costos_Fijos_IT > 100000\", conn)\n",
    "\n",
    "printbf(\"Número de filas:\")\n",
    "display(df.count())\n",
    "\n",
    "printbf(\"Primeras cinco filas:\")\n",
    "display(df.head())\n",
    "\n",
    "printbf(\"Estadísticas de la columna 'Costos_Fijos_IT':\")\n",
    "print(df['Costos_Fijos_IT'].describe())"
   ]
  },
  {
   "cell_type": "code",
   "execution_count": null,
   "metadata": {},
   "outputs": [],
   "source": []
  }
 ],
 "metadata": {
  "kernelspec": {
   "display_name": "Python 3",
   "language": "python",
   "name": "python3"
  },
  "language_info": {
   "codemirror_mode": {
    "name": "ipython",
    "version": 3
   },
   "file_extension": ".py",
   "mimetype": "text/x-python",
   "name": "python",
   "nbconvert_exporter": "python",
   "pygments_lexer": "ipython3",
   "version": "3.7.3"
  }
 },
 "nbformat": 4,
 "nbformat_minor": 2
}
