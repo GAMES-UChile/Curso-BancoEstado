{
 "cells": [
  {
   "cell_type": "markdown",
   "metadata": {},
   "source": [
    "# Curso BancoEstado-CMM: Aprendizaje de Máquinas Avanzado \n",
    "**Autores:** Taco de Wolff y Felipe Tobar  \n",
    "\n",
    "**Fecha:** 18 octubre, 2019\n",
    "\n",
    "\n",
    "# Módulo 4 - Contenidos\n",
    "Scikit-learn:\n",
    "- Data preprocessing\n",
    "- - Clean up, transformation, standardization, normalization\n",
    "- - Show skewed distribution and transform to symmetric distribution (Yeo-Johnson, Box-Cox)\n",
    "- - Discretization of features: KBins from numeric value to category (or to binary)\n",
    "- - Imputation of missing values\n",
    "- - PolynomialRegression for trend or higher-order discovery\n",
    "- Model selection, validation, and evaluation (metrics)\n",
    "- - Train versus test set\n",
    "- - Accuracy and error measures and explain what they mean\n",
    "- Clustering\n",
    "- - K-means, means shifts, Hierarchical clustering\n",
    "- - Maybe a tutorial?\n",
    "- SVM?\n",
    "- Regression and classification, again?\n",
    "- - SVM, ridge/lasso regression, logistic regression"
   ]
  },
  {
   "cell_type": "code",
   "execution_count": null,
   "metadata": {},
   "outputs": [],
   "source": []
  }
 ],
 "metadata": {
  "kernelspec": {
   "display_name": "Python 3",
   "language": "python",
   "name": "python3"
  },
  "language_info": {
   "codemirror_mode": {
    "name": "ipython",
    "version": 3
   },
   "file_extension": ".py",
   "mimetype": "text/x-python",
   "name": "python",
   "nbconvert_exporter": "python",
   "pygments_lexer": "ipython3",
   "version": "3.6.8"
  }
 },
 "nbformat": 4,
 "nbformat_minor": 2
}
