{
 "cells": [
  {
   "cell_type": "markdown",
   "metadata": {},
   "source": [
    "# Curso BancoEstado-CMM: Aprendizaje de Máquinas Avanzado \n",
    "**Autores:** Taco de Wolff y Felipe Tobar  \n",
    "\n",
    "**Fecha:** 30 octubre, 2019\n",
    "\n",
    "\n",
    "# Módulo 5 - Modelos paramétricos y redes neuronales usando PyTorch\n",
    "**Contenidos**\n",
    "- ¿Qué es PyTorch y cómo se compara con NumPy?\n",
    "- Construir y entrenar una Red Neuronal\n",
    "\n",
    "## Introducción\n",
    "PyTorch es una librería basado en Python para computaciones escientíficas con el objetivo de reemplazar NumPy para utilizar el poder de GPU, y proveer una media de investigaciones aprendizaje profunda con velocidad y flexibilidad. También existe TensorFlow que proviene más o menos lo mismo, pero una de las principales diferencias entre TensorFlow y PyTorch es que TensorFlow genera grafos estaticos, que deben ser construidos por completo antes de evaluarlos, en cambio PyTorch presenta grafos dinámicos, pueden ser modificados y evaluados por nodo.\n",
    "\n",
    "Características de PyTorch:\n",
    "* Permite trabajo en tensores, similares a NumPy array pero permitiendo operaciones en la GPU.\n",
    "* Diferenciación automática para construir y entrenar modelos, en particular redes neuronales.\n",
    "* La gran diferencia con usar NumPy es que PyTorch (al igual que TensorFlow) construyen un grafo de computación, que luego es alimentado con los valores.\n",
    "\n",
    "Instalar con `conda install pytorch torchvision cpuonly -c pytorch`."
   ]
  },
  {
   "cell_type": "code",
   "execution_count": 226,
   "metadata": {},
   "outputs": [],
   "source": [
    "import torch"
   ]
  },
  {
   "cell_type": "markdown",
   "metadata": {},
   "source": [
    "## Tensores\n",
    "Un tensor de PyTorch es similar al `ndarray` de NumPy. Exploremos que son tensores con código. Podemos alocar un tensor sin initializar sus valores con `torch.empty(shape)`. Esta nos da un tensor con valores que estaban en el memoria antes y es necesario initializar todos valores nosostros mismos."
   ]
  },
  {
   "cell_type": "code",
   "execution_count": 2,
   "metadata": {},
   "outputs": [
    {
     "data": {
      "text/plain": [
       "tensor([[0., 0., 0.],\n",
       "        [0., 0., 0.],\n",
       "        [0., 0., 0.],\n",
       "        [0., 0., 0.],\n",
       "        [0., 0., 0.]])"
      ]
     },
     "execution_count": 2,
     "metadata": {},
     "output_type": "execute_result"
    }
   ],
   "source": [
    "torch.empty(5, 3)"
   ]
  },
  {
   "cell_type": "markdown",
   "metadata": {},
   "source": [
    "También existen funciones que initializan los valores automaticamente:"
   ]
  },
  {
   "cell_type": "code",
   "execution_count": 3,
   "metadata": {},
   "outputs": [
    {
     "data": {
      "text/plain": [
       "tensor([[0., 0., 0.],\n",
       "        [0., 0., 0.],\n",
       "        [0., 0., 0.],\n",
       "        [0., 0., 0.],\n",
       "        [0., 0., 0.]])"
      ]
     },
     "execution_count": 3,
     "metadata": {},
     "output_type": "execute_result"
    }
   ],
   "source": [
    "torch.zeros(5, 3)"
   ]
  },
  {
   "cell_type": "markdown",
   "metadata": {},
   "source": [
    "Y con valores aleatoreas entre `0` y `1`:"
   ]
  },
  {
   "cell_type": "code",
   "execution_count": 4,
   "metadata": {},
   "outputs": [
    {
     "data": {
      "text/plain": [
       "tensor([[0.2407, 0.4107, 0.3400],\n",
       "        [0.9043, 0.4654, 0.8055],\n",
       "        [0.9965, 0.9968, 0.9355],\n",
       "        [0.4720, 0.7296, 0.7709],\n",
       "        [0.1129, 0.5934, 0.5383]])"
      ]
     },
     "execution_count": 4,
     "metadata": {},
     "output_type": "execute_result"
    }
   ],
   "source": [
    "torch.rand(5, 3)"
   ]
  },
  {
   "cell_type": "markdown",
   "metadata": {},
   "source": [
    "O con desde un areglo de Python:"
   ]
  },
  {
   "cell_type": "code",
   "execution_count": 5,
   "metadata": {},
   "outputs": [
    {
     "data": {
      "text/plain": [
       "tensor(1)"
      ]
     },
     "execution_count": 5,
     "metadata": {},
     "output_type": "execute_result"
    }
   ],
   "source": [
    "torch.tensor([[5.5, 9, 3], [9.9, 0.2, 3]])\n",
    "torch.tensor(1)"
   ]
  },
  {
   "cell_type": "markdown",
   "metadata": {},
   "source": [
    "### Conección con NumPy\n",
    "Al fondo PyTorch y NumPy usan los mismos datos. Cambiar desde NumPy hasta PyTorch no duplica los datos, refieren a los mismos datos. Es decir que cambiar los datos en uno afectan los valores en el otro."
   ]
  },
  {
   "cell_type": "code",
   "execution_count": 6,
   "metadata": {},
   "outputs": [],
   "source": [
    "import numpy as np"
   ]
  },
  {
   "cell_type": "markdown",
   "metadata": {},
   "source": [
    "Creamos un areglo en NumPy, convertímoslo hasta PyTorch. Después cambiamos un valor en NumPy y veamos el cambio en PyTorch:"
   ]
  },
  {
   "cell_type": "code",
   "execution_count": 7,
   "metadata": {},
   "outputs": [
    {
     "name": "stdout",
     "output_type": "stream",
     "text": [
      "tensor([1., 1., 1., 1., 1.], dtype=torch.float64)\n",
      "tensor([  1.,   1.,   1., 100.,   1.], dtype=torch.float64)\n"
     ]
    }
   ],
   "source": [
    "np_areglo = np.ones(5)\n",
    "pt_tensor = torch.from_numpy(np_areglo)\n",
    "\n",
    "print(pt_tensor)\n",
    "\n",
    "np_areglo[3] = 100\n",
    "\n",
    "print(pt_tensor)"
   ]
  },
  {
   "cell_type": "markdown",
   "metadata": {},
   "source": [
    "Y también el revés:"
   ]
  },
  {
   "cell_type": "code",
   "execution_count": 8,
   "metadata": {},
   "outputs": [
    {
     "name": "stdout",
     "output_type": "stream",
     "text": [
      "[1. 1. 1. 1. 1.]\n",
      "[  1.   1.   1. 100.   1.]\n"
     ]
    }
   ],
   "source": [
    "pt_tensor = torch.ones(5)\n",
    "np_areglo = pt_tensor.numpy()\n",
    "\n",
    "print(np_areglo)\n",
    "\n",
    "pt_tensor[3] = 100\n",
    "\n",
    "print(np_areglo)"
   ]
  },
  {
   "cell_type": "markdown",
   "metadata": {},
   "source": [
    "### Operaciones básicas con tensores\n",
    "Sumar dos tensores:"
   ]
  },
  {
   "cell_type": "code",
   "execution_count": 9,
   "metadata": {},
   "outputs": [
    {
     "data": {
      "text/plain": [
       "tensor([[1.1782, 1.4035, 1.9314],\n",
       "        [1.5287, 1.3101, 1.6226],\n",
       "        [1.9442, 1.7406, 1.0712],\n",
       "        [1.3767, 1.8617, 1.3836],\n",
       "        [1.2778, 1.6913, 1.4779]])"
      ]
     },
     "execution_count": 9,
     "metadata": {},
     "output_type": "execute_result"
    }
   ],
   "source": [
    "x = torch.ones(5, 3)\n",
    "y = torch.rand(5, 3)\n",
    "z = x + y\n",
    "z"
   ]
  },
  {
   "cell_type": "markdown",
   "metadata": {},
   "source": [
    "Lo que pasa arriba es que creemos un nuevo tensor con valores del sumo entre `x` y `y`. Cuando estemos en un bucle sumando los dos tensores por ejemplo, lo de arriba será muy ineficiente por que estamos alocando memoria de un tensor nuevo cada vez.\n",
    "\n",
    "PyTorch nos permite definir explícito que queremos usar el tensor `z` para la salida, evitando alocar más memoria. Usemos `torch.add()` con el parámetros `out` que define donde guardar los resultados de la operación:"
   ]
  },
  {
   "cell_type": "code",
   "execution_count": 10,
   "metadata": {},
   "outputs": [
    {
     "name": "stdout",
     "output_type": "stream",
     "text": [
      "x + y =\n",
      " tensor([[1.5051, 1.0503, 1.6637],\n",
      "        [1.4969, 1.0521, 1.5821],\n",
      "        [1.1165, 1.6013, 1.7955],\n",
      "        [1.9918, 1.6178, 1.0880],\n",
      "        [1.5296, 1.9169, 1.5099]])\n",
      "\n",
      "2x + y =\n",
      " tensor([[2.5051, 2.0503, 2.6637],\n",
      "        [2.4969, 2.0521, 2.5821],\n",
      "        [2.1165, 2.6013, 2.7955],\n",
      "        [2.9918, 2.6178, 2.0880],\n",
      "        [2.5296, 2.9169, 2.5099]])\n"
     ]
    }
   ],
   "source": [
    "x = torch.ones(5, 3)\n",
    "y = torch.rand(5, 3)\n",
    "z = torch.empty(5, 3)\n",
    "\n",
    "torch.add(x, y, out=z)\n",
    "print(\"x + y =\\n\", z)\n",
    "\n",
    "torch.add(x, z, out=z)\n",
    "print(\"\\n2x + y =\\n\", z)"
   ]
  },
  {
   "cell_type": "markdown",
   "metadata": {},
   "source": [
    "#### Cambiar tamaño\n",
    "Cambiar el tamaño del tensor usando `torch.view()`. Si tenemos un tensor con tamaño `(4,4)`, podemos cambiar la 'vista' al tensor y cambiar su tamaño. Dando un tamaño `-1` para una dimensión automaticamente usa el valor que es válido. "
   ]
  },
  {
   "cell_type": "code",
   "execution_count": 11,
   "metadata": {},
   "outputs": [
    {
     "data": {
      "text/plain": [
       "tensor([[ 5.4235e-01,  8.2155e-01,  2.6053e+00, -1.2334e+00],\n",
       "        [ 5.1302e-04, -9.4395e-01, -2.4674e-01, -1.4677e+00],\n",
       "        [-4.1857e-01, -5.5607e-02, -2.5504e-01,  4.8656e-01],\n",
       "        [-1.8836e-01,  3.4769e-01,  9.6786e-01,  1.1124e+00]])"
      ]
     },
     "execution_count": 11,
     "metadata": {},
     "output_type": "execute_result"
    }
   ],
   "source": [
    "t = torch.randn(4, 4)\n",
    "t"
   ]
  },
  {
   "cell_type": "code",
   "execution_count": 12,
   "metadata": {},
   "outputs": [
    {
     "data": {
      "text/plain": [
       "tensor([ 5.4235e-01,  8.2155e-01,  2.6053e+00, -1.2334e+00,  5.1302e-04,\n",
       "        -9.4395e-01, -2.4674e-01, -1.4677e+00, -4.1857e-01, -5.5607e-02,\n",
       "        -2.5504e-01,  4.8656e-01, -1.8836e-01,  3.4769e-01,  9.6786e-01,\n",
       "         1.1124e+00])"
      ]
     },
     "execution_count": 12,
     "metadata": {},
     "output_type": "execute_result"
    }
   ],
   "source": [
    "t.view(16)"
   ]
  },
  {
   "cell_type": "code",
   "execution_count": 13,
   "metadata": {},
   "outputs": [
    {
     "data": {
      "text/plain": [
       "tensor([[ 5.4235e-01,  8.2155e-01],\n",
       "        [ 2.6053e+00, -1.2334e+00],\n",
       "        [ 5.1302e-04, -9.4395e-01],\n",
       "        [-2.4674e-01, -1.4677e+00],\n",
       "        [-4.1857e-01, -5.5607e-02],\n",
       "        [-2.5504e-01,  4.8656e-01],\n",
       "        [-1.8836e-01,  3.4769e-01],\n",
       "        [ 9.6786e-01,  1.1124e+00]])"
      ]
     },
     "execution_count": 13,
     "metadata": {},
     "output_type": "execute_result"
    }
   ],
   "source": [
    "t.view(-1, 2)"
   ]
  },
  {
   "cell_type": "code",
   "execution_count": 14,
   "metadata": {},
   "outputs": [
    {
     "data": {
      "text/plain": [
       "tensor([[ 5.4235e-01,  8.2155e-01],\n",
       "        [ 2.6053e+00, -1.2334e+00],\n",
       "        [ 5.1302e-04, -9.4395e-01],\n",
       "        [-2.4674e-01, -1.4677e+00],\n",
       "        [-4.1857e-01, -5.5607e-02],\n",
       "        [-2.5504e-01,  4.8656e-01],\n",
       "        [-1.8836e-01,  3.4769e-01],\n",
       "        [ 9.6786e-01,  1.1124e+00]])"
      ]
     },
     "execution_count": 14,
     "metadata": {},
     "output_type": "execute_result"
    }
   ],
   "source": [
    "t.view(8, -1)"
   ]
  },
  {
   "cell_type": "code",
   "execution_count": 15,
   "metadata": {},
   "outputs": [
    {
     "data": {
      "text/plain": [
       "tensor([[[ 5.4235e-01,  8.2155e-01],\n",
       "         [ 2.6053e+00, -1.2334e+00]],\n",
       "\n",
       "        [[ 5.1302e-04, -9.4395e-01],\n",
       "         [-2.4674e-01, -1.4677e+00]],\n",
       "\n",
       "        [[-4.1857e-01, -5.5607e-02],\n",
       "         [-2.5504e-01,  4.8656e-01]],\n",
       "\n",
       "        [[-1.8836e-01,  3.4769e-01],\n",
       "         [ 9.6786e-01,  1.1124e+00]]])"
      ]
     },
     "execution_count": 15,
     "metadata": {},
     "output_type": "execute_result"
    }
   ],
   "source": [
    "t.view(4, 2, 2)"
   ]
  },
  {
   "cell_type": "markdown",
   "metadata": {},
   "source": [
    "#### Multiplicaciones\n",
    "Por cada valor:"
   ]
  },
  {
   "cell_type": "code",
   "execution_count": 16,
   "metadata": {},
   "outputs": [
    {
     "data": {
      "text/plain": [
       "tensor([ 4, 24, 18])"
      ]
     },
     "execution_count": 16,
     "metadata": {},
     "output_type": "execute_result"
    }
   ],
   "source": [
    "a = torch.tensor([4, 3, 9])\n",
    "b = torch.tensor([1, 8, 2])\n",
    "a * b"
   ]
  },
  {
   "cell_type": "markdown",
   "metadata": {},
   "source": [
    "Dot product entre dos vectores:"
   ]
  },
  {
   "cell_type": "code",
   "execution_count": 17,
   "metadata": {},
   "outputs": [
    {
     "data": {
      "text/plain": [
       "tensor(46)"
      ]
     },
     "execution_count": 17,
     "metadata": {},
     "output_type": "execute_result"
    }
   ],
   "source": [
    "torch.dot(a, b) # a^T b"
   ]
  },
  {
   "cell_type": "markdown",
   "metadata": {},
   "source": [
    "Outer product entre vectores da una matriz:"
   ]
  },
  {
   "cell_type": "code",
   "execution_count": 18,
   "metadata": {},
   "outputs": [
    {
     "data": {
      "text/plain": [
       "tensor([[ 4, 32,  8],\n",
       "        [ 3, 24,  6],\n",
       "        [ 9, 72, 18]])"
      ]
     },
     "execution_count": 18,
     "metadata": {},
     "output_type": "execute_result"
    }
   ],
   "source": [
    "torch.ger(a, b) # a b^T"
   ]
  },
  {
   "cell_type": "markdown",
   "metadata": {},
   "source": [
    "Entre un vector y una matriz:"
   ]
  },
  {
   "cell_type": "code",
   "execution_count": 19,
   "metadata": {},
   "outputs": [
    {
     "data": {
      "text/plain": [
       "tensor([ 16.,  13., -97.])"
      ]
     },
     "execution_count": 19,
     "metadata": {},
     "output_type": "execute_result"
    }
   ],
   "source": [
    "m = torch.tensor([[2.0, 0.5], [1.0, -1.0], [-9.0, 4.0]])\n",
    "v = torch.tensor([9.0, -4.0])\n",
    "torch.mv(m, v)"
   ]
  },
  {
   "cell_type": "markdown",
   "metadata": {},
   "source": [
    "Entre dos matrizes:"
   ]
  },
  {
   "cell_type": "code",
   "execution_count": 20,
   "metadata": {},
   "outputs": [
    {
     "data": {
      "text/plain": [
       "tensor([[0.4544, 0.9667, 0.2806, 0.4770],\n",
       "        [0.8022, 1.4211, 0.5585, 0.7921],\n",
       "        [0.6241, 1.3195, 0.7368, 0.6820],\n",
       "        [0.5082, 0.6786, 0.1941, 0.4461],\n",
       "        [0.7949, 0.9010, 0.6169, 0.6922]])"
      ]
     },
     "execution_count": 20,
     "metadata": {},
     "output_type": "execute_result"
    }
   ],
   "source": [
    "m1 = torch.rand(5, 3)\n",
    "m2 = torch.rand(3, 4)\n",
    "m3 = torch.mm(m1, m2) # tamaño 5x4\n",
    "m3"
   ]
  },
  {
   "cell_type": "code",
   "execution_count": 21,
   "metadata": {},
   "outputs": [
    {
     "data": {
      "text/plain": [
       "tensor([0.4544, 1.4211, 0.7368, 0.4461])"
      ]
     },
     "execution_count": 21,
     "metadata": {},
     "output_type": "execute_result"
    }
   ],
   "source": [
    "m3.diag()"
   ]
  },
  {
   "cell_type": "markdown",
   "metadata": {},
   "source": [
    "## Autograd\n",
    "El package the `Autograd` permite diferenciación automática para todas las operaciones con tensores. Especialmente util al realizar _Backpropagation_ en las redes neuronales.\n",
    "\n",
    "Para activarlo, al crear un tensor se debe fijar el atributo `.requires_grad` como `True` guarda todas las operaciones en dicho tensor, cuando terminas de realizar calculos (Por ejemplo aplicar capas de una red) se puede llamar a `.backward()` y tener todos los gradientes calculados automáticamente. Donde el gradiente del tensor queda acumulado en el atributo `.grad`\n",
    "\n",
    "Es este caso, tenemos\n",
    "$$A = \\begin{bmatrix}1&0&2\\end{bmatrix}$$\n",
    "$$B(A) = A * A$$\n",
    "$$C(B) = B * 2$$\n",
    "\n",
    "Según el _chain rule_ decimos\n",
    "$$\\frac{\\delta C}{\\delta A} = C'(B) * B'(A) = 2 * 2 A$$\n",
    "$$\\frac{\\delta C}{\\delta B} = C'(B) = 2$$\n",
    "\n",
    "La función `backward(x)` calcula la `grad` para todos los variables que tiene `requires_grad=True` o `retain_grad()`. El argumento `x` es la gradiente al frente de nuestro graph (más adelante de $C$). Normalmente tomamos una tensor unidad con tamaño de $C$ para `x`. Por ejemplo, $\\textrm{A.grad} = \\frac{\\delta C}{\\delta A} = 4\\cdot\\begin{bmatrix}1&0&2\\end{bmatrix} = \\begin{bmatrix}4&0&8\\end{bmatrix}$"
   ]
  },
  {
   "cell_type": "code",
   "execution_count": 268,
   "metadata": {},
   "outputs": [
    {
     "name": "stdout",
     "output_type": "stream",
     "text": [
      "A: tensor([[1., 0., 2.]], requires_grad=True)\n",
      "B: tensor([[1., 0., 4.]], grad_fn=<MulBackward0>)\n",
      "C: tensor([[2., 0., 8.]], grad_fn=<MulBackward0>)\n",
      "A.grad: tensor([[4., 0., 8.]])\n",
      "B.grad: tensor([[2., 2., 2.]])\n"
     ]
    }
   ],
   "source": [
    "A = torch.tensor([[1,0,2]], dtype=torch.float, requires_grad=True) # calculamos el grad para A\n",
    "B = A * A\n",
    "C = B * 2\n",
    "\n",
    "B.retain_grad() # calculamos también el grad para B\n",
    "\n",
    "print('A:', A)\n",
    "print('B:', B)\n",
    "print('C:', C)\n",
    "\n",
    "C.backward(torch.ones(1, 3)) # pasamos un vector [1,1,1] para calcular el grad\n",
    "\n",
    "print('A.grad:', A.grad)\n",
    "print('B.grad:', B.grad)"
   ]
  },
  {
   "cell_type": "markdown",
   "metadata": {},
   "source": [
    "Tenemos\n",
    "$$f = \\frac{1}{4}\\sum_j 3(x_j + 2)^2$$\n",
    ", thus\n",
    "$$\\begin{align}\n",
    "\\frac{\\delta f}{\\delta x_i} &= \\frac{1}{4}\\sum_j \\frac{\\delta z_j}{\\delta x_i}& \\\\\n",
    "&= \\frac{1}{4}\\sum_j \\frac{\\delta 3y_j^2}{\\delta x_i} & \\\\\n",
    "&= \\frac{1}{4}\\sum_j 6 y_j\\frac{\\delta y_j}{\\delta x_i} & \\\\\n",
    "&= \\frac{3}{2}\\sum_j (x_j + 2)\\frac{\\delta (x_j + 2)}{\\delta x_i} & \\\\\n",
    "&= \\frac{3}{2}\\sum_j (x_j + 2)\\frac{\\delta x_j}{\\delta x_i} & \\\\\n",
    "&= \\frac{3}{2}(x_i + 2) & \\frac{\\delta x_j}{\\delta x_i} = 0 \\;\\textrm{if}\\; i \\neq j \\\\\n",
    "\\end{align}$$\n",
    "\n",
    "Como $x$ es una matrix $2 \\times 2$, el gradiente va a ser una matriz de $2 \\times 2$.\n",
    "\n",
    "$$\\textrm{x.grad} = \\frac{\\delta f}{\\delta x_i}\\bigg\\rvert_{x_i=x} = \\begin{bmatrix}\\frac{3}{2}(2 + 2) & \\frac{3}{2}(1 + 2) \\\\ \\frac{3}{2}(0 + 2) & \\frac{3}{2}(1 + 2)\\end{bmatrix} = \\begin{bmatrix}6 & 4.5 \\\\ 3 & 4.5\\end{bmatrix}$$"
   ]
  },
  {
   "cell_type": "code",
   "execution_count": 269,
   "metadata": {},
   "outputs": [
    {
     "name": "stdout",
     "output_type": "stream",
     "text": [
      "tensor([[6.0000, 4.5000],\n",
      "        [3.0000, 4.5000]])\n"
     ]
    }
   ],
   "source": [
    "x = torch.tensor([[2,1],[0,1]], dtype=torch.float, requires_grad=True)\n",
    "y = x + 2\n",
    "z = y * y * 3\n",
    "f = z.mean()\n",
    "\n",
    "f.backward(torch.ones(1,1))\n",
    "\n",
    "print(x.grad)"
   ]
  },
  {
   "cell_type": "markdown",
   "metadata": {},
   "source": [
    "## Ejemplo de modelo no lineal"
   ]
  },
  {
   "cell_type": "code",
   "execution_count": 227,
   "metadata": {},
   "outputs": [
    {
     "name": "stdout",
     "output_type": "stream",
     "text": [
      "(144,)\n"
     ]
    },
    {
     "data": {
      "text/plain": [
       "Text(0.5, 1.0, 'Airline dataset')"
      ]
     },
     "execution_count": 227,
     "metadata": {},
     "output_type": "execute_result"
    },
    {
     "data": {
      "image/png": "[encoded data removed]",
      "text/plain": [
       "<Figure size 1152x432 with 1 Axes>"
      ]
     },
     "metadata": {
      "needs_background": "light"
     },
     "output_type": "display_data"
    }
   ],
   "source": [
    "%matplotlib inline\n",
    "import matplotlib.pyplot as plt\n",
    "\n",
    "data = np.loadtxt('passenger_data.txt')\n",
    "x = data[:,0]\n",
    "y = data[:,1]\n",
    "r = 0.8 #training vesus all ratio\n",
    "til_train = int(len(y)*r)\n",
    "#x = x-til_train\n",
    "\n",
    "z = 10 * np.sin(x*0.51) * np.exp(x*0.02) + 100 + x*2.49\n",
    "\n",
    "x_trn = x[:int(len(y)*r)]\n",
    "y_trn = y[:int(len(y)*r)]\n",
    "\n",
    "x_tst = x[int(len(y)*r):]\n",
    "y_tst = y[int(len(y)*r):]\n",
    "print(y.shape)\n",
    "\n",
    "plt.figure(figsize=(16, 6))\n",
    "plt.plot(x_tst,y_tst, 'or')\n",
    "plt.plot(x_trn,y_trn, 'og')\n",
    "plt.title('Airline dataset')"
   ]
  },
  {
   "cell_type": "code",
   "execution_count": 30,
   "metadata": {},
   "outputs": [
    {
     "name": "stdout",
     "output_type": "stream",
     "text": [
      "modelo_nolineal()\n"
     ]
    }
   ],
   "source": [
    "import torch\n",
    "import torch.nn as nn\n",
    "import torch.nn.functional as F\n",
    "\n",
    "\n",
    "class modelo_nolineal(nn.Module):\n",
    "\n",
    "    def __init__(self):\n",
    "        super(modelo_nolineal, self).__init__()\n",
    "        #self.a = nn.Parameter(torch.randn(1, requires_grad=True, dtype=torch.float))\n",
    "        #self.b = nn.Parameter(torch.randn(1, requires_grad=True, dtype=torch.float))\n",
    "        #self.c = nn.Parameter(torch.randn(1, requires_grad=True, dtype=torch.float))\n",
    "        #self.d = nn.Parameter(torch.randn(1, requires_grad=True, dtype=torch.float))\n",
    "        #self.e = nn.Parameter(torch.randn(1, requires_grad=True, dtype=torch.float))\n",
    "        #self.f = nn.Parameter(torch.randn(1, requires_grad=True, dtype=torch.float))\n",
    "        self.a = nn.Parameter(torch.tensor([100], dtype=torch.float, requires_grad=True))\n",
    "        self.b = nn.Parameter(torch.tensor([2], dtype=torch.float, requires_grad=True))\n",
    "        self.c = nn.Parameter(torch.tensor([10], dtype=torch.float, requires_grad=True))\n",
    "        self.d = nn.Parameter(torch.tensor([1], dtype=torch.float, requires_grad=True))\n",
    "        self.e = nn.Parameter(torch.tensor([0.01], dtype=torch.float, requires_grad=True))\n",
    "        self.f = nn.Parameter(torch.tensor([0], dtype=torch.float, requires_grad=True))\n",
    "\n",
    "        \n",
    "\n",
    "    def forward(self, x):\n",
    "        #return self.a + self.b * x\n",
    "        bias = self.a\n",
    "        slope = self.b\n",
    "        growth = self.c * torch.exp(self.d * x)\n",
    "        oscillatory = torch.cos(2*np.pi* x/12 + self.f)\n",
    "        return bias + slope * x + growth * oscillatory\n",
    "        #return self.a + self.b*x + self.c*x**2 \n",
    "\n",
    "\n",
    "modelo = modelo_nolineal()\n",
    "print(modelo)"
   ]
  },
  {
   "cell_type": "code",
   "execution_count": 232,
   "metadata": {},
   "outputs": [
    {
     "name": "stdout",
     "output_type": "stream",
     "text": [
      "modelo_NN(\n",
      "  (fc1): Linear(in_features=1, out_features=120, bias=True)\n",
      "  (fc2): Linear(in_features=120, out_features=240, bias=True)\n",
      "  (fc3): Linear(in_features=240, out_features=200, bias=True)\n",
      "  (fc4): Linear(in_features=200, out_features=150, bias=True)\n",
      "  (fc5): Linear(in_features=150, out_features=100, bias=True)\n",
      "  (fc6): Linear(in_features=100, out_features=50, bias=True)\n",
      "  (fc7): Linear(in_features=50, out_features=1, bias=True)\n",
      ")\n"
     ]
    }
   ],
   "source": [
    "import torch\n",
    "import torch.nn as nn\n",
    "import torch.nn.functional as F\n",
    "\n",
    "\n",
    "class modelo_NN(nn.Module):\n",
    "\n",
    "    def __init__(self):\n",
    "        super(modelo_NN, self).__init__()\n",
    "        self.fc1 = nn.Linear(1, 120)  \n",
    "        self.fc2 = nn.Linear(120, 240)\n",
    "        self.fc3 = nn.Linear(240, 200)\n",
    "        self.fc4 = nn.Linear(200, 150)\n",
    "        self.fc5 = nn.Linear(150, 100)\n",
    "        self.fc6 = nn.Linear(100, 50)\n",
    "        self.fc7 = nn.Linear(50, 1)\n",
    "\n",
    "        \n",
    "\n",
    "    def forward(self, x):\n",
    "        x = F.relu(self.fc1(x))\n",
    "        x = F.relu(self.fc2(x))\n",
    "        x = F.relu(self.fc3(x))\n",
    "        x = F.relu(self.fc4(x))\n",
    "        x = F.relu(self.fc5(x))\n",
    "        x = F.relu(self.fc6(x))\n",
    "        x = self.fc7(x)\n",
    "        return x\n",
    "\n",
    "\n",
    "modelo = modelo_NN()\n",
    "print(modelo)\n",
    "\n"
   ]
  },
  {
   "cell_type": "code",
   "execution_count": 233,
   "metadata": {},
   "outputs": [
    {
     "name": "stdout",
     "output_type": "stream",
     "text": [
      "Capas: 14\n",
      "Tamaño de parámetro 1 => torch.Size([120, 1])\n",
      "Tamaño de parámetro 2 => torch.Size([120])\n",
      "Tamaño de parámetro 3 => torch.Size([240, 120])\n",
      "Tamaño de parámetro 4 => torch.Size([240])\n",
      "Tamaño de parámetro 5 => torch.Size([200, 240])\n",
      "Tamaño de parámetro 6 => torch.Size([200])\n",
      "Tamaño de parámetro 7 => torch.Size([150, 200])\n",
      "Tamaño de parámetro 8 => torch.Size([150])\n",
      "Tamaño de parámetro 9 => torch.Size([100, 150])\n",
      "Tamaño de parámetro 10 => torch.Size([100])\n",
      "Tamaño de parámetro 11 => torch.Size([50, 100])\n",
      "Tamaño de parámetro 12 => torch.Size([50])\n",
      "Tamaño de parámetro 13 => torch.Size([1, 50])\n",
      "Tamaño de parámetro 14 => torch.Size([1])\n"
     ]
    }
   ],
   "source": [
    "params = list(modelo.parameters())\n",
    "print(\"Capas:\", len(params))\n",
    "for i, param in enumerate(params):\n",
    "    print(\"Tamaño de parámetro\", i+1, \"=>\", param.size())"
   ]
  },
  {
   "cell_type": "markdown",
   "metadata": {},
   "source": [
    "### Función de perdida\n",
    "Una función de perdida toma una salida y el objetivo de su valor para calcular una medida de error. Por ejemplo, el `nn.MSELoss` que calcula el error de escuadrados mínimos:"
   ]
  },
  {
   "cell_type": "code",
   "execution_count": 234,
   "metadata": {},
   "outputs": [
    {
     "name": "stdout",
     "output_type": "stream",
     "text": [
      "tensor([-0.0678], grad_fn=<AddBackward0>)\n"
     ]
    }
   ],
   "source": [
    "input = torch.randn(1)\n",
    "out = modelo(input)\n",
    "print(out)  # tensor con tamaño 1x10"
   ]
  },
  {
   "cell_type": "code",
   "execution_count": 235,
   "metadata": {},
   "outputs": [
    {
     "name": "stdout",
     "output_type": "stream",
     "text": [
      "tensor(0.1492, grad_fn=<MseLossBackward>)\n"
     ]
    }
   ],
   "source": [
    "output = modelo(input)\n",
    "target = torch.randn(1)  # a dummy target, for example\n",
    "criterion = nn.MSELoss()\n",
    "\n",
    "loss = criterion(output, target)\n",
    "print(loss)"
   ]
  },
  {
   "cell_type": "markdown",
   "metadata": {},
   "source": [
    "Usamos propagación hacia atrás para empotrar los valores de error en nuestros cadas de red neuronal. En PyTorch hacemos el \"backprop\" simplemente usando `backward()` en la salida de función de perdida:"
   ]
  },
  {
   "cell_type": "code",
   "execution_count": 236,
   "metadata": {},
   "outputs": [],
   "source": [
    "modelo.zero_grad()  # borrar los valores de antes de todos parámetros\n",
    "\n",
    "loss.backward()\n",
    "\n",
    "#modelo.a.grad\n",
    "#net.conv1.bias.grad"
   ]
  },
  {
   "cell_type": "markdown",
   "metadata": {},
   "source": [
    "### Actualizar los pesos\n",
    "El método más simple de actualizar los pesos es el \"Stochastic Gradient Descent (SGD)\". En PyTorch podemos usar el packete `torch.optim` que nos da implementaciones de varios tipos de reglas de actualizar (como SGD, Nesterov-SGD, Adam, RMSProp, ...)."
   ]
  },
  {
   "cell_type": "code",
   "execution_count": 237,
   "metadata": {},
   "outputs": [],
   "source": [
    "# create your optimizer\n",
    "optimizer = torch.optim.SGD(modelo.parameters(), lr=0.01)\n",
    "\n",
    "# in your training loop:\n",
    "optimizer.zero_grad()   # zero the gradient buffers\n",
    "output = modelo(input)\n",
    "loss = criterion(output, target)\n",
    "loss.backward()\n",
    "optimizer.step()    # Does the update\n"
   ]
  },
  {
   "cell_type": "markdown",
   "metadata": {},
   "source": [
    "### entrenamiento"
   ]
  },
  {
   "cell_type": "code",
   "execution_count": 265,
   "metadata": {},
   "outputs": [],
   "source": [
    "import torch.utils.data as utils\n",
    "\n",
    "tensor_x = torch.from_numpy(x_trn).float()\n",
    "tensor_y = torch.from_numpy(y_trn).float()\n",
    "\n",
    "dataset_tr = utils.TensorDataset(tensor_x,tensor_y) # create your datset\n",
    "b_size = 10\n",
    "trainloader = utils.DataLoader(dataset_tr, batch_size=b_size) # create your dataloader"
   ]
  },
  {
   "cell_type": "code",
   "execution_count": 266,
   "metadata": {
    "scrolled": true
   },
   "outputs": [
    {
     "name": "stdout",
     "output_type": "stream",
     "text": [
      "[1,    12] loss: 33253627951.100\n",
      "[2,    12] loss: 267822.195\n",
      "[3,    12] loss: 872664.761\n",
      "[4,    12] loss: 357030.815\n",
      "[5,    12] loss: 77191.034\n",
      "[6,    12] loss: 26747.622\n",
      "[7,    12] loss: 26271.587\n",
      "[8,    12] loss: 23825.047\n",
      "[9,    12] loss: 20686.058\n",
      "[10,    12] loss: 18389.493\n",
      "[11,    12] loss: 22268.879\n",
      "[12,    12] loss: 19525.963\n",
      "[13,    12] loss: 18100.708\n",
      "[14,    12] loss: 17049.612\n",
      "[15,    12] loss: 16820.573\n",
      "[16,    12] loss: 22542.012\n",
      "[17,    12] loss: 16796.504\n",
      "[18,    12] loss: 16690.619\n",
      "[19,    12] loss: 16777.618\n",
      "[20,    12] loss: 16490.461\n",
      "[21,    12] loss: 16103.151\n",
      "[22,    12] loss: 16265.027\n",
      "[23,    12] loss: 15914.524\n",
      "[24,    12] loss: 15900.752\n",
      "[25,    12] loss: 15810.957\n",
      "[26,    12] loss: 15804.400\n",
      "[27,    12] loss: 15805.474\n",
      "[28,    12] loss: 16333.206\n",
      "[29,    12] loss: 15665.586\n",
      "[30,    12] loss: 15595.918\n",
      "[31,    12] loss: 16336.602\n",
      "[32,    12] loss: 16238.112\n",
      "[33,    12] loss: 16863.115\n",
      "[34,    12] loss: 16627.365\n",
      "[35,    12] loss: 15984.428\n",
      "[36,    12] loss: 16687.937\n",
      "[37,    12] loss: 16084.286\n",
      "[38,    12] loss: 21669.731\n",
      "[39,    12] loss: 21312.716\n",
      "[40,    12] loss: 19917.044\n",
      "[41,    12] loss: 17719.437\n",
      "[42,    12] loss: 17206.532\n",
      "[43,    12] loss: 17409.511\n",
      "[44,    12] loss: 16939.955\n",
      "[45,    12] loss: 17245.675\n",
      "[46,    12] loss: 16787.861\n",
      "[47,    12] loss: 18503.177\n",
      "[48,    12] loss: 17211.661\n",
      "[49,    12] loss: 17736.340\n",
      "[50,    12] loss: 16916.631\n",
      "[51,    12] loss: 19318.779\n",
      "[52,    12] loss: 17923.154\n",
      "[53,    12] loss: 17000.507\n",
      "[54,    12] loss: 17412.099\n",
      "[55,    12] loss: 17096.918\n",
      "[56,    12] loss: 19494.430\n",
      "[57,    12] loss: 18135.805\n",
      "[58,    12] loss: 16180.114\n",
      "[59,    12] loss: 16092.991\n",
      "[60,    12] loss: 15451.404\n",
      "[61,    12] loss: 15194.757\n",
      "[62,    12] loss: 15249.746\n",
      "[63,    12] loss: 15302.205\n",
      "[64,    12] loss: 15247.127\n",
      "[65,    12] loss: 15227.534\n",
      "[66,    12] loss: 15352.480\n",
      "[67,    12] loss: 15279.510\n",
      "[68,    12] loss: 15252.570\n",
      "[69,    12] loss: 15248.646\n",
      "[70,    12] loss: 15271.671\n",
      "[71,    12] loss: 15324.424\n",
      "[72,    12] loss: 15387.758\n",
      "[73,    12] loss: 15236.677\n",
      "[74,    12] loss: 15312.462\n",
      "[75,    12] loss: 15293.758\n",
      "[76,    12] loss: 15245.822\n",
      "[77,    12] loss: 15402.794\n",
      "[78,    12] loss: 15187.580\n",
      "[79,    12] loss: 15446.510\n",
      "[80,    12] loss: 15146.662\n",
      "[81,    12] loss: 15535.445\n",
      "[82,    12] loss: 15173.293\n",
      "[83,    12] loss: 15463.942\n",
      "[84,    12] loss: 15362.365\n",
      "[85,    12] loss: 15328.700\n",
      "[86,    12] loss: 15290.300\n",
      "[87,    12] loss: 15314.394\n",
      "[88,    12] loss: 15250.405\n",
      "[89,    12] loss: 15417.974\n",
      "[90,    12] loss: 15183.775\n",
      "[91,    12] loss: 15536.875\n",
      "[92,    12] loss: 15109.971\n",
      "[93,    12] loss: 15495.254\n",
      "[94,    12] loss: 15021.540\n",
      "[95,    12] loss: 15539.602\n",
      "[96,    12] loss: 15068.092\n",
      "[97,    12] loss: 15546.129\n",
      "[98,    12] loss: 15248.569\n",
      "[99,    12] loss: 15458.792\n",
      "[100,    12] loss: 15282.549\n",
      "[101,    12] loss: 15447.065\n",
      "[102,    12] loss: 15333.152\n",
      "[103,    12] loss: 15444.445\n",
      "[104,    12] loss: 15358.071\n",
      "[105,    12] loss: 15385.097\n",
      "[106,    12] loss: 15393.082\n",
      "[107,    12] loss: 15367.969\n",
      "[108,    12] loss: 15407.387\n",
      "[109,    12] loss: 15352.836\n",
      "[110,    12] loss: 15384.342\n",
      "[111,    12] loss: 15478.313\n",
      "[112,    12] loss: 15359.109\n",
      "[113,    12] loss: 15424.131\n",
      "[114,    12] loss: 15395.776\n",
      "[115,    12] loss: 15351.276\n",
      "[116,    12] loss: 15429.947\n",
      "[117,    12] loss: 15374.789\n",
      "[118,    12] loss: 15385.510\n",
      "[119,    12] loss: 15379.147\n",
      "[120,    12] loss: 15290.412\n",
      "[121,    12] loss: 15278.251\n",
      "[122,    12] loss: 15375.054\n",
      "[123,    12] loss: 15285.492\n",
      "[124,    12] loss: 15298.218\n",
      "[125,    12] loss: 15344.758\n",
      "[126,    12] loss: 15342.589\n",
      "[127,    12] loss: 15373.436\n",
      "[128,    12] loss: 15297.378\n",
      "[129,    12] loss: 15281.228\n",
      "[130,    12] loss: 15343.705\n",
      "[131,    12] loss: 15332.956\n",
      "[132,    12] loss: 15317.705\n",
      "[133,    12] loss: 15262.403\n",
      "[134,    12] loss: 15297.355\n",
      "[135,    12] loss: 15318.103\n",
      "[136,    12] loss: 15295.173\n",
      "[137,    12] loss: 15266.650\n",
      "[138,    12] loss: 15312.321\n",
      "[139,    12] loss: 15263.908\n",
      "[140,    12] loss: 15282.548\n",
      "[141,    12] loss: 15291.366\n",
      "[142,    12] loss: 15280.546\n",
      "[143,    12] loss: 15279.391\n",
      "[144,    12] loss: 15274.261\n",
      "[145,    12] loss: 15284.429\n",
      "[146,    12] loss: 15280.424\n",
      "[147,    12] loss: 15231.396\n",
      "[148,    12] loss: 15321.701\n",
      "[149,    12] loss: 15298.443\n",
      "[150,    12] loss: 15310.493\n",
      "[151,    12] loss: 15280.781\n",
      "[152,    12] loss: 15271.045\n",
      "[153,    12] loss: 15277.635\n",
      "[154,    12] loss: 15351.281\n",
      "[155,    12] loss: 15269.828\n",
      "[156,    12] loss: 15272.881\n",
      "[157,    12] loss: 15269.100\n",
      "[158,    12] loss: 15299.693\n",
      "[159,    12] loss: 15266.615\n",
      "[160,    12] loss: 15326.580\n",
      "[161,    12] loss: 15263.000\n",
      "[162,    12] loss: 15315.919\n",
      "[163,    12] loss: 15267.861\n",
      "[164,    12] loss: 15297.364\n",
      "[165,    12] loss: 15276.479\n",
      "[166,    12] loss: 15297.077\n",
      "[167,    12] loss: 15269.728\n",
      "[168,    12] loss: 15315.778\n",
      "[169,    12] loss: 15262.012\n",
      "[170,    12] loss: 15270.215\n",
      "[171,    12] loss: 15295.121\n",
      "[172,    12] loss: 15274.465\n",
      "[173,    12] loss: 15280.655\n",
      "[174,    12] loss: 15276.290\n",
      "[175,    12] loss: 15251.252\n",
      "[176,    12] loss: 15257.630\n",
      "[177,    12] loss: 15228.953\n",
      "[178,    12] loss: 15239.610\n",
      "[179,    12] loss: 15245.517\n",
      "[180,    12] loss: 15202.261\n",
      "[181,    12] loss: 15266.398\n",
      "[182,    12] loss: 15231.846\n",
      "[183,    12] loss: 15304.882\n",
      "[184,    12] loss: 15217.740\n",
      "[185,    12] loss: 15291.375\n",
      "[186,    12] loss: 15234.768\n",
      "[187,    12] loss: 15259.163\n",
      "[188,    12] loss: 15246.359\n",
      "[189,    12] loss: 15244.336\n",
      "[190,    12] loss: 15226.147\n",
      "[191,    12] loss: 15255.442\n",
      "[192,    12] loss: 15202.843\n",
      "[193,    12] loss: 15314.565\n",
      "[194,    12] loss: 15220.136\n",
      "[195,    12] loss: 15295.958\n",
      "[196,    12] loss: 15259.728\n",
      "[197,    12] loss: 15368.195\n",
      "[198,    12] loss: 15215.371\n",
      "[199,    12] loss: 15350.148\n",
      "[200,    12] loss: 15580.078\n",
      "[201,    12] loss: 15616.696\n",
      "[202,    12] loss: 15414.412\n",
      "[203,    12] loss: 15780.958\n",
      "[204,    12] loss: 15238.696\n",
      "[205,    12] loss: 15748.480\n",
      "[206,    12] loss: 15359.165\n",
      "[207,    12] loss: 15427.464\n",
      "[208,    12] loss: 15909.867\n",
      "[209,    12] loss: 15295.505\n",
      "[210,    12] loss: 15778.648\n",
      "[211,    12] loss: 15211.855\n",
      "[212,    12] loss: 15579.850\n",
      "[213,    12] loss: 15143.996\n",
      "[214,    12] loss: 15768.818\n",
      "[215,    12] loss: 15183.169\n",
      "[216,    12] loss: 15639.667\n",
      "[217,    12] loss: 15213.233\n",
      "[218,    12] loss: 15457.471\n",
      "[219,    12] loss: 15213.364\n",
      "[220,    12] loss: 15379.094\n",
      "[221,    12] loss: 15266.646\n",
      "[222,    12] loss: 15490.803\n",
      "[223,    12] loss: 15276.262\n",
      "[224,    12] loss: 15869.189\n",
      "[225,    12] loss: 15195.977\n",
      "[226,    12] loss: 15928.007\n",
      "[227,    12] loss: 15151.661\n",
      "[228,    12] loss: 16223.756\n",
      "[229,    12] loss: 15266.098\n",
      "[230,    12] loss: 15852.563\n",
      "[231,    12] loss: 15269.119\n",
      "[232,    12] loss: 15997.092\n",
      "[233,    12] loss: 15201.153\n",
      "[234,    12] loss: 15832.759\n",
      "[235,    12] loss: 15173.675\n",
      "[236,    12] loss: 15684.825\n",
      "[237,    12] loss: 15265.613\n",
      "[238,    12] loss: 15960.754\n",
      "[239,    12] loss: 15200.328\n",
      "[240,    12] loss: 16624.457\n",
      "[241,    12] loss: 15498.752\n",
      "[242,    12] loss: 15572.415\n",
      "[243,    12] loss: 15840.827\n",
      "[244,    12] loss: 15367.722\n",
      "[245,    12] loss: 15948.497\n",
      "[246,    12] loss: 15344.866\n",
      "[247,    12] loss: 16978.235\n",
      "[248,    12] loss: 15834.125\n",
      "[249,    12] loss: 15573.045\n",
      "[250,    12] loss: 16199.286\n",
      "[251,    12] loss: 15419.894\n",
      "[252,    12] loss: 15565.722\n",
      "[253,    12] loss: 15978.358\n",
      "[254,    12] loss: 15327.814\n",
      "[255,    12] loss: 16124.311\n",
      "[256,    12] loss: 15422.979\n",
      "[257,    12] loss: 16065.154\n",
      "[258,    12] loss: 15481.756\n",
      "[259,    12] loss: 15785.220\n",
      "[260,    12] loss: 15618.674\n",
      "[261,    12] loss: 15738.987\n",
      "[262,    12] loss: 15611.325\n",
      "[263,    12] loss: 16367.731\n",
      "[264,    12] loss: 15593.396\n",
      "[265,    12] loss: 16037.602\n",
      "[266,    12] loss: 15483.512\n",
      "[267,    12] loss: 16293.023\n",
      "[268,    12] loss: 15561.436\n",
      "[269,    12] loss: 16032.842\n",
      "[270,    12] loss: 15585.828\n",
      "[271,    12] loss: 16686.874\n",
      "[272,    12] loss: 15777.443\n",
      "[273,    12] loss: 16228.106\n",
      "[274,    12] loss: 15659.804\n",
      "[275,    12] loss: 16597.520\n",
      "[276,    12] loss: 15729.942\n",
      "[277,    12] loss: 16372.807\n",
      "[278,    12] loss: 15677.976\n",
      "[279,    12] loss: 17068.012\n",
      "[280,    12] loss: 15724.939\n",
      "[281,    12] loss: 16641.491\n",
      "[282,    12] loss: 15815.502\n",
      "[283,    12] loss: 16384.012\n",
      "[284,    12] loss: 15766.180\n",
      "[285,    12] loss: 16224.267\n",
      "[286,    12] loss: 15823.827\n",
      "[287,    12] loss: 16248.245\n",
      "[288,    12] loss: 15883.423\n",
      "[289,    12] loss: 16348.726\n",
      "[290,    12] loss: 15892.166\n",
      "[291,    12] loss: 16269.641\n",
      "[292,    12] loss: 15879.370\n"
     ]
    },
    {
     "name": "stdout",
     "output_type": "stream",
     "text": [
      "[293,    12] loss: 16238.258\n",
      "[294,    12] loss: 16095.742\n",
      "[295,    12] loss: 16067.693\n",
      "[296,    12] loss: 16206.870\n",
      "[297,    12] loss: 16095.727\n",
      "[298,    12] loss: 16061.632\n",
      "[299,    12] loss: 16280.380\n",
      "[300,    12] loss: 16033.868\n",
      "[301,    12] loss: 16179.651\n",
      "[302,    12] loss: 15944.266\n",
      "[303,    12] loss: 16134.808\n",
      "[304,    12] loss: 15918.476\n",
      "[305,    12] loss: 16043.813\n",
      "[306,    12] loss: 15821.045\n",
      "[307,    12] loss: 15941.183\n",
      "[308,    12] loss: 15776.721\n",
      "[309,    12] loss: 15728.615\n",
      "[310,    12] loss: 15752.457\n",
      "[311,    12] loss: 15741.598\n",
      "[312,    12] loss: 15725.522\n",
      "[313,    12] loss: 15702.988\n",
      "[314,    12] loss: 15683.775\n",
      "[315,    12] loss: 15659.438\n",
      "[316,    12] loss: 15642.469\n",
      "[317,    12] loss: 15633.419\n",
      "[318,    12] loss: 15649.005\n",
      "[319,    12] loss: 15593.002\n",
      "[320,    12] loss: 15638.731\n",
      "[321,    12] loss: 15590.081\n",
      "[322,    12] loss: 15619.240\n",
      "[323,    12] loss: 15535.062\n",
      "[324,    12] loss: 15586.397\n",
      "[325,    12] loss: 15493.250\n",
      "[326,    12] loss: 15569.486\n",
      "[327,    12] loss: 15471.047\n",
      "[328,    12] loss: 15526.418\n",
      "[329,    12] loss: 15451.708\n",
      "[330,    12] loss: 15493.149\n",
      "[331,    12] loss: 15421.608\n",
      "[332,    12] loss: 15447.262\n",
      "[333,    12] loss: 15405.274\n",
      "[334,    12] loss: 15437.471\n",
      "[335,    12] loss: 15387.999\n",
      "[336,    12] loss: 15424.792\n",
      "[337,    12] loss: 15386.058\n",
      "[338,    12] loss: 15392.845\n",
      "[339,    12] loss: 15381.434\n",
      "[340,    12] loss: 15365.497\n",
      "[341,    12] loss: 15347.700\n",
      "[342,    12] loss: 15339.036\n",
      "[343,    12] loss: 15353.764\n",
      "[344,    12] loss: 15334.450\n",
      "[345,    12] loss: 15329.571\n",
      "[346,    12] loss: 15346.887\n",
      "[347,    12] loss: 15305.890\n",
      "[348,    12] loss: 15339.771\n",
      "[349,    12] loss: 15320.469\n",
      "[350,    12] loss: 15309.776\n",
      "[351,    12] loss: 15298.111\n",
      "[352,    12] loss: 15305.549\n",
      "[353,    12] loss: 15274.461\n",
      "[354,    12] loss: 15300.802\n",
      "[355,    12] loss: 15280.391\n",
      "[356,    12] loss: 15293.863\n",
      "[357,    12] loss: 15289.505\n",
      "[358,    12] loss: 15266.479\n",
      "[359,    12] loss: 15272.573\n",
      "[360,    12] loss: 15240.929\n",
      "[361,    12] loss: 15272.004\n",
      "[362,    12] loss: 15232.161\n",
      "[363,    12] loss: 15271.080\n",
      "[364,    12] loss: 15225.536\n",
      "[365,    12] loss: 15271.365\n",
      "[366,    12] loss: 15240.806\n",
      "[367,    12] loss: 15252.246\n",
      "[368,    12] loss: 15205.058\n",
      "[369,    12] loss: 15257.576\n",
      "[370,    12] loss: 15233.761\n",
      "[371,    12] loss: 15232.930\n",
      "[372,    12] loss: 15202.112\n",
      "[373,    12] loss: 15247.397\n",
      "[374,    12] loss: 15198.562\n",
      "[375,    12] loss: 15252.377\n",
      "[376,    12] loss: 15196.995\n",
      "[377,    12] loss: 15252.018\n",
      "[378,    12] loss: 15231.766\n",
      "[379,    12] loss: 15182.762\n",
      "[380,    12] loss: 15242.416\n",
      "[381,    12] loss: 15208.873\n",
      "[382,    12] loss: 15235.187\n",
      "[383,    12] loss: 15180.247\n",
      "[384,    12] loss: 15236.775\n",
      "[385,    12] loss: 15218.473\n",
      "[386,    12] loss: 15207.426\n",
      "[387,    12] loss: 15191.983\n",
      "[388,    12] loss: 15219.100\n",
      "[389,    12] loss: 15204.877\n",
      "[390,    12] loss: 15215.432\n",
      "[391,    12] loss: 15199.832\n",
      "[392,    12] loss: 15215.522\n",
      "[393,    12] loss: 15195.876\n",
      "[394,    12] loss: 15218.554\n",
      "[395,    12] loss: 15198.064\n",
      "[396,    12] loss: 15212.709\n",
      "[397,    12] loss: 15191.369\n",
      "[398,    12] loss: 15204.297\n",
      "[399,    12] loss: 15196.597\n",
      "[400,    12] loss: 15200.665\n",
      "[401,    12] loss: 15194.700\n",
      "[402,    12] loss: 15194.974\n",
      "[403,    12] loss: 15193.601\n",
      "[404,    12] loss: 15196.311\n",
      "[405,    12] loss: 15191.387\n",
      "[406,    12] loss: 15191.124\n",
      "[407,    12] loss: 15196.271\n",
      "[408,    12] loss: 15188.158\n",
      "[409,    12] loss: 15166.942\n",
      "[410,    12] loss: 15194.723\n",
      "[411,    12] loss: 15179.196\n",
      "[412,    12] loss: 15177.473\n",
      "[413,    12] loss: 15187.721\n",
      "[414,    12] loss: 15182.213\n",
      "[415,    12] loss: 15183.614\n",
      "[416,    12] loss: 15182.838\n",
      "[417,    12] loss: 15177.137\n",
      "[418,    12] loss: 15169.999\n",
      "[419,    12] loss: 15175.434\n",
      "[420,    12] loss: 15172.266\n",
      "[421,    12] loss: 15173.829\n",
      "[422,    12] loss: 15160.904\n",
      "[423,    12] loss: 15173.237\n",
      "[424,    12] loss: 15165.665\n",
      "[425,    12] loss: 15167.219\n",
      "[426,    12] loss: 15169.464\n",
      "[427,    12] loss: 15170.381\n",
      "[428,    12] loss: 15156.826\n",
      "[429,    12] loss: 15169.811\n",
      "[430,    12] loss: 15164.898\n",
      "[431,    12] loss: 15155.897\n",
      "[432,    12] loss: 15136.433\n",
      "[433,    12] loss: 15161.152\n",
      "[434,    12] loss: 15154.995\n",
      "[435,    12] loss: 15146.731\n",
      "[436,    12] loss: 15146.101\n",
      "[437,    12] loss: 15149.937\n",
      "[438,    12] loss: 15129.172\n",
      "[439,    12] loss: 15152.446\n",
      "[440,    12] loss: 15154.154\n",
      "[441,    12] loss: 15144.933\n",
      "[442,    12] loss: 15149.332\n",
      "[443,    12] loss: 15142.133\n",
      "[444,    12] loss: 15125.042\n",
      "[445,    12] loss: 15154.286\n",
      "[446,    12] loss: 15131.357\n",
      "[447,    12] loss: 15133.466\n",
      "[448,    12] loss: 15135.862\n",
      "[449,    12] loss: 15157.587\n",
      "[450,    12] loss: 15127.604\n",
      "[451,    12] loss: 15112.694\n",
      "[452,    12] loss: 15136.543\n",
      "[453,    12] loss: 15145.888\n",
      "[454,    12] loss: 15124.306\n",
      "[455,    12] loss: 15144.936\n",
      "[456,    12] loss: 15118.305\n",
      "[457,    12] loss: 15139.569\n",
      "[458,    12] loss: 15136.425\n",
      "[459,    12] loss: 15125.700\n",
      "[460,    12] loss: 15119.644\n",
      "[461,    12] loss: 15120.614\n",
      "[462,    12] loss: 15108.500\n",
      "[463,    12] loss: 15118.362\n",
      "[464,    12] loss: 15122.353\n",
      "[465,    12] loss: 15115.407\n",
      "[466,    12] loss: 15106.156\n",
      "[467,    12] loss: 15152.385\n",
      "[468,    12] loss: 15114.180\n",
      "[469,    12] loss: 15091.437\n",
      "[470,    12] loss: 15118.100\n",
      "[471,    12] loss: 15144.916\n",
      "[472,    12] loss: 15077.378\n",
      "[473,    12] loss: 15128.504\n",
      "[474,    12] loss: 15068.334\n",
      "[475,    12] loss: 15121.906\n",
      "[476,    12] loss: 15071.868\n",
      "[477,    12] loss: 15112.480\n",
      "[478,    12] loss: 15087.079\n",
      "[479,    12] loss: 15058.282\n",
      "[480,    12] loss: 15126.889\n",
      "[481,    12] loss: 15079.335\n",
      "[482,    12] loss: 15131.144\n",
      "[483,    12] loss: 15197.727\n",
      "[484,    12] loss: 15063.756\n",
      "[485,    12] loss: 15120.270\n",
      "[486,    12] loss: 15067.450\n",
      "[487,    12] loss: 15122.496\n",
      "[488,    12] loss: 15070.920\n",
      "[489,    12] loss: 15084.948\n",
      "[490,    12] loss: 15095.662\n",
      "[491,    12] loss: 15082.006\n",
      "[492,    12] loss: 15081.989\n",
      "[493,    12] loss: 15079.300\n",
      "[494,    12] loss: 15071.741\n",
      "[495,    12] loss: 15080.167\n",
      "[496,    12] loss: 15077.814\n",
      "[497,    12] loss: 15050.615\n",
      "[498,    12] loss: 15088.406\n",
      "[499,    12] loss: 15063.063\n",
      "[500,    12] loss: 15080.939\n",
      "[501,    12] loss: 15084.636\n",
      "[502,    12] loss: 15039.520\n",
      "[503,    12] loss: 15080.794\n",
      "[504,    12] loss: 15060.680\n",
      "[505,    12] loss: 15079.253\n",
      "[506,    12] loss: 15081.983\n",
      "[507,    12] loss: 15037.255\n",
      "[508,    12] loss: 15079.176\n",
      "[509,    12] loss: 15056.687\n",
      "[510,    12] loss: 15072.459\n",
      "[511,    12] loss: 15074.252\n",
      "[512,    12] loss: 15037.803\n",
      "[513,    12] loss: 15074.415\n",
      "[514,    12] loss: 15059.730\n",
      "[515,    12] loss: 15072.027\n",
      "[516,    12] loss: 15084.028\n",
      "[517,    12] loss: 15032.501\n",
      "[518,    12] loss: 15058.810\n",
      "[519,    12] loss: 15080.035\n",
      "[520,    12] loss: 15068.353\n",
      "[521,    12] loss: 15044.550\n",
      "[522,    12] loss: 15071.102\n",
      "[523,    12] loss: 15067.123\n",
      "[524,    12] loss: 15022.179\n",
      "[525,    12] loss: 15068.288\n",
      "[526,    12] loss: 15076.416\n",
      "[527,    12] loss: 15025.915\n",
      "[528,    12] loss: 15053.957\n",
      "[529,    12] loss: 15093.470\n",
      "[530,    12] loss: 15059.160\n",
      "[531,    12] loss: 15024.657\n",
      "[532,    12] loss: 15049.271\n",
      "[533,    12] loss: 15023.419\n",
      "[534,    12] loss: 15054.595\n",
      "[535,    12] loss: 15052.515\n",
      "[536,    12] loss: 15046.061\n",
      "[537,    12] loss: 15049.622\n",
      "[538,    12] loss: 15008.796\n",
      "[539,    12] loss: 15056.153\n",
      "[540,    12] loss: 15063.267\n",
      "[541,    12] loss: 15105.921\n",
      "[542,    12] loss: 15150.084\n",
      "[543,    12] loss: 15025.919\n",
      "[544,    12] loss: 15041.523\n",
      "[545,    12] loss: 15078.075\n",
      "[546,    12] loss: 15083.121\n",
      "[547,    12] loss: 15053.656\n",
      "[548,    12] loss: 15202.316\n",
      "[549,    12] loss: 15074.099\n",
      "[550,    12] loss: 15004.367\n",
      "[551,    12] loss: 15045.936\n",
      "[552,    12] loss: 15033.610\n",
      "[553,    12] loss: 15026.232\n",
      "[554,    12] loss: 15237.122\n",
      "[555,    12] loss: 15058.627\n",
      "[556,    12] loss: 15019.101\n",
      "[557,    12] loss: 15049.921\n",
      "[558,    12] loss: 15020.752\n",
      "[559,    12] loss: 15057.287\n",
      "[560,    12] loss: 15118.773\n",
      "[561,    12] loss: 15033.485\n",
      "[562,    12] loss: 15190.392\n",
      "[563,    12] loss: 15045.432\n",
      "[564,    12] loss: 15016.969\n",
      "[565,    12] loss: 15032.733\n",
      "[566,    12] loss: 15018.558\n",
      "[567,    12] loss: 15042.855\n",
      "[568,    12] loss: 15088.987\n",
      "[569,    12] loss: 15024.950\n",
      "[570,    12] loss: 15196.726\n",
      "[571,    12] loss: 15058.059\n",
      "[572,    12] loss: 15011.608\n",
      "[573,    12] loss: 15006.329\n",
      "[574,    12] loss: 15089.882\n",
      "[575,    12] loss: 15009.986\n",
      "[576,    12] loss: 15049.356\n",
      "[577,    12] loss: 15030.801\n",
      "[578,    12] loss: 15016.621\n",
      "[579,    12] loss: 14995.749\n",
      "[580,    12] loss: 15088.444\n",
      "[581,    12] loss: 15035.248\n"
     ]
    },
    {
     "name": "stdout",
     "output_type": "stream",
     "text": [
      "[582,    12] loss: 15007.380\n",
      "[583,    12] loss: 15041.127\n",
      "[584,    12] loss: 15086.347\n",
      "[585,    12] loss: 15025.673\n",
      "[586,    12] loss: 15108.372\n",
      "[587,    12] loss: 15008.388\n",
      "[588,    12] loss: 15098.027\n",
      "[589,    12] loss: 15045.571\n",
      "[590,    12] loss: 15038.688\n",
      "[591,    12] loss: 15020.997\n",
      "[592,    12] loss: 15162.163\n",
      "[593,    12] loss: 15032.488\n",
      "[594,    12] loss: 15003.575\n",
      "[595,    12] loss: 14992.101\n",
      "[596,    12] loss: 15026.266\n",
      "[597,    12] loss: 15027.295\n",
      "[598,    12] loss: 15033.710\n",
      "[599,    12] loss: 14985.642\n",
      "[600,    12] loss: 15097.991\n",
      "[601,    12] loss: 15041.502\n",
      "[602,    12] loss: 14999.076\n",
      "[603,    12] loss: 15002.361\n",
      "[604,    12] loss: 15050.705\n",
      "[605,    12] loss: 15021.174\n",
      "[606,    12] loss: 14982.916\n",
      "[607,    12] loss: 14974.255\n",
      "[608,    12] loss: 15048.450\n",
      "[609,    12] loss: 14979.608\n",
      "[610,    12] loss: 14984.081\n",
      "[611,    12] loss: 15042.698\n",
      "[612,    12] loss: 14979.568\n",
      "[613,    12] loss: 15008.112\n",
      "[614,    12] loss: 14990.373\n",
      "[615,    12] loss: 14982.389\n",
      "[616,    12] loss: 15009.767\n",
      "[617,    12] loss: 14975.495\n",
      "[618,    12] loss: 15006.345\n",
      "[619,    12] loss: 14998.999\n",
      "[620,    12] loss: 14964.346\n",
      "[621,    12] loss: 15029.647\n",
      "[622,    12] loss: 15007.418\n",
      "[623,    12] loss: 15022.904\n",
      "[624,    12] loss: 14988.915\n",
      "[625,    12] loss: 14962.107\n",
      "[626,    12] loss: 15030.411\n",
      "[627,    12] loss: 14972.305\n",
      "[628,    12] loss: 15016.261\n",
      "[629,    12] loss: 15034.729\n",
      "[630,    12] loss: 14980.492\n",
      "[631,    12] loss: 14983.617\n",
      "[632,    12] loss: 15004.684\n",
      "[633,    12] loss: 14998.276\n",
      "[634,    12] loss: 14981.767\n",
      "[635,    12] loss: 14970.300\n",
      "[636,    12] loss: 15019.878\n",
      "[637,    12] loss: 14979.734\n",
      "[638,    12] loss: 15018.762\n",
      "[639,    12] loss: 14972.214\n",
      "[640,    12] loss: 14958.919\n",
      "[641,    12] loss: 15020.355\n",
      "[642,    12] loss: 15007.032\n",
      "[643,    12] loss: 15030.610\n",
      "[644,    12] loss: 15051.596\n",
      "[645,    12] loss: 14960.583\n",
      "[646,    12] loss: 15023.035\n",
      "[647,    12] loss: 14989.126\n",
      "[648,    12] loss: 14953.069\n",
      "[649,    12] loss: 15267.387\n",
      "[650,    12] loss: 15016.297\n",
      "[651,    12] loss: 14968.567\n",
      "[652,    12] loss: 14978.485\n",
      "[653,    12] loss: 14994.549\n",
      "[654,    12] loss: 14957.230\n",
      "[655,    12] loss: 14977.717\n",
      "[656,    12] loss: 14995.877\n",
      "[657,    12] loss: 14949.286\n",
      "[658,    12] loss: 14995.822\n",
      "[659,    12] loss: 14962.867\n",
      "[660,    12] loss: 14949.826\n",
      "[661,    12] loss: 15008.908\n",
      "[662,    12] loss: 15000.019\n",
      "[663,    12] loss: 14998.691\n",
      "[664,    12] loss: 15041.169\n",
      "[665,    12] loss: 14952.089\n",
      "[666,    12] loss: 14964.587\n",
      "[667,    12] loss: 15044.757\n",
      "[668,    12] loss: 15018.696\n",
      "[669,    12] loss: 15006.834\n",
      "[670,    12] loss: 14952.123\n",
      "[671,    12] loss: 14984.399\n",
      "[672,    12] loss: 14951.680\n",
      "[673,    12] loss: 14958.142\n",
      "[674,    12] loss: 15032.715\n",
      "[675,    12] loss: 14977.176\n",
      "[676,    12] loss: 14996.331\n",
      "[677,    12] loss: 15148.186\n",
      "[678,    12] loss: 14997.237\n",
      "[679,    12] loss: 14979.006\n",
      "[680,    12] loss: 14991.499\n",
      "[681,    12] loss: 14955.867\n",
      "[682,    12] loss: 14939.826\n",
      "[683,    12] loss: 15002.018\n",
      "[684,    12] loss: 14969.897\n",
      "[685,    12] loss: 14953.015\n",
      "[686,    12] loss: 14936.977\n",
      "[687,    12] loss: 14994.098\n",
      "[688,    12] loss: 14995.136\n",
      "[689,    12] loss: 14980.231\n",
      "[690,    12] loss: 14944.363\n",
      "[691,    12] loss: 14948.843\n",
      "[692,    12] loss: 14997.034\n",
      "[693,    12] loss: 14934.241\n",
      "[694,    12] loss: 14935.806\n",
      "[695,    12] loss: 14994.134\n",
      "[696,    12] loss: 14993.655\n",
      "[697,    12] loss: 14979.648\n",
      "[698,    12] loss: 15017.830\n",
      "[699,    12] loss: 14954.226\n",
      "[700,    12] loss: 14928.893\n",
      "[701,    12] loss: 15009.903\n",
      "[702,    12] loss: 14982.659\n",
      "[703,    12] loss: 14957.543\n",
      "[704,    12] loss: 14953.281\n",
      "[705,    12] loss: 14950.852\n",
      "[706,    12] loss: 14961.170\n",
      "[707,    12] loss: 14931.081\n",
      "[708,    12] loss: 14980.996\n",
      "[709,    12] loss: 14944.594\n",
      "[710,    12] loss: 14962.987\n",
      "[711,    12] loss: 14992.095\n",
      "[712,    12] loss: 14927.838\n",
      "[713,    12] loss: 14937.196\n",
      "[714,    12] loss: 14979.662\n",
      "[715,    12] loss: 14927.993\n",
      "[716,    12] loss: 14924.935\n",
      "[717,    12] loss: 14984.764\n",
      "[718,    12] loss: 14970.106\n",
      "[719,    12] loss: 14967.029\n",
      "[720,    12] loss: 15029.823\n",
      "[721,    12] loss: 14956.140\n",
      "[722,    12] loss: 14963.363\n",
      "[723,    12] loss: 14971.143\n",
      "[724,    12] loss: 14961.346\n",
      "[725,    12] loss: 14926.032\n",
      "[726,    12] loss: 14963.640\n",
      "[727,    12] loss: 14936.953\n",
      "[728,    12] loss: 14921.411\n",
      "[729,    12] loss: 14971.408\n",
      "[730,    12] loss: 14946.818\n",
      "[731,    12] loss: 14973.901\n",
      "[732,    12] loss: 14939.123\n",
      "[733,    12] loss: 14945.616\n",
      "[734,    12] loss: 14965.039\n",
      "[735,    12] loss: 14924.026\n",
      "[736,    12] loss: 14915.865\n",
      "[737,    12] loss: 14960.113\n",
      "[738,    12] loss: 14927.415\n",
      "[739,    12] loss: 14915.857\n",
      "[740,    12] loss: 15017.638\n",
      "[741,    12] loss: 14955.267\n",
      "[742,    12] loss: 14970.535\n",
      "[743,    12] loss: 15096.430\n",
      "[744,    12] loss: 14965.624\n",
      "[745,    12] loss: 14991.968\n",
      "[746,    12] loss: 15021.022\n",
      "[747,    12] loss: 14946.147\n",
      "[748,    12] loss: 14954.831\n",
      "[749,    12] loss: 14950.842\n",
      "[750,    12] loss: 14949.272\n",
      "[751,    12] loss: 14921.319\n",
      "[752,    12] loss: 14947.630\n",
      "[753,    12] loss: 14927.616\n",
      "[754,    12] loss: 14920.515\n",
      "[755,    12] loss: 14918.669\n",
      "[756,    12] loss: 14957.622\n",
      "[757,    12] loss: 14912.443\n",
      "[758,    12] loss: 14910.271\n",
      "[759,    12] loss: 14959.864\n",
      "[760,    12] loss: 14971.361\n",
      "[761,    12] loss: 14946.223\n",
      "[762,    12] loss: 14948.674\n",
      "[763,    12] loss: 14932.470\n",
      "[764,    12] loss: 14916.750\n",
      "[765,    12] loss: 14926.806\n",
      "[766,    12] loss: 14927.754\n",
      "[767,    12] loss: 14901.167\n",
      "[768,    12] loss: 14942.214\n",
      "[769,    12] loss: 14914.000\n",
      "[770,    12] loss: 14894.486\n",
      "[771,    12] loss: 14984.890\n",
      "[772,    12] loss: 14952.647\n",
      "[773,    12] loss: 14938.553\n",
      "[774,    12] loss: 14949.316\n",
      "[775,    12] loss: 14944.929\n",
      "[776,    12] loss: 14894.574\n",
      "[777,    12] loss: 14906.440\n",
      "[778,    12] loss: 14956.155\n",
      "[779,    12] loss: 14926.016\n",
      "[780,    12] loss: 14966.158\n",
      "[781,    12] loss: 15054.375\n",
      "[782,    12] loss: 14933.224\n",
      "[783,    12] loss: 14929.966\n",
      "[784,    12] loss: 14935.119\n",
      "[785,    12] loss: 14943.253\n",
      "[786,    12] loss: 14894.499\n",
      "[787,    12] loss: 14913.360\n",
      "[788,    12] loss: 14940.688\n",
      "[789,    12] loss: 14898.537\n",
      "[790,    12] loss: 14926.505\n",
      "[791,    12] loss: 14938.640\n",
      "[792,    12] loss: 14900.015\n",
      "[793,    12] loss: 14894.702\n",
      "[794,    12] loss: 14930.202\n",
      "[795,    12] loss: 14919.577\n",
      "[796,    12] loss: 14949.069\n",
      "[797,    12] loss: 14901.438\n",
      "[798,    12] loss: 14910.182\n",
      "[799,    12] loss: 14926.204\n",
      "[800,    12] loss: 14942.865\n",
      "[801,    12] loss: 14925.394\n",
      "[802,    12] loss: 14893.743\n",
      "[803,    12] loss: 15033.441\n",
      "[804,    12] loss: 14904.348\n",
      "[805,    12] loss: 15040.291\n",
      "[806,    12] loss: 14949.593\n",
      "[807,    12] loss: 14893.943\n",
      "[808,    12] loss: 14920.661\n",
      "[809,    12] loss: 14945.864\n",
      "[810,    12] loss: 14933.045\n",
      "[811,    12] loss: 14917.797\n",
      "[812,    12] loss: 14935.881\n",
      "[813,    12] loss: 14904.537\n",
      "[814,    12] loss: 14902.831\n",
      "[815,    12] loss: 14911.201\n",
      "[816,    12] loss: 14953.804\n",
      "[817,    12] loss: 14945.214\n",
      "[818,    12] loss: 14912.994\n",
      "[819,    12] loss: 14928.254\n",
      "[820,    12] loss: 14943.160\n",
      "[821,    12] loss: 14883.177\n",
      "[822,    12] loss: 14889.718\n",
      "[823,    12] loss: 14957.187\n",
      "[824,    12] loss: 14894.713\n",
      "[825,    12] loss: 14925.069\n",
      "[826,    12] loss: 14916.320\n",
      "[827,    12] loss: 14894.098\n",
      "[828,    12] loss: 14923.230\n",
      "[829,    12] loss: 14888.550\n",
      "[830,    12] loss: 14883.161\n",
      "[831,    12] loss: 14959.103\n",
      "[832,    12] loss: 14918.194\n",
      "[833,    12] loss: 14915.019\n",
      "[834,    12] loss: 14922.135\n",
      "[835,    12] loss: 14926.931\n",
      "[836,    12] loss: 14887.392\n",
      "[837,    12] loss: 14890.161\n",
      "[838,    12] loss: 14910.964\n",
      "[839,    12] loss: 14886.261\n",
      "[840,    12] loss: 14879.112\n",
      "[841,    12] loss: 14975.079\n",
      "[842,    12] loss: 14919.055\n",
      "[843,    12] loss: 14923.764\n",
      "[844,    12] loss: 14927.274\n",
      "[845,    12] loss: 14898.544\n",
      "[846,    12] loss: 14884.320\n",
      "[847,    12] loss: 14938.732\n",
      "[848,    12] loss: 14913.654\n",
      "[849,    12] loss: 14902.740\n",
      "[850,    12] loss: 14913.353\n",
      "[851,    12] loss: 14923.594\n",
      "[852,    12] loss: 14875.071\n",
      "[853,    12] loss: 14910.473\n",
      "[854,    12] loss: 14892.312\n",
      "[855,    12] loss: 14884.597\n",
      "[856,    12] loss: 14965.677\n",
      "[857,    12] loss: 14900.622\n",
      "[858,    12] loss: 14921.346\n",
      "[859,    12] loss: 14935.067\n",
      "[860,    12] loss: 14885.726\n",
      "[861,    12] loss: 14907.116\n",
      "[862,    12] loss: 14910.573\n",
      "[863,    12] loss: 14895.348\n",
      "[864,    12] loss: 14891.750\n",
      "[865,    12] loss: 14901.618\n",
      "[866,    12] loss: 14917.965\n",
      "[867,    12] loss: 14885.711\n",
      "[868,    12] loss: 14907.464\n",
      "[869,    12] loss: 14905.674\n",
      "[870,    12] loss: 14870.772\n"
     ]
    },
    {
     "name": "stdout",
     "output_type": "stream",
     "text": [
      "[871,    12] loss: 14960.665\n",
      "[872,    12] loss: 14879.171\n",
      "[873,    12] loss: 14909.240\n",
      "[874,    12] loss: 14894.289\n",
      "[875,    12] loss: 14896.316\n",
      "[876,    12] loss: 14873.652\n",
      "[877,    12] loss: 14887.494\n",
      "[878,    12] loss: 14898.271\n",
      "[879,    12] loss: 14867.917\n",
      "[880,    12] loss: 14871.281\n",
      "[881,    12] loss: 14900.870\n",
      "[882,    12] loss: 14870.245\n",
      "[883,    12] loss: 14870.512\n",
      "[884,    12] loss: 14961.659\n",
      "[885,    12] loss: 14895.827\n",
      "[886,    12] loss: 14900.363\n",
      "[887,    12] loss: 14894.689\n",
      "[888,    12] loss: 14929.002\n",
      "[889,    12] loss: 14861.324\n",
      "[890,    12] loss: 14878.786\n",
      "[891,    12] loss: 14903.550\n",
      "[892,    12] loss: 14862.872\n",
      "[893,    12] loss: 14872.385\n",
      "[894,    12] loss: 14913.420\n",
      "[895,    12] loss: 14886.906\n",
      "[896,    12] loss: 14877.514\n",
      "[897,    12] loss: 14896.763\n",
      "[898,    12] loss: 14882.491\n",
      "[899,    12] loss: 14868.906\n",
      "[900,    12] loss: 14893.357\n",
      "[901,    12] loss: 14887.196\n",
      "[902,    12] loss: 14869.231\n",
      "[903,    12] loss: 14901.459\n",
      "[904,    12] loss: 14882.275\n",
      "[905,    12] loss: 14865.520\n",
      "[906,    12] loss: 14904.232\n",
      "[907,    12] loss: 14886.438\n",
      "[908,    12] loss: 14858.443\n",
      "[909,    12] loss: 14885.942\n",
      "[910,    12] loss: 14880.843\n",
      "[911,    12] loss: 14862.067\n",
      "[912,    12] loss: 14864.755\n",
      "[913,    12] loss: 14863.183\n",
      "[914,    12] loss: 14877.352\n",
      "[915,    12] loss: 14857.902\n",
      "[916,    12] loss: 14896.136\n",
      "[917,    12] loss: 14900.864\n",
      "[918,    12] loss: 14858.935\n",
      "[919,    12] loss: 14870.746\n",
      "[920,    12] loss: 14848.466\n",
      "[921,    12] loss: 14879.261\n",
      "[922,    12] loss: 14857.724\n",
      "[923,    12] loss: 14872.391\n",
      "[924,    12] loss: 14890.775\n",
      "[925,    12] loss: 14846.782\n",
      "[926,    12] loss: 14889.645\n",
      "[927,    12] loss: 14861.675\n",
      "[928,    12] loss: 14927.341\n",
      "[929,    12] loss: 14946.251\n",
      "[930,    12] loss: 14910.664\n",
      "[931,    12] loss: 14882.067\n",
      "[932,    12] loss: 14880.640\n",
      "[933,    12] loss: 14861.770\n",
      "[934,    12] loss: 14860.355\n",
      "[935,    12] loss: 14881.313\n",
      "[936,    12] loss: 14849.747\n",
      "[937,    12] loss: 14842.967\n",
      "[938,    12] loss: 14875.313\n",
      "[939,    12] loss: 14858.456\n",
      "[940,    12] loss: 14870.081\n",
      "[941,    12] loss: 14891.003\n",
      "[942,    12] loss: 14879.990\n",
      "[943,    12] loss: 14869.134\n",
      "[944,    12] loss: 14880.380\n",
      "[945,    12] loss: 14847.343\n",
      "[946,    12] loss: 14856.127\n",
      "[947,    12] loss: 14912.372\n",
      "[948,    12] loss: 14863.543\n",
      "[949,    12] loss: 14844.024\n",
      "[950,    12] loss: 14855.065\n",
      "[951,    12] loss: 14872.749\n",
      "[952,    12] loss: 14880.082\n",
      "[953,    12] loss: 14844.463\n",
      "[954,    12] loss: 14883.460\n",
      "[955,    12] loss: 14870.491\n",
      "[956,    12] loss: 14849.475\n",
      "[957,    12] loss: 14926.863\n",
      "[958,    12] loss: 14860.731\n",
      "[959,    12] loss: 14891.269\n",
      "[960,    12] loss: 14872.879\n",
      "[961,    12] loss: 14926.971\n",
      "[962,    12] loss: 14843.886\n",
      "[963,    12] loss: 14893.614\n",
      "[964,    12] loss: 14922.065\n",
      "[965,    12] loss: 14836.780\n",
      "[966,    12] loss: 14852.507\n",
      "[967,    12] loss: 14857.415\n",
      "[968,    12] loss: 14841.023\n",
      "[969,    12] loss: 14832.067\n",
      "[970,    12] loss: 14880.864\n",
      "[971,    12] loss: 14837.207\n",
      "[972,    12] loss: 14868.922\n",
      "[973,    12] loss: 14874.705\n",
      "[974,    12] loss: 14885.059\n",
      "[975,    12] loss: 14854.678\n",
      "[976,    12] loss: 14869.688\n",
      "[977,    12] loss: 14863.085\n",
      "[978,    12] loss: 14828.882\n",
      "[979,    12] loss: 14837.665\n",
      "[980,    12] loss: 14841.840\n",
      "[981,    12] loss: 14857.545\n",
      "[982,    12] loss: 14826.858\n",
      "[983,    12] loss: 14846.776\n",
      "[984,    12] loss: 14885.057\n",
      "[985,    12] loss: 14891.278\n",
      "[986,    12] loss: 14887.606\n",
      "[987,    12] loss: 14858.462\n",
      "[988,    12] loss: 14856.710\n",
      "[989,    12] loss: 14831.261\n",
      "[990,    12] loss: 14833.607\n",
      "[991,    12] loss: 14852.471\n",
      "[992,    12] loss: 14863.970\n",
      "[993,    12] loss: 14847.542\n",
      "[994,    12] loss: 14867.967\n",
      "[995,    12] loss: 14870.364\n",
      "[996,    12] loss: 14827.777\n",
      "[997,    12] loss: 14838.099\n",
      "[998,    12] loss: 14827.387\n",
      "[999,    12] loss: 14824.924\n",
      "[1000,    12] loss: 14858.798\n",
      "Finished Training\n"
     ]
    }
   ],
   "source": [
    "modelo = modelo_NN()\n",
    "optimizer = torch.optim.Adagrad(modelo.parameters(), lr=0.1)\n",
    "criterion = nn.MSELoss()\n",
    "\n",
    "for epoch in range(1000):  # loop over the dataset multiple times\n",
    "\n",
    "    running_loss = 0.0\n",
    "    for i, data in enumerate(trainloader):\n",
    "        \n",
    "        # get the inputs; data is a list of [inputs, labels]\n",
    "        xs, ys = data\n",
    "        \n",
    "        xs = xs.view(-1, 1)\n",
    "        ys = ys.view(-1, 1)\n",
    "        \n",
    "        # zero the parameter gradients\n",
    "        modelo.zero_grad()\n",
    "\n",
    "        # forward + backward + optimize\n",
    "        outputs = modelo(xs)\n",
    "        \n",
    "        loss = criterion(outputs, ys)\n",
    "        loss.backward()        \n",
    "        optimizer.step()\n",
    "        \n",
    "        running_loss += loss.item()\n",
    "    print('[%d, %5d] loss: %.3f' %(epoch + 1, i + 1, running_loss))\n",
    "\n",
    "print('Finished Training')"
   ]
  },
  {
   "cell_type": "code",
   "execution_count": 267,
   "metadata": {},
   "outputs": [
    {
     "data": {
      "text/plain": [
       "Text(0.5, 1.0, 'Airline dataset')"
      ]
     },
     "execution_count": 267,
     "metadata": {},
     "output_type": "execute_result"
    },
    {
     "data": {
      "image/png": "[encoded data removed]",
      "text/plain": [
       "<Figure size 1152x432 with 1 Axes>"
      ]
     },
     "metadata": {
      "needs_background": "light"
     },
     "output_type": "display_data"
    }
   ],
   "source": [
    "plt.figure(figsize=(16, 6))\n",
    "prediction = [modelo(torch.tensor([x_trn[i]])) for i in range(115)]\n",
    "plt.plot(tensor_x.numpy(),prediction)\n",
    "#plt.plot(tensor_x.numpy(),tensor_y.numpy())\n",
    "plt.plot(x_tst,y_tst, 'or')\n",
    "plt.plot(x_trn,y_trn, 'og')\n",
    "plt.title('Airline dataset')"
   ]
  },
  {
   "cell_type": "markdown",
   "metadata": {},
   "source": [
    "## Redes Neuronales\n",
    "\n",
    "Para definir una red en PyTorch en general se siguen los siguentes pasos.\n",
    "\n",
    "* Definir la red que tenga parámetros entrenables (pesos)\n",
    "* Iterar sobre el dataset de inputs\n",
    "* Procesas el input a través de la red\n",
    "* Calcular la función de perdida (loss)\n",
    "* Propagar los gradientes hacia los parametros de la red\n",
    "* Actualizar los pesos de la red siguiendo una regla, en general se usa gradiente decendiente.\n",
    "\n",
    "### Crear una red"
   ]
  },
  {
   "cell_type": "code",
   "execution_count": null,
   "metadata": {
    "scrolled": true
   },
   "outputs": [],
   "source": [
    "import torch\n",
    "import torch.nn as nn\n",
    "import torch.nn.functional as F\n",
    "\n",
    "\n",
    "class Net(nn.Module):\n",
    "\n",
    "    def __init__(self):\n",
    "        super(Net, self).__init__()\n",
    "        # 1 input image channel, 6 output channels, 3x3 square convolution\n",
    "        # kernel\n",
    "        self.conv1 = nn.Conv2d(3, 6, 5)\n",
    "        self.pool = nn.MaxPool2d(2, 2)\n",
    "        self.conv2 = nn.Conv2d(6, 16, 5)\n",
    "        # an affine operation: y = Wx + b\n",
    "        self.fc1 = nn.Linear(16 * 5 * 5, 120)  # 5*5 from image dimension\n",
    "        self.fc2 = nn.Linear(120, 84)\n",
    "        self.fc3 = nn.Linear(84, 10)\n",
    "\n",
    "    def forward(self, x):\n",
    "        x = self.pool(F.relu(self.conv1(x)))\n",
    "        x = self.pool(F.relu(self.conv2(x)))\n",
    "        x = x.view(-1, 16 * 5 * 5)\n",
    "        x = F.relu(self.fc1(x))\n",
    "        x = F.relu(self.fc2(x))\n",
    "        x = self.fc3(x)\n",
    "        return x\n",
    "\n",
    "\n",
    "net = Net()\n",
    "print(net)"
   ]
  },
  {
   "cell_type": "code",
   "execution_count": null,
   "metadata": {},
   "outputs": [],
   "source": [
    "params = list(net.parameters())\n",
    "print(\"Capas:\", len(params))\n",
    "for i, param in enumerate(params):\n",
    "    print(\"Tamaño de parámetros de capa\", i+1, \"=>\", param.size())"
   ]
  },
  {
   "cell_type": "markdown",
   "metadata": {},
   "source": [
    "Vamos a entregar una entrada aleatoria de tamaño 1x3x32x32. Es decir que un \"batch\" de un elemento, tres colores, altura 32 y ancho 32. Es `nn.Conv2d` acepta un tensor de quatro dimensiones de `nSamples x nChannels x Height x Width`."
   ]
  },
  {
   "cell_type": "code",
   "execution_count": null,
   "metadata": {},
   "outputs": [],
   "source": [
    "input = torch.randn(1, 3, 32, 32)\n",
    "out = net(input)\n",
    "print(out)  # tensor con tamaño 1x10"
   ]
  },
  {
   "cell_type": "markdown",
   "metadata": {},
   "source": [
    "### Función de perdida\n",
    "Una función de perdida toma una salida y el objetivo de su valor para calcular una medida de error. Por ejemplo, el `nn.MSELoss` que calcula el error de escuadrados mínimos:"
   ]
  },
  {
   "cell_type": "code",
   "execution_count": null,
   "metadata": {},
   "outputs": [],
   "source": [
    "output = net(input)\n",
    "target = torch.randn(10)  # a dummy target, for example\n",
    "target = target.view(1, -1)  # make it the same shape as output\n",
    "criterion = nn.MSELoss()\n",
    "\n",
    "loss = criterion(output, target)\n",
    "print(loss)"
   ]
  },
  {
   "cell_type": "markdown",
   "metadata": {},
   "source": [
    "Usamos propagación hacia atrás para empotrar los valores de error en nuestros cadas de red neuronal. En PyTorch hacemos el \"backprop\" simplemente usando `backward()` en la salida de función de perdida:"
   ]
  },
  {
   "cell_type": "code",
   "execution_count": null,
   "metadata": {},
   "outputs": [],
   "source": [
    "net.zero_grad()  # borrar los valores de antes de todos parámetros\n",
    "\n",
    "loss.backward()\n",
    "\n",
    "net.conv1.bias.grad"
   ]
  },
  {
   "cell_type": "markdown",
   "metadata": {},
   "source": [
    "### Actualizar los pesos\n",
    "El método más simple de actualizar los pesos es el \"Stochastic Gradient Descent (SGD)\". En PyTorch podemos usar el packete `torch.optim` que nos da implementaciones de varios tipos de reglas de actualizar (como SGD, Nesterov-SGD, Adam, RMSProp, ...)."
   ]
  },
  {
   "cell_type": "code",
   "execution_count": null,
   "metadata": {},
   "outputs": [],
   "source": [
    "# create your optimizer\n",
    "optimizer = torch.optim.SGD(net.parameters(), lr=0.01)\n",
    "\n",
    "# in your training loop:\n",
    "optimizer.zero_grad()   # zero the gradient buffers\n",
    "output = net(input)\n",
    "loss = criterion(output, target)\n",
    "loss.backward()\n",
    "optimizer.step()    # Does the update"
   ]
  },
  {
   "cell_type": "markdown",
   "metadata": {},
   "source": [
    "## Red neuronal ejemplo\n",
    "Vamos a usar `torchvision` para cargar un base de datos de imágenes. Instala con `conda install torchvision`."
   ]
  },
  {
   "cell_type": "code",
   "execution_count": null,
   "metadata": {},
   "outputs": [],
   "source": [
    "import torchvision\n",
    "import torchvision.transforms as transforms"
   ]
  },
  {
   "cell_type": "code",
   "execution_count": null,
   "metadata": {},
   "outputs": [],
   "source": [
    "transform = transforms.Compose(\n",
    "    [transforms.ToTensor(),\n",
    "     transforms.Normalize((0.5, 0.5, 0.5), (0.5, 0.5, 0.5))])\n",
    "\n",
    "trainset = torchvision.datasets.CIFAR10(root='./data', train=True,\n",
    "                                        download=True, transform=transform)\n",
    "trainloader = torch.utils.data.DataLoader(trainset, batch_size=4,\n",
    "                                          shuffle=True, num_workers=2)\n",
    "\n",
    "testset = torchvision.datasets.CIFAR10(root='./data', train=False,\n",
    "                                       download=True, transform=transform)\n",
    "testloader = torch.utils.data.DataLoader(testset, batch_size=4,\n",
    "                                         shuffle=False, num_workers=2)\n",
    "\n",
    "classes = ('plane', 'car', 'bird', 'cat',\n",
    "           'deer', 'dog', 'frog', 'horse', 'ship', 'truck')"
   ]
  },
  {
   "cell_type": "markdown",
   "metadata": {},
   "source": [
    "Mostramos unos imágenes que tenemos en el set de entrenamiento:"
   ]
  },
  {
   "cell_type": "code",
   "execution_count": null,
   "metadata": {},
   "outputs": [],
   "source": [
    "%matplotlib inline\n",
    "import matplotlib.pyplot as plt\n",
    "import numpy as np\n",
    "\n",
    "def imshow(img):\n",
    "    img = img / 2 + 0.5\n",
    "    npimg = img.numpy()\n",
    "    plt.imshow(np.transpose(npimg, (1, 2, 0)))\n",
    "    plt.show()\n",
    "\n",
    "\n",
    "# get some random training images\n",
    "\n",
    "dataiter = iter(trainloader)\n",
    "images, labels = dataiter.next()\n",
    "\n",
    "# show images\n",
    "imshow(torchvision.utils.make_grid(images))\n",
    "# print labels\n",
    "print(' '.join('%5s' % classes[labels[j]] for j in range(4)))"
   ]
  },
  {
   "cell_type": "markdown",
   "metadata": {},
   "source": [
    "Elejamos una función criteria y de perdida:"
   ]
  },
  {
   "cell_type": "code",
   "execution_count": null,
   "metadata": {},
   "outputs": [],
   "source": [
    "import torch.optim as optim\n",
    "\n",
    "criterion = nn.CrossEntropyLoss()\n",
    "optimizer = optim.SGD(net.parameters(), lr=0.001, momentum=0.9)"
   ]
  },
  {
   "cell_type": "markdown",
   "metadata": {},
   "source": [
    "Entrenar:"
   ]
  },
  {
   "cell_type": "code",
   "execution_count": null,
   "metadata": {},
   "outputs": [],
   "source": [
    "for epoch in range(2):  # loop over the dataset multiple times\n",
    "\n",
    "    running_loss = 0.0\n",
    "    for i, data in enumerate(trainloader, 0):\n",
    "        # get the inputs; data is a list of [inputs, labels]\n",
    "        inputs, labels = data\n",
    "\n",
    "        # zero the parameter gradients\n",
    "        optimizer.zero_grad()\n",
    "\n",
    "        # forward + backward + optimize\n",
    "        outputs = net(inputs)\n",
    "        loss = criterion(outputs, labels)\n",
    "        loss.backward()\n",
    "        optimizer.step()\n",
    "\n",
    "        # print statistics\n",
    "        running_loss += loss.item()\n",
    "        if i % 2000 == 1999:    # print every 2000 mini-batches\n",
    "            print('[%d, %5d] loss: %.3f' %\n",
    "                  (epoch + 1, i + 1, running_loss / 2000))\n",
    "            running_loss = 0.0\n",
    "\n",
    "print('Finished Training')"
   ]
  },
  {
   "cell_type": "code",
   "execution_count": null,
   "metadata": {},
   "outputs": [],
   "source": [
    "torch.save(net.state_dict(), './cifar_net.pth') # guardar"
   ]
  },
  {
   "cell_type": "markdown",
   "metadata": {},
   "source": [
    "Tomamos cuatro imágenes aleatorios para ver si la red funciona:"
   ]
  },
  {
   "cell_type": "code",
   "execution_count": null,
   "metadata": {},
   "outputs": [],
   "source": [
    "dataiter = iter(testloader)"
   ]
  },
  {
   "cell_type": "code",
   "execution_count": null,
   "metadata": {},
   "outputs": [],
   "source": [
    "# print images\n",
    "images, labels = dataiter.next()\n",
    "imshow(torchvision.utils.make_grid(images))\n",
    "print('GroundTruth: ', ' '.join('%5s' % classes[labels[j]] for j in range(4)))"
   ]
  },
  {
   "cell_type": "markdown",
   "metadata": {},
   "source": [
    "Apliquemos la red y verifiquemos la salida:"
   ]
  },
  {
   "cell_type": "code",
   "execution_count": null,
   "metadata": {},
   "outputs": [],
   "source": [
    "outputs = net(images)\n",
    "\n",
    "_, predicted = torch.max(outputs, 1)\n",
    "\n",
    "print('Predicted: ', ' '.join('%5s' % classes[predicted[j]]\n",
    "                              for j in range(4)))"
   ]
  },
  {
   "cell_type": "markdown",
   "metadata": {},
   "source": [
    "¿Qué tal funciona la red en los categorías?"
   ]
  },
  {
   "cell_type": "code",
   "execution_count": null,
   "metadata": {},
   "outputs": [],
   "source": [
    "import seaborn as sn\n",
    "import pandas as pd\n",
    "import matplotlib.pyplot as plt\n",
    "\n",
    "from sklearn.metrics import confusion_matrix\n",
    "\n",
    "label_list = torch.zeros(0, dtype=torch.long)\n",
    "pred_list = torch.zeros(0, dtype=torch.long)\n",
    "\n",
    "class_correct = list(0. for i in range(10))\n",
    "class_total = list(0. for i in range(10))\n",
    "with torch.no_grad():\n",
    "    for data in testloader:\n",
    "        images, labels = data\n",
    "        outputs = net(images)\n",
    "        _, predicted = torch.max(outputs, 1)\n",
    "        \n",
    "        label_list = torch.cat([label_list, labels.view(-1)])\n",
    "        pred_list = torch.cat([pred_list, predicted.view(-1)])\n",
    "        \n",
    "        c = (predicted == labels).squeeze()\n",
    "        for i in range(4):\n",
    "            label = labels[i]\n",
    "            class_correct[label] += c[i].item()\n",
    "            class_total[label] += 1\n",
    "\n",
    "\n",
    "for i in range(10):\n",
    "    print('Accuracy of %5s : %2d %%' % (\n",
    "        classes[i], 100 * class_correct[i] / class_total[i]))\n",
    "\n",
    "# Confusion matrix\n",
    "conf_mat = confusion_matrix(label_list.numpy(), pred_list.numpy())\n",
    "df_cm = pd.DataFrame(conf_mat, index=classes, columns=classes)\n",
    "\n",
    "plt.figure(figsize=(10,8))\n",
    "sn.heatmap(df_cm, annot=True, cmap='rocket_r')\n",
    "\n",
    "b, t = plt.ylim()\n",
    "plt.ylim(b+0.5, t-0.5)\n",
    "plt.show()"
   ]
  },
  {
   "cell_type": "markdown",
   "metadata": {},
   "source": [
    "## Entranar en el GPU\n",
    "Para verificar si tienes un GPU de Nvidia y has instalado CUDA (que es un método de acceder el GPU a través código), executamos:"
   ]
  },
  {
   "cell_type": "code",
   "execution_count": null,
   "metadata": {},
   "outputs": [],
   "source": [
    "device = torch.device(\"cuda:0\" if torch.cuda.is_available() else \"cpu\")\n",
    "print(device)"
   ]
  },
  {
   "cell_type": "markdown",
   "metadata": {},
   "source": [
    "Para usar el red en el GPU (si lo de arriba dice `cuda:0`), tenemos que mudar todo los datos y la red hacia el GPU:"
   ]
  },
  {
   "cell_type": "code",
   "execution_count": null,
   "metadata": {},
   "outputs": [],
   "source": [
    "net.to(device)\n",
    "inputs, labels = data[0].to(device), data[1].to(device)"
   ]
  },
  {
   "cell_type": "code",
   "execution_count": null,
   "metadata": {},
   "outputs": [],
   "source": []
  }
 ],
 "metadata": {
  "kernelspec": {
   "display_name": "Python 3",
   "language": "python",
   "name": "python3"
  },
  "language_info": {
   "codemirror_mode": {
    "name": "ipython",
    "version": 3
   },
   "file_extension": ".py",
   "mimetype": "text/x-python",
   "name": "python",
   "nbconvert_exporter": "python",
   "pygments_lexer": "ipython3",
   "version": "3.6.8"
  }
 },
 "nbformat": 4,
 "nbformat_minor": 2
}
