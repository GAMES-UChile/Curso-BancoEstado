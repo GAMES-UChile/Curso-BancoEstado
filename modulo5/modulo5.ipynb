{
 "cells": [
  {
   "cell_type": "markdown",
   "metadata": {},
   "source": [
    "# Curso BancoEstado-CMM: Aprendizaje de Máquinas Avanzado \n",
    "**Autores:** Taco de Wolff y Felipe Tobar  \n",
    "\n",
    "**Fecha:** 8 noviembre, 2019\n",
    "\n",
    "\n",
    "# Módulo 5 - Modelos paramétricos y redes neuronales usando PyTorch\n",
    "**Contenidos**\n",
    "- ¿Qué es PyTorch y cómo se compara con NumPy?\n",
    "- Construir y entrenar una Red Neuronal\n",
    "\n",
    "## Introducción\n",
    "PyTorch es una librería basada en Python para computación científicas con el objetivo de extender NumPy para utilizar el poder de GPU, y proveer un entorno para investigación en aprendizaje profundo veloz y flexible. Una alternatva a PyTorch es TensorFlow que provee más o menos lo mismo, pero una de las principales diferencias entre TensorFlow y PyTorch es que el primero genera grafos estáticos, que deben ser construidos por completo antes de evaluarlos, en cambio PyTorch presenta grafos dinámicos, pueden ser modificados y evaluados por nodo. Además, la sintáxis de PyTorch  es más amiigables.\n",
    "\n",
    "Características de PyTorch:\n",
    "* Permite trabajo en tensores, similares a NumPy array pero permitiendo operaciones en la GPU.\n",
    "* Diferenciación automática para construir y entrenar modelos, en particular redes neuronales.\n",
    "* La gran diferencia con usar NumPy es que PyTorch (al igual que TensorFlow) construyen un grafo de computación, que luego es alimentado con los valores.\n",
    "\n",
    "Instalar con `conda install pytorch torchvision cpuonly -c pytorch`."
   ]
  },
  {
   "cell_type": "code",
   "execution_count": 1,
   "metadata": {},
   "outputs": [],
   "source": [
    "import torch"
   ]
  },
  {
   "cell_type": "markdown",
   "metadata": {},
   "source": [
    "## Tensores\n",
    "Un tensor de PyTorch es similar al `ndarray` de NumPy. Exploremos que son tensores con código. Podemos crear un tensor sin inicializar sus valores con `torch.empty(shape)`. Esta nos da un tensor con valores que estaban en el memoria antes y es necesario initializar todos valores nosostros mismos."
   ]
  },
  {
   "cell_type": "code",
   "execution_count": 2,
   "metadata": {},
   "outputs": [
    {
     "data": {
      "text/plain": [
       "tensor([[ 0.0000e+00,  1.0842e-19, -6.2284e+16],\n",
       "        [ 1.0845e-19,  1.1210e-44, -0.0000e+00],\n",
       "        [ 0.0000e+00,  0.0000e+00,  0.0000e+00],\n",
       "        [ 1.4013e-45,  0.0000e+00,  0.0000e+00],\n",
       "        [ 0.0000e+00,  0.0000e+00,  0.0000e+00]])"
      ]
     },
     "execution_count": 2,
     "metadata": {},
     "output_type": "execute_result"
    }
   ],
   "source": [
    "torch.empty(5, 3)"
   ]
  },
  {
   "cell_type": "markdown",
   "metadata": {},
   "source": [
    "También existen funciones que inicializan los valores de forma específica:"
   ]
  },
  {
   "cell_type": "code",
   "execution_count": 3,
   "metadata": {},
   "outputs": [
    {
     "data": {
      "text/plain": [
       "tensor([[0., 0., 0.],\n",
       "        [0., 0., 0.],\n",
       "        [0., 0., 0.],\n",
       "        [0., 0., 0.],\n",
       "        [0., 0., 0.]])"
      ]
     },
     "execution_count": 3,
     "metadata": {},
     "output_type": "execute_result"
    }
   ],
   "source": [
    "torch.zeros(5, 3)"
   ]
  },
  {
   "cell_type": "markdown",
   "metadata": {},
   "source": [
    "o con valores aleatoreas, e.g., entre `0` y `1`:"
   ]
  },
  {
   "cell_type": "code",
   "execution_count": 4,
   "metadata": {},
   "outputs": [
    {
     "data": {
      "text/plain": [
       "tensor([[0.4476, 0.2931, 0.8383],\n",
       "        [0.8953, 0.9553, 0.8147],\n",
       "        [0.1347, 0.6154, 0.3391],\n",
       "        [0.1948, 0.8150, 0.2245],\n",
       "        [0.7758, 0.3760, 0.5903]])"
      ]
     },
     "execution_count": 4,
     "metadata": {},
     "output_type": "execute_result"
    }
   ],
   "source": [
    "torch.rand(5, 3)"
   ]
  },
  {
   "cell_type": "markdown",
   "metadata": {},
   "source": [
    "Podemos incluso tomar un arreglo de Python y convertirlo en un tensor PyTorch:"
   ]
  },
  {
   "cell_type": "code",
   "execution_count": 5,
   "metadata": {},
   "outputs": [
    {
     "name": "stdout",
     "output_type": "stream",
     "text": [
      "tensor([[5.5000, 9.0000, 3.0000],\n",
      "        [9.9000, 0.2000, 3.0000]])\n",
      "tensor(1)\n"
     ]
    }
   ],
   "source": [
    "print(torch.tensor([[5.5, 9, 3], [9.9, 0.2, 3]]))\n",
    "print(torch.tensor(1))"
   ]
  },
  {
   "cell_type": "markdown",
   "metadata": {},
   "source": [
    "### Conección con NumPy\n",
    "En el fondo, PyTorch y NumPy usan los mismos datos. Cambiar desde NumPy hacia PyTorch no duplica los datos, refieren a los mismos datos. Es decir que cambiar los datos en uno afectan los valores en el otro."
   ]
  },
  {
   "cell_type": "code",
   "execution_count": 6,
   "metadata": {},
   "outputs": [],
   "source": [
    "import numpy as np"
   ]
  },
  {
   "cell_type": "markdown",
   "metadata": {},
   "source": [
    "Creamos un arreglo en NumPy, lo convertimos en un tensro PyTorch y luego cambiamos un valor en NumPy y veamos el cambio en PyTorch:"
   ]
  },
  {
   "cell_type": "code",
   "execution_count": 7,
   "metadata": {},
   "outputs": [
    {
     "name": "stdout",
     "output_type": "stream",
     "text": [
      "tensor([1., 1., 1., 1., 1.], dtype=torch.float64)\n",
      "tensor([  1.,   1.,   1., 100.,   1.], dtype=torch.float64)\n"
     ]
    }
   ],
   "source": [
    "np_arreglo = np.ones(5)\n",
    "pt_tensor = torch.from_numpy(np_arreglo)\n",
    "\n",
    "print(pt_tensor)\n",
    "\n",
    "np_arreglo[3] = 100\n",
    "\n",
    "print(pt_tensor)"
   ]
  },
  {
   "cell_type": "markdown",
   "metadata": {},
   "source": [
    "Y también el revés:"
   ]
  },
  {
   "cell_type": "code",
   "execution_count": 8,
   "metadata": {},
   "outputs": [
    {
     "name": "stdout",
     "output_type": "stream",
     "text": [
      "[1. 1. 1. 1. 1.]\n",
      "[  1.   1.   1. 100.   1.]\n"
     ]
    }
   ],
   "source": [
    "pt_tensor = torch.ones(5)\n",
    "np_arreglo = pt_tensor.numpy()\n",
    "\n",
    "print(np_arreglo)\n",
    "\n",
    "pt_tensor[3] = 100\n",
    "\n",
    "print(np_arreglo)"
   ]
  },
  {
   "cell_type": "markdown",
   "metadata": {},
   "source": [
    "### Operaciones básicas con tensores\n",
    "Sumar dos tensores:"
   ]
  },
  {
   "cell_type": "code",
   "execution_count": 9,
   "metadata": {},
   "outputs": [
    {
     "data": {
      "text/plain": [
       "tensor([[1.5000, 1.5000, 1.5000],\n",
       "        [1.5000, 1.5000, 1.5000],\n",
       "        [1.5000, 1.5000, 1.5000],\n",
       "        [1.5000, 1.5000, 1.5000],\n",
       "        [1.5000, 1.5000, 1.5000]])"
      ]
     },
     "execution_count": 9,
     "metadata": {},
     "output_type": "execute_result"
    }
   ],
   "source": [
    "x = torch.ones(5, 3)\n",
    "y = 0.5 * torch.ones(5, 3)\n",
    "z = x + y\n",
    "z"
   ]
  },
  {
   "cell_type": "markdown",
   "metadata": {},
   "source": [
    "Lo que pasa arriba es que creamos un nuevo tensor con valores del sumo entre `x` y `y`. Cuando estemos en un bucle (for) sumando los dos tensores por ejemplo, lo de arriba será muy ineficiente por que estamos alocando memoria de un tensor nuevo cada vez.\n",
    "\n",
    "PyTorch nos permite definir explícitamente que queremos usar el tensor `z` para la salida, evitando utilizar más memoria. Usemos `torch.add()` con el parámetros `out` que define donde guardar los resultados de la operación:"
   ]
  },
  {
   "cell_type": "code",
   "execution_count": 10,
   "metadata": {},
   "outputs": [
    {
     "name": "stdout",
     "output_type": "stream",
     "text": [
      "x + y =\n",
      " tensor([[1.4946, 1.9296, 1.6051],\n",
      "        [1.2543, 1.4639, 1.9008],\n",
      "        [1.6199, 1.9057, 1.8174],\n",
      "        [1.7764, 1.1110, 1.0538],\n",
      "        [1.7093, 1.8463, 1.0894]])\n",
      "\n",
      "2x + y =\n",
      " tensor([[2.4946, 2.9296, 2.6051],\n",
      "        [2.2543, 2.4639, 2.9008],\n",
      "        [2.6199, 2.9057, 2.8174],\n",
      "        [2.7764, 2.1110, 2.0538],\n",
      "        [2.7093, 2.8463, 2.0894]])\n"
     ]
    }
   ],
   "source": [
    "x = torch.ones(5, 3)\n",
    "y = torch.rand(5, 3)\n",
    "z = torch.empty(5, 3)\n",
    "\n",
    "torch.add(x, y, out=z)\n",
    "print(\"x + y =\\n\", z)\n",
    "\n",
    "torch.add(x, z, out=z)\n",
    "print(\"\\n2x + y =\\n\", z)"
   ]
  },
  {
   "cell_type": "markdown",
   "metadata": {},
   "source": [
    "#### Cambiar tamaño\n",
    "Cambiar el tamaño del tensor usando `torch.view()`. Si tenemos un tensor con tamaño `(4,4)`, podemos cambiar la 'vista' al tensor y cambiar su tamaño. Dando un tamaño `-1` para una dimensión, automaticamente usa el valor requerido para preservar la cantidad de elementos. "
   ]
  },
  {
   "cell_type": "code",
   "execution_count": 11,
   "metadata": {},
   "outputs": [
    {
     "data": {
      "text/plain": [
       "tensor([[ 0.8820, -0.6311,  0.3209,  0.3632],\n",
       "        [-0.7671,  0.2280, -1.5380,  1.6088],\n",
       "        [-0.8060,  0.0202,  0.0858, -0.4523],\n",
       "        [-1.4026, -1.6957,  0.0160, -0.7493]])"
      ]
     },
     "execution_count": 11,
     "metadata": {},
     "output_type": "execute_result"
    }
   ],
   "source": [
    "t = torch.randn(4, 4)\n",
    "t"
   ]
  },
  {
   "cell_type": "code",
   "execution_count": 12,
   "metadata": {},
   "outputs": [
    {
     "data": {
      "text/plain": [
       "tensor([ 0.8820, -0.6311,  0.3209,  0.3632, -0.7671,  0.2280, -1.5380,  1.6088,\n",
       "        -0.8060,  0.0202,  0.0858, -0.4523, -1.4026, -1.6957,  0.0160, -0.7493])"
      ]
     },
     "execution_count": 12,
     "metadata": {},
     "output_type": "execute_result"
    }
   ],
   "source": [
    "t.view(16)"
   ]
  },
  {
   "cell_type": "code",
   "execution_count": 13,
   "metadata": {},
   "outputs": [
    {
     "data": {
      "text/plain": [
       "tensor([[ 0.8820, -0.6311],\n",
       "        [ 0.3209,  0.3632],\n",
       "        [-0.7671,  0.2280],\n",
       "        [-1.5380,  1.6088],\n",
       "        [-0.8060,  0.0202],\n",
       "        [ 0.0858, -0.4523],\n",
       "        [-1.4026, -1.6957],\n",
       "        [ 0.0160, -0.7493]])"
      ]
     },
     "execution_count": 13,
     "metadata": {},
     "output_type": "execute_result"
    }
   ],
   "source": [
    "t.view(-1, 2)"
   ]
  },
  {
   "cell_type": "code",
   "execution_count": 14,
   "metadata": {},
   "outputs": [
    {
     "data": {
      "text/plain": [
       "tensor([[ 0.8820, -0.6311],\n",
       "        [ 0.3209,  0.3632],\n",
       "        [-0.7671,  0.2280],\n",
       "        [-1.5380,  1.6088],\n",
       "        [-0.8060,  0.0202],\n",
       "        [ 0.0858, -0.4523],\n",
       "        [-1.4026, -1.6957],\n",
       "        [ 0.0160, -0.7493]])"
      ]
     },
     "execution_count": 14,
     "metadata": {},
     "output_type": "execute_result"
    }
   ],
   "source": [
    "t.view(8, -1)"
   ]
  },
  {
   "cell_type": "code",
   "execution_count": 15,
   "metadata": {},
   "outputs": [
    {
     "data": {
      "text/plain": [
       "tensor([[ 0.8820, -0.6311,  0.3209,  0.3632],\n",
       "        [-0.7671,  0.2280, -1.5380,  1.6088],\n",
       "        [-0.8060,  0.0202,  0.0858, -0.4523],\n",
       "        [-1.4026, -1.6957,  0.0160, -0.7493]])"
      ]
     },
     "execution_count": 15,
     "metadata": {},
     "output_type": "execute_result"
    }
   ],
   "source": [
    "t.view(4, 2, 2)\n",
    "t"
   ]
  },
  {
   "cell_type": "markdown",
   "metadata": {},
   "source": [
    "#### Multiplicaciones\n",
    "Al igual que Numpy, las multiplicaciones son elemento a elemento"
   ]
  },
  {
   "cell_type": "code",
   "execution_count": 16,
   "metadata": {},
   "outputs": [
    {
     "data": {
      "text/plain": [
       "tensor([ 4, 24, 18])"
      ]
     },
     "execution_count": 16,
     "metadata": {},
     "output_type": "execute_result"
    }
   ],
   "source": [
    "a = torch.tensor([4, 3, 9])\n",
    "b = torch.tensor([1, 8, 2])\n",
    "a * b"
   ]
  },
  {
   "cell_type": "markdown",
   "metadata": {},
   "source": [
    "mientras que el producto interno entre dos vectores se calcula como:"
   ]
  },
  {
   "cell_type": "code",
   "execution_count": 17,
   "metadata": {},
   "outputs": [
    {
     "data": {
      "text/plain": [
       "tensor(46)"
      ]
     },
     "execution_count": 17,
     "metadata": {},
     "output_type": "execute_result"
    }
   ],
   "source": [
    "torch.dot(a, b) # a^T b"
   ]
  },
  {
   "cell_type": "markdown",
   "metadata": {},
   "source": [
    "y el  producto externo:"
   ]
  },
  {
   "cell_type": "code",
   "execution_count": 18,
   "metadata": {},
   "outputs": [
    {
     "data": {
      "text/plain": [
       "tensor([[ 4, 32,  8],\n",
       "        [ 3, 24,  6],\n",
       "        [ 9, 72, 18]])"
      ]
     },
     "execution_count": 18,
     "metadata": {},
     "output_type": "execute_result"
    }
   ],
   "source": [
    "torch.ger(a, b) # a b^T"
   ]
  },
  {
   "cell_type": "markdown",
   "metadata": {},
   "source": [
    "Producto entre un vector y una matriz:"
   ]
  },
  {
   "cell_type": "code",
   "execution_count": 19,
   "metadata": {},
   "outputs": [
    {
     "data": {
      "text/plain": [
       "tensor([ 16.,  13., -97.])"
      ]
     },
     "execution_count": 19,
     "metadata": {},
     "output_type": "execute_result"
    }
   ],
   "source": [
    "m = torch.tensor([[2.0, 0.5], [1.0, -1.0], [-9.0, 4.0]])\n",
    "v = torch.tensor([9.0, -4.0])\n",
    "torch.mv(m, v)"
   ]
  },
  {
   "cell_type": "markdown",
   "metadata": {},
   "source": [
    "Producto entre dos matrizes:"
   ]
  },
  {
   "cell_type": "code",
   "execution_count": 20,
   "metadata": {},
   "outputs": [
    {
     "data": {
      "text/plain": [
       "tensor([[0.9177, 0.2869, 1.2008, 1.1094],\n",
       "        [0.6182, 0.1355, 1.0977, 1.0519],\n",
       "        [0.1115, 0.0442, 0.2086, 0.1758],\n",
       "        [0.1093, 0.0768, 0.2374, 0.1611],\n",
       "        [0.7636, 0.1265, 1.2311, 1.2431]])"
      ]
     },
     "execution_count": 20,
     "metadata": {},
     "output_type": "execute_result"
    }
   ],
   "source": [
    "m1 = torch.rand(5, 3)\n",
    "m2 = torch.rand(3, 4)\n",
    "m3 = torch.mm(m1, m2) # tamaño 5x4\n",
    "m3"
   ]
  },
  {
   "cell_type": "markdown",
   "metadata": {},
   "source": [
    "Finalmente, el operador que rescata la diagonal de una matriz está dado por:"
   ]
  },
  {
   "cell_type": "code",
   "execution_count": 21,
   "metadata": {},
   "outputs": [
    {
     "data": {
      "text/plain": [
       "tensor([0.9177, 0.1355, 0.2086, 0.1611])"
      ]
     },
     "execution_count": 21,
     "metadata": {},
     "output_type": "execute_result"
    }
   ],
   "source": [
    "m3.diag()"
   ]
  },
  {
   "cell_type": "markdown",
   "metadata": {},
   "source": [
    "## Autograd\n",
    "El paquete `Autograd` permite diferenciación automática para todas las operaciones con tensores. Es especialmente útil al realizar _Backpropagation_ en las redes neuronales.\n",
    "\n",
    "### Calcular gradientes\n",
    "En el siguiente caso, tendremos dos operaciones `B` y `C` definido por\n",
    "\n",
    "$$B(A) = A * A$$\n",
    "$$C(B) = B * 2$$\n",
    "\n",
    "y supongamos que \n",
    "\n",
    "$$A = \\begin{bmatrix}1&0&2\\end{bmatrix}$$\n",
    "\n",
    "Según el _chain rule_ decimos\n",
    "$$\\frac{\\delta C}{\\delta A} = C'(B) * B'(A) = 2 * 2 A$$\n",
    "$$\\frac{\\delta C}{\\delta B} = C'(B) = 2$$\n",
    "\n",
    "La función `backward(x)` calcula el gradiente (`grad`) automáticamente para todas las variables (tensores) que en donde `requires_grad=True` o `retain_grad()`. El argumento `x` es el valor del input para el cual vamos sa evaluar el gradiente de nuestra función (más adelante de $C$). Normalmente tomamos un tensor unitario con tamaño de $C$ para `x`. Por ejemplo, $\\textrm{A.grad} = \\frac{\\delta C}{\\delta A} = 4\\cdot\\begin{bmatrix}1&0&2\\end{bmatrix} = \\begin{bmatrix}4&0&8\\end{bmatrix}$"
   ]
  },
  {
   "cell_type": "code",
   "execution_count": 22,
   "metadata": {},
   "outputs": [
    {
     "name": "stdout",
     "output_type": "stream",
     "text": [
      "A: tensor([[1., 0., 2.]], requires_grad=True)\n",
      "B: tensor([[1., 0., 4.]], grad_fn=<MulBackward0>)\n",
      "C: tensor([[2., 0., 8.]], grad_fn=<MulBackward0>)\n",
      "A.grad: tensor([[4., 0., 8.]])\n",
      "B.grad: tensor([[2., 2., 2.]])\n"
     ]
    }
   ],
   "source": [
    "A = torch.tensor([[1,0,2]], dtype=torch.float, requires_grad=True) # calculamos el grad para A\n",
    "B = A * A\n",
    "C = B * 2\n",
    "\n",
    "B.retain_grad() # calculamos también el grad para B\n",
    "\n",
    "print('A:', A)\n",
    "print('B:', B)\n",
    "print('C:', C)\n",
    "\n",
    "C.backward(torch.ones(1, 3)) # pasamos un vector [1,1,1] para calcular el grad\n",
    "\n",
    "print('A.grad:', A.grad)\n",
    "print('B.grad:', B.grad)"
   ]
  },
  {
   "cell_type": "markdown",
   "metadata": {},
   "source": [
    "### Gradientes más complejos\n",
    "Supongamos que tengamos la siguiente función:\n",
    "$$f = \\frac{1}{4}\\sum_j 3(x_j + 2)^2,$$\n",
    "entonces para calcular el gradiente seguimos:\n",
    "$$\\begin{align}\n",
    "\\frac{\\delta f}{\\delta x_i} &= \\frac{1}{4}\\sum_j \\frac{\\delta z_j}{\\delta x_i},& \\text{donde }z_j = 3(x_j + 2)^2,   \\\\\n",
    "&= \\frac{1}{4}\\sum_j \\frac{\\delta 3y_j^2}{\\delta x_i}, & \\text{donde }y_j = (x_j + 2)^2 \\\\\n",
    "&= \\frac{1}{4}\\sum_j 6 y_j\\frac{\\delta y_j}{\\delta x_i} & \\\\\n",
    "&= \\frac{3}{2}\\sum_j (x_j + 2)\\frac{\\delta (x_j + 2)}{\\delta x_i} & \\\\\n",
    "&= \\frac{3}{2}\\sum_j (x_j + 2)\\frac{\\delta x_j}{\\delta x_i} & \\\\\n",
    "&= \\frac{3}{2}(x_i + 2) & \\frac{\\delta x_j}{\\delta x_i} = 0 \\;\\textrm{if}\\; i \\neq j \\\\\n",
    "\\end{align}$$\n",
    "\n",
    "Como $x$ es una matriz de $2 \\times 2$ y $f$ es escalar, el gradiente va a ser una matriz de $2 \\times 2$.\n",
    "\n",
    "$$\\textrm{x.grad} = \\frac{\\delta f}{\\delta x_i}\\bigg\\rvert_{x_i=x} = \\begin{bmatrix}\\frac{3}{2}(2 + 2) & \\frac{3}{2}(1 + 2) \\\\ \\frac{3}{2}(0 + 2) & \\frac{3}{2}(1 + 2)\\end{bmatrix} = \\begin{bmatrix}6 & 4.5 \\\\ 3 & 4.5\\end{bmatrix}$$\n",
    "\n",
    "Y en PyTorch obtenemos la misma solucion:"
   ]
  },
  {
   "cell_type": "code",
   "execution_count": 23,
   "metadata": {},
   "outputs": [
    {
     "name": "stdout",
     "output_type": "stream",
     "text": [
      "tensor([[6.0000, 4.5000],\n",
      "        [3.0000, 4.5000]])\n"
     ]
    }
   ],
   "source": [
    "x = torch.tensor([[2,1],[0,1]], dtype=torch.float, requires_grad=True)\n",
    "y = x + 2\n",
    "z = y * y * 3\n",
    "f = z.mean()\n",
    "\n",
    "f.backward()\n",
    "\n",
    "print(x.grad)"
   ]
  },
  {
   "cell_type": "markdown",
   "metadata": {},
   "source": [
    "## Ejemplo de modelo no lineal"
   ]
  },
  {
   "cell_type": "code",
   "execution_count": 24,
   "metadata": {},
   "outputs": [
    {
     "name": "stdout",
     "output_type": "stream",
     "text": [
      "(144,)\n"
     ]
    },
    {
     "data": {
      "text/plain": [
       "Text(0.5, 1.0, 'Airline dataset')"
      ]
     },
     "execution_count": 24,
     "metadata": {},
     "output_type": "execute_result"
    },
    {
     "data": {
      "image/png": "[encoded data removed]",
      "text/plain": [
       "<Figure size 1152x432 with 1 Axes>"
      ]
     },
     "metadata": {
      "needs_background": "light"
     },
     "output_type": "display_data"
    }
   ],
   "source": [
    "%matplotlib inline\n",
    "import matplotlib.pyplot as plt\n",
    "\n",
    "data = np.loadtxt('passenger_data.txt')\n",
    "x = data[:,0]\n",
    "y = data[:,1]\n",
    "r = 0.8 #training vesus all ratio\n",
    "til_train = int(len(y)*r)\n",
    "#x = x-til_train\n",
    "\n",
    "z = 10 * np.sin(x*0.51) * np.exp(x*0.02) + 100 + x*2.49\n",
    "\n",
    "x_trn = x[:int(len(y)*r)]\n",
    "y_trn = y[:int(len(y)*r)]\n",
    "\n",
    "x_tst = x[int(len(y)*r):]\n",
    "y_tst = y[int(len(y)*r):]\n",
    "print(y.shape)\n",
    "\n",
    "plt.figure(figsize=(16, 6))\n",
    "plt.plot(x_tst,y_tst, 'or')\n",
    "plt.plot(x_trn,y_trn, 'og')\n",
    "plt.title('Airline dataset')"
   ]
  },
  {
   "cell_type": "markdown",
   "metadata": {},
   "source": [
    "### Dos modelos para la serie de pasajeros"
   ]
  },
  {
   "cell_type": "code",
   "execution_count": 314,
   "metadata": {},
   "outputs": [
    {
     "name": "stdout",
     "output_type": "stream",
     "text": [
      "modelo_nolineal()\n"
     ]
    }
   ],
   "source": [
    "import torch\n",
    "import torch.nn as nn\n",
    "import torch.nn.functional as F\n",
    "\n",
    "\n",
    "class modelo_nolineal(nn.Module):\n",
    "\n",
    "    def __init__(self):\n",
    "        super(modelo_nolineal, self).__init__()\n",
    "        #self.a = nn.Parameter(torch.randn(1, requires_grad=True, dtype=torch.float))\n",
    "        #self.b = nn.Parameter(torch.randn(1, requires_grad=True, dtype=torch.float))\n",
    "        #self.c = nn.Parameter(torch.randn(1, requires_grad=True, dtype=torch.float))\n",
    "        #self.d = nn.Parameter(torch.randn(1, requires_grad=True, dtype=torch.float))\n",
    "        #self.e = nn.Parameter(torch.randn(1, requires_grad=True, dtype=torch.float))\n",
    "        #self.f = nn.Parameter(torch.randn(1, requires_grad=True, dtype=torch.float))\n",
    "        self.a = nn.Parameter(torch.tensor([100], dtype=torch.float, requires_grad=True))\n",
    "        self.b = nn.Parameter(torch.tensor([2], dtype=torch.float, requires_grad=True))\n",
    "        self.c = nn.Parameter(torch.tensor([10], dtype=torch.float, requires_grad=True))\n",
    "        self.d = nn.Parameter(torch.tensor([1], dtype=torch.float, requires_grad=True))\n",
    "        self.e = nn.Parameter(torch.tensor([0.01], dtype=torch.float, requires_grad=True))\n",
    "        self.f = nn.Parameter(torch.tensor([0], dtype=torch.float, requires_grad=True))\n",
    "\n",
    "        \n",
    "\n",
    "    def forward(self, x):\n",
    "        #return self.a + self.b * x\n",
    "        bias = self.a\n",
    "        slope = self.b\n",
    "        growth = self.c * torch.exp(self.d * x)\n",
    "        oscillatory = torch.cos(2*np.pi* x/12 + self.f)\n",
    "        return bias + slope * x + growth * oscillatory\n",
    "        #return self.a + self.b*x + self.c*x**2 \n",
    "\n",
    "\n",
    "modelo = modelo_nolineal()\n",
    "print(modelo)"
   ]
  },
  {
   "cell_type": "code",
   "execution_count": 232,
   "metadata": {},
   "outputs": [
    {
     "name": "stdout",
     "output_type": "stream",
     "text": [
      "modelo_NN(\n",
      "  (fc1): Linear(in_features=1, out_features=120, bias=True)\n",
      "  (fc2): Linear(in_features=120, out_features=240, bias=True)\n",
      "  (fc3): Linear(in_features=240, out_features=200, bias=True)\n",
      "  (fc4): Linear(in_features=200, out_features=150, bias=True)\n",
      "  (fc5): Linear(in_features=150, out_features=100, bias=True)\n",
      "  (fc6): Linear(in_features=100, out_features=50, bias=True)\n",
      "  (fc7): Linear(in_features=50, out_features=1, bias=True)\n",
      ")\n"
     ]
    }
   ],
   "source": [
    "import torch\n",
    "import torch.nn as nn\n",
    "import torch.nn.functional as F\n",
    "\n",
    "class modelo_NN(nn.Module):\n",
    "    def __init__(self):\n",
    "        super(modelo_NN, self).__init__()\n",
    "        self.fc1 = nn.Linear(1, 120)  \n",
    "        self.fc2 = nn.Linear(120, 240)\n",
    "        self.fc3 = nn.Linear(240, 200)\n",
    "        self.fc4 = nn.Linear(200, 150)\n",
    "        self.fc5 = nn.Linear(150, 100)\n",
    "        self.fc6 = nn.Linear(100, 50)\n",
    "        self.fc7 = nn.Linear(50, 1)        \n",
    "\n",
    "    def forward(self, x):\n",
    "        x = F.relu(self.fc1(x))\n",
    "        x = F.relu(self.fc2(x))\n",
    "        x = F.relu(self.fc3(x))\n",
    "        x = F.relu(self.fc4(x))\n",
    "        x = F.relu(self.fc5(x))\n",
    "        x = F.relu(self.fc6(x))\n",
    "        x = self.fc7(x)\n",
    "        return x\n",
    "\n",
    "modelo = modelo_NN()\n",
    "print(modelo)"
   ]
  },
  {
   "cell_type": "code",
   "execution_count": 233,
   "metadata": {},
   "outputs": [
    {
     "name": "stdout",
     "output_type": "stream",
     "text": [
      "Capas: 14\n",
      "Tamaño de parámetro 1 => torch.Size([120, 1])\n",
      "Tamaño de parámetro 2 => torch.Size([120])\n",
      "Tamaño de parámetro 3 => torch.Size([240, 120])\n",
      "Tamaño de parámetro 4 => torch.Size([240])\n",
      "Tamaño de parámetro 5 => torch.Size([200, 240])\n",
      "Tamaño de parámetro 6 => torch.Size([200])\n",
      "Tamaño de parámetro 7 => torch.Size([150, 200])\n",
      "Tamaño de parámetro 8 => torch.Size([150])\n",
      "Tamaño de parámetro 9 => torch.Size([100, 150])\n",
      "Tamaño de parámetro 10 => torch.Size([100])\n",
      "Tamaño de parámetro 11 => torch.Size([50, 100])\n",
      "Tamaño de parámetro 12 => torch.Size([50])\n",
      "Tamaño de parámetro 13 => torch.Size([1, 50])\n",
      "Tamaño de parámetro 14 => torch.Size([1])\n"
     ]
    }
   ],
   "source": [
    "params = list(modelo.parameters())\n",
    "print(\"Capas:\", len(params))\n",
    "for i, param in enumerate(params):\n",
    "    print(\"Tamaño de parámetro\", i+1, \"=>\", param.size())"
   ]
  },
  {
   "cell_type": "markdown",
   "metadata": {},
   "source": [
    "### Función de perdida\n",
    "Una función de perdida toma una salida y el objetivo de su valor para calcular una medida de error. Por ejemplo, el `nn.MSELoss` que calcula el error de escuadrados mínimos:"
   ]
  },
  {
   "cell_type": "code",
   "execution_count": 234,
   "metadata": {},
   "outputs": [
    {
     "name": "stdout",
     "output_type": "stream",
     "text": [
      "tensor([-0.0678], grad_fn=<AddBackward0>)\n"
     ]
    }
   ],
   "source": [
    "input = torch.randn(1)\n",
    "out = modelo(input)\n",
    "print(out)  # tensor con tamaño 1x10"
   ]
  },
  {
   "cell_type": "code",
   "execution_count": 235,
   "metadata": {},
   "outputs": [
    {
     "name": "stdout",
     "output_type": "stream",
     "text": [
      "tensor(0.1492, grad_fn=<MseLossBackward>)\n"
     ]
    }
   ],
   "source": [
    "output = modelo(input)\n",
    "target = torch.randn(1)  # por ejemplo\n",
    "criterion = nn.MSELoss()\n",
    "\n",
    "loss = criterion(output, target)\n",
    "print(loss)"
   ]
  },
  {
   "cell_type": "markdown",
   "metadata": {},
   "source": [
    "Usamos propagación hacia atrás para empotrar los valores de error en nuestros cadas de red neuronal. En PyTorch hacemos el \"backprop\" simplemente usando `backward()` en la salida de función de perdida:"
   ]
  },
  {
   "cell_type": "code",
   "execution_count": 236,
   "metadata": {},
   "outputs": [],
   "source": [
    "modelo.zero_grad()  # borrar los valores de antes de todos parámetros\n",
    "\n",
    "loss.backward()"
   ]
  },
  {
   "cell_type": "markdown",
   "metadata": {},
   "source": [
    "### Actualizar los pesos\n",
    "El método más simple de actualizar los pesos es el \"Stochastic Gradient Descent (SGD)\". En PyTorch podemos usar el packete `torch.optim` que nos da implementaciones de varios tipos de reglas de actualizar (como SGD, Nesterov-SGD, Adam, RMSProp, ...)."
   ]
  },
  {
   "cell_type": "code",
   "execution_count": 237,
   "metadata": {},
   "outputs": [],
   "source": [
    "optimizer = torch.optim.SGD(modelo.parameters(), lr=0.01)\n",
    "\n",
    "# en la bucle de entrenamiento:\n",
    "optimizer.zero_grad()  # borrar los buffers del gradiente\n",
    "output = modelo(input)\n",
    "loss = criterion(output, target)\n",
    "loss.backward()\n",
    "optimizer.step()  # actualizar los pesos"
   ]
  },
  {
   "cell_type": "markdown",
   "metadata": {},
   "source": [
    "### Entrenamiento"
   ]
  },
  {
   "cell_type": "code",
   "execution_count": 330,
   "metadata": {
    "scrolled": true
   },
   "outputs": [
    {
     "name": "stdout",
     "output_type": "stream",
     "text": [
      "torch.Size([20, 1])\n",
      "torch.Size([20, 1])\n",
      "torch.Size([20, 1])\n",
      "torch.Size([20, 1])\n",
      "torch.Size([20, 1])\n",
      "torch.Size([15, 1])\n",
      "[1,     6] loss: 352733.009\n",
      "torch.Size([20, 1])\n",
      "torch.Size([20, 1])\n",
      "torch.Size([20, 1])\n",
      "torch.Size([20, 1])\n",
      "torch.Size([20, 1])\n",
      "torch.Size([15, 1])\n",
      "[2,     6] loss: 66868.612\n",
      "torch.Size([20, 1])\n",
      "torch.Size([20, 1])\n",
      "torch.Size([20, 1])\n",
      "torch.Size([20, 1])\n",
      "torch.Size([20, 1])\n",
      "torch.Size([15, 1])\n",
      "[3,     6] loss: 30598.099\n",
      "torch.Size([20, 1])\n",
      "torch.Size([20, 1])\n",
      "torch.Size([20, 1])\n",
      "torch.Size([20, 1])\n",
      "torch.Size([20, 1])\n",
      "torch.Size([15, 1])\n",
      "[4,     6] loss: 20362.725\n",
      "torch.Size([20, 1])\n",
      "torch.Size([20, 1])\n",
      "torch.Size([20, 1])\n",
      "torch.Size([20, 1])\n",
      "torch.Size([20, 1])\n",
      "torch.Size([15, 1])\n",
      "[5,     6] loss: 20939.087\n",
      "torch.Size([20, 1])\n",
      "torch.Size([20, 1])\n",
      "torch.Size([20, 1])\n",
      "torch.Size([20, 1])\n",
      "torch.Size([20, 1])\n",
      "torch.Size([15, 1])\n",
      "[6,     6] loss: 22872.154\n",
      "torch.Size([20, 1])\n",
      "torch.Size([20, 1])\n",
      "torch.Size([20, 1])\n",
      "torch.Size([20, 1])\n",
      "torch.Size([20, 1])\n",
      "torch.Size([15, 1])\n",
      "[7,     6] loss: 22603.648\n",
      "torch.Size([20, 1])\n",
      "torch.Size([20, 1])\n",
      "torch.Size([20, 1])\n",
      "torch.Size([20, 1])\n",
      "torch.Size([20, 1])\n",
      "torch.Size([15, 1])\n",
      "[8,     6] loss: 22013.394\n",
      "torch.Size([20, 1])\n",
      "torch.Size([20, 1])\n",
      "torch.Size([20, 1])\n",
      "torch.Size([20, 1])\n",
      "torch.Size([20, 1])\n",
      "torch.Size([15, 1])\n",
      "[9,     6] loss: 21887.851\n",
      "torch.Size([20, 1])\n",
      "torch.Size([20, 1])\n",
      "torch.Size([20, 1])\n",
      "torch.Size([20, 1])\n",
      "torch.Size([20, 1])\n",
      "torch.Size([15, 1])\n",
      "[10,     6] loss: 21583.540\n",
      "torch.Size([20, 1])\n",
      "torch.Size([20, 1])\n",
      "torch.Size([20, 1])\n",
      "torch.Size([20, 1])\n",
      "torch.Size([20, 1])\n",
      "torch.Size([15, 1])\n",
      "[11,     6] loss: 21512.643\n",
      "torch.Size([20, 1])\n",
      "torch.Size([20, 1])\n",
      "torch.Size([20, 1])\n",
      "torch.Size([20, 1])\n",
      "torch.Size([20, 1])\n",
      "torch.Size([15, 1])\n",
      "[12,     6] loss: 21427.734\n",
      "torch.Size([20, 1])\n",
      "torch.Size([20, 1])\n",
      "torch.Size([20, 1])\n",
      "torch.Size([20, 1])\n",
      "torch.Size([20, 1])\n",
      "torch.Size([15, 1])\n",
      "[13,     6] loss: 21378.966\n",
      "torch.Size([20, 1])\n",
      "torch.Size([20, 1])\n",
      "torch.Size([20, 1])\n",
      "torch.Size([20, 1])\n",
      "torch.Size([20, 1])\n",
      "torch.Size([15, 1])\n",
      "[14,     6] loss: 21348.736\n",
      "torch.Size([20, 1])\n",
      "torch.Size([20, 1])\n",
      "torch.Size([20, 1])\n",
      "torch.Size([20, 1])\n",
      "torch.Size([20, 1])\n",
      "torch.Size([15, 1])\n",
      "[15,     6] loss: 21312.798\n",
      "torch.Size([20, 1])\n",
      "torch.Size([20, 1])\n",
      "torch.Size([20, 1])\n",
      "torch.Size([20, 1])\n",
      "torch.Size([20, 1])\n",
      "torch.Size([15, 1])\n",
      "[16,     6] loss: 21291.388\n",
      "torch.Size([20, 1])\n",
      "torch.Size([20, 1])\n",
      "torch.Size([20, 1])\n",
      "torch.Size([20, 1])\n",
      "torch.Size([20, 1])\n",
      "torch.Size([15, 1])\n",
      "[17,     6] loss: 21251.031\n",
      "torch.Size([20, 1])\n",
      "torch.Size([20, 1])\n",
      "torch.Size([20, 1])\n",
      "torch.Size([20, 1])\n",
      "torch.Size([20, 1])\n",
      "torch.Size([15, 1])\n",
      "[18,     6] loss: 21251.310\n",
      "torch.Size([20, 1])\n",
      "torch.Size([20, 1])\n",
      "torch.Size([20, 1])\n",
      "torch.Size([20, 1])\n",
      "torch.Size([20, 1])\n",
      "torch.Size([15, 1])\n",
      "[19,     6] loss: 21223.463\n",
      "torch.Size([20, 1])\n",
      "torch.Size([20, 1])\n",
      "torch.Size([20, 1])\n",
      "torch.Size([20, 1])\n",
      "torch.Size([20, 1])\n",
      "torch.Size([15, 1])\n",
      "[20,     6] loss: 21194.586\n",
      "torch.Size([20, 1])\n",
      "torch.Size([20, 1])\n",
      "torch.Size([20, 1])\n",
      "torch.Size([20, 1])\n",
      "torch.Size([20, 1])\n",
      "torch.Size([15, 1])\n",
      "[21,     6] loss: 21176.519\n",
      "torch.Size([20, 1])\n",
      "torch.Size([20, 1])\n",
      "torch.Size([20, 1])\n",
      "torch.Size([20, 1])\n",
      "torch.Size([20, 1])\n",
      "torch.Size([15, 1])\n",
      "[22,     6] loss: 21143.597\n",
      "torch.Size([20, 1])\n",
      "torch.Size([20, 1])\n",
      "torch.Size([20, 1])\n",
      "torch.Size([20, 1])\n",
      "torch.Size([20, 1])\n",
      "torch.Size([15, 1])\n",
      "[23,     6] loss: 21081.854\n",
      "torch.Size([20, 1])\n",
      "torch.Size([20, 1])\n",
      "torch.Size([20, 1])\n",
      "torch.Size([20, 1])\n",
      "torch.Size([20, 1])\n",
      "torch.Size([15, 1])\n",
      "[24,     6] loss: 21090.676\n",
      "torch.Size([20, 1])\n",
      "torch.Size([20, 1])\n",
      "torch.Size([20, 1])\n",
      "torch.Size([20, 1])\n",
      "torch.Size([20, 1])\n",
      "torch.Size([15, 1])\n",
      "[25,     6] loss: 21022.347\n",
      "torch.Size([20, 1])\n",
      "torch.Size([20, 1])\n",
      "torch.Size([20, 1])\n",
      "torch.Size([20, 1])\n",
      "torch.Size([20, 1])\n",
      "torch.Size([15, 1])\n",
      "[26,     6] loss: 20952.529\n",
      "torch.Size([20, 1])\n",
      "torch.Size([20, 1])\n",
      "torch.Size([20, 1])\n",
      "torch.Size([20, 1])\n",
      "torch.Size([20, 1])\n",
      "torch.Size([15, 1])\n",
      "[27,     6] loss: 20928.574\n",
      "torch.Size([20, 1])\n",
      "torch.Size([20, 1])\n",
      "torch.Size([20, 1])\n",
      "torch.Size([20, 1])\n",
      "torch.Size([20, 1])\n",
      "torch.Size([15, 1])\n",
      "[28,     6] loss: 20887.212\n",
      "torch.Size([20, 1])\n",
      "torch.Size([20, 1])\n",
      "torch.Size([20, 1])\n",
      "torch.Size([20, 1])\n",
      "torch.Size([20, 1])\n",
      "torch.Size([15, 1])\n",
      "[29,     6] loss: 20860.681\n",
      "torch.Size([20, 1])\n",
      "torch.Size([20, 1])\n",
      "torch.Size([20, 1])\n",
      "torch.Size([20, 1])\n",
      "torch.Size([20, 1])\n",
      "torch.Size([15, 1])\n",
      "[30,     6] loss: 20826.035\n",
      "torch.Size([20, 1])\n",
      "torch.Size([20, 1])\n",
      "torch.Size([20, 1])\n",
      "torch.Size([20, 1])\n",
      "torch.Size([20, 1])\n",
      "torch.Size([15, 1])\n",
      "[31,     6] loss: 20769.185\n",
      "torch.Size([20, 1])\n",
      "torch.Size([20, 1])\n",
      "torch.Size([20, 1])\n",
      "torch.Size([20, 1])\n",
      "torch.Size([20, 1])\n",
      "torch.Size([15, 1])\n",
      "[32,     6] loss: 20749.533\n",
      "torch.Size([20, 1])\n",
      "torch.Size([20, 1])\n",
      "torch.Size([20, 1])\n",
      "torch.Size([20, 1])\n",
      "torch.Size([20, 1])\n",
      "torch.Size([15, 1])\n",
      "[33,     6] loss: 20702.319\n",
      "torch.Size([20, 1])\n",
      "torch.Size([20, 1])\n",
      "torch.Size([20, 1])\n",
      "torch.Size([20, 1])\n",
      "torch.Size([20, 1])\n",
      "torch.Size([15, 1])\n",
      "[34,     6] loss: 20661.126\n",
      "torch.Size([20, 1])\n",
      "torch.Size([20, 1])\n",
      "torch.Size([20, 1])\n",
      "torch.Size([20, 1])\n",
      "torch.Size([20, 1])\n",
      "torch.Size([15, 1])\n",
      "[35,     6] loss: 20587.077\n",
      "torch.Size([20, 1])\n",
      "torch.Size([20, 1])\n",
      "torch.Size([20, 1])\n",
      "torch.Size([20, 1])\n",
      "torch.Size([20, 1])\n",
      "torch.Size([15, 1])\n",
      "[36,     6] loss: 20542.351\n",
      "torch.Size([20, 1])\n",
      "torch.Size([20, 1])\n",
      "torch.Size([20, 1])\n",
      "torch.Size([20, 1])\n",
      "torch.Size([20, 1])\n",
      "torch.Size([15, 1])\n",
      "[37,     6] loss: 20412.123\n",
      "torch.Size([20, 1])\n",
      "torch.Size([20, 1])\n",
      "torch.Size([20, 1])\n",
      "torch.Size([20, 1])\n",
      "torch.Size([20, 1])\n",
      "torch.Size([15, 1])\n",
      "[38,     6] loss: 20321.512\n",
      "torch.Size([20, 1])\n",
      "torch.Size([20, 1])\n",
      "torch.Size([20, 1])\n",
      "torch.Size([20, 1])\n",
      "torch.Size([20, 1])\n",
      "torch.Size([15, 1])\n",
      "[39,     6] loss: 20247.536\n",
      "torch.Size([20, 1])\n",
      "torch.Size([20, 1])\n",
      "torch.Size([20, 1])\n",
      "torch.Size([20, 1])\n",
      "torch.Size([20, 1])\n",
      "torch.Size([15, 1])\n",
      "[40,     6] loss: 20206.630\n",
      "torch.Size([20, 1])\n",
      "torch.Size([20, 1])\n",
      "torch.Size([20, 1])\n",
      "torch.Size([20, 1])\n",
      "torch.Size([20, 1])\n",
      "torch.Size([15, 1])\n",
      "[41,     6] loss: 20144.339\n",
      "torch.Size([20, 1])\n",
      "torch.Size([20, 1])\n",
      "torch.Size([20, 1])\n",
      "torch.Size([20, 1])\n",
      "torch.Size([20, 1])\n",
      "torch.Size([15, 1])\n",
      "[42,     6] loss: 20111.943\n",
      "torch.Size([20, 1])\n",
      "torch.Size([20, 1])\n",
      "torch.Size([20, 1])\n",
      "torch.Size([20, 1])\n",
      "torch.Size([20, 1])\n",
      "torch.Size([15, 1])\n",
      "[43,     6] loss: 20038.733\n",
      "torch.Size([20, 1])\n",
      "torch.Size([20, 1])\n",
      "torch.Size([20, 1])\n",
      "torch.Size([20, 1])\n",
      "torch.Size([20, 1])\n",
      "torch.Size([15, 1])\n",
      "[44,     6] loss: 20006.127\n",
      "torch.Size([20, 1])\n",
      "torch.Size([20, 1])\n",
      "torch.Size([20, 1])\n",
      "torch.Size([20, 1])\n",
      "torch.Size([20, 1])\n",
      "torch.Size([15, 1])\n",
      "[45,     6] loss: 19936.044\n",
      "torch.Size([20, 1])\n",
      "torch.Size([20, 1])\n",
      "torch.Size([20, 1])\n",
      "torch.Size([20, 1])\n",
      "torch.Size([20, 1])\n",
      "torch.Size([15, 1])\n",
      "[46,     6] loss: 19892.988\n",
      "torch.Size([20, 1])\n",
      "torch.Size([20, 1])\n",
      "torch.Size([20, 1])\n",
      "torch.Size([20, 1])\n",
      "torch.Size([20, 1])\n",
      "torch.Size([15, 1])\n",
      "[47,     6] loss: 19801.323\n",
      "torch.Size([20, 1])\n",
      "torch.Size([20, 1])\n",
      "torch.Size([20, 1])\n",
      "torch.Size([20, 1])\n",
      "torch.Size([20, 1])\n",
      "torch.Size([15, 1])\n",
      "[48,     6] loss: 19745.152\n",
      "torch.Size([20, 1])\n",
      "torch.Size([20, 1])\n",
      "torch.Size([20, 1])\n",
      "torch.Size([20, 1])\n",
      "torch.Size([20, 1])\n",
      "torch.Size([15, 1])\n",
      "[49,     6] loss: 19639.283\n",
      "torch.Size([20, 1])\n",
      "torch.Size([20, 1])\n",
      "torch.Size([20, 1])\n",
      "torch.Size([20, 1])\n",
      "torch.Size([20, 1])\n",
      "torch.Size([15, 1])\n",
      "[50,     6] loss: 19572.300\n",
      "torch.Size([20, 1])\n",
      "torch.Size([20, 1])\n",
      "torch.Size([20, 1])\n",
      "torch.Size([20, 1])\n",
      "torch.Size([20, 1])\n",
      "torch.Size([15, 1])\n",
      "[51,     6] loss: 19383.150\n",
      "torch.Size([20, 1])\n",
      "torch.Size([20, 1])\n",
      "torch.Size([20, 1])\n",
      "torch.Size([20, 1])\n",
      "torch.Size([20, 1])\n",
      "torch.Size([15, 1])\n",
      "[52,     6] loss: 19283.578\n",
      "torch.Size([20, 1])\n",
      "torch.Size([20, 1])\n",
      "torch.Size([20, 1])\n",
      "torch.Size([20, 1])\n",
      "torch.Size([20, 1])\n",
      "torch.Size([15, 1])\n",
      "[53,     6] loss: 19208.259\n",
      "torch.Size([20, 1])\n",
      "torch.Size([20, 1])\n",
      "torch.Size([20, 1])\n",
      "torch.Size([20, 1])\n",
      "torch.Size([20, 1])\n",
      "torch.Size([15, 1])\n",
      "[54,     6] loss: 19135.091\n",
      "torch.Size([20, 1])\n",
      "torch.Size([20, 1])\n",
      "torch.Size([20, 1])\n",
      "torch.Size([20, 1])\n",
      "torch.Size([20, 1])\n",
      "torch.Size([15, 1])\n",
      "[55,     6] loss: 19046.342\n",
      "torch.Size([20, 1])\n",
      "torch.Size([20, 1])\n",
      "torch.Size([20, 1])\n",
      "torch.Size([20, 1])\n",
      "torch.Size([20, 1])\n"
     ]
    },
    {
     "name": "stdout",
     "output_type": "stream",
     "text": [
      "torch.Size([15, 1])\n",
      "[56,     6] loss: 18982.483\n",
      "torch.Size([20, 1])\n",
      "torch.Size([20, 1])\n",
      "torch.Size([20, 1])\n",
      "torch.Size([20, 1])\n",
      "torch.Size([20, 1])\n",
      "torch.Size([15, 1])\n",
      "[57,     6] loss: 18890.783\n",
      "torch.Size([20, 1])\n",
      "torch.Size([20, 1])\n",
      "torch.Size([20, 1])\n",
      "torch.Size([20, 1])\n",
      "torch.Size([20, 1])\n",
      "torch.Size([15, 1])\n",
      "[58,     6] loss: 18835.570\n",
      "torch.Size([20, 1])\n",
      "torch.Size([20, 1])\n",
      "torch.Size([20, 1])\n",
      "torch.Size([20, 1])\n",
      "torch.Size([20, 1])\n",
      "torch.Size([15, 1])\n",
      "[59,     6] loss: 18783.665\n",
      "torch.Size([20, 1])\n",
      "torch.Size([20, 1])\n",
      "torch.Size([20, 1])\n",
      "torch.Size([20, 1])\n",
      "torch.Size([20, 1])\n",
      "torch.Size([15, 1])\n",
      "[60,     6] loss: 18661.135\n",
      "torch.Size([20, 1])\n",
      "torch.Size([20, 1])\n",
      "torch.Size([20, 1])\n",
      "torch.Size([20, 1])\n",
      "torch.Size([20, 1])\n",
      "torch.Size([15, 1])\n",
      "[61,     6] loss: 18590.503\n",
      "torch.Size([20, 1])\n",
      "torch.Size([20, 1])\n",
      "torch.Size([20, 1])\n",
      "torch.Size([20, 1])\n",
      "torch.Size([20, 1])\n",
      "torch.Size([15, 1])\n",
      "[62,     6] loss: 18556.635\n",
      "torch.Size([20, 1])\n",
      "torch.Size([20, 1])\n",
      "torch.Size([20, 1])\n",
      "torch.Size([20, 1])\n",
      "torch.Size([20, 1])\n",
      "torch.Size([15, 1])\n",
      "[63,     6] loss: 18429.942\n",
      "torch.Size([20, 1])\n",
      "torch.Size([20, 1])\n",
      "torch.Size([20, 1])\n",
      "torch.Size([20, 1])\n",
      "torch.Size([20, 1])\n",
      "torch.Size([15, 1])\n",
      "[64,     6] loss: 18335.821\n",
      "torch.Size([20, 1])\n",
      "torch.Size([20, 1])\n",
      "torch.Size([20, 1])\n",
      "torch.Size([20, 1])\n",
      "torch.Size([20, 1])\n",
      "torch.Size([15, 1])\n",
      "[65,     6] loss: 18270.878\n",
      "torch.Size([20, 1])\n",
      "torch.Size([20, 1])\n",
      "torch.Size([20, 1])\n",
      "torch.Size([20, 1])\n",
      "torch.Size([20, 1])\n",
      "torch.Size([15, 1])\n",
      "[66,     6] loss: 18170.165\n",
      "torch.Size([20, 1])\n",
      "torch.Size([20, 1])\n",
      "torch.Size([20, 1])\n",
      "torch.Size([20, 1])\n",
      "torch.Size([20, 1])\n",
      "torch.Size([15, 1])\n",
      "[67,     6] loss: 18053.891\n",
      "torch.Size([20, 1])\n",
      "torch.Size([20, 1])\n",
      "torch.Size([20, 1])\n",
      "torch.Size([20, 1])\n",
      "torch.Size([20, 1])\n",
      "torch.Size([15, 1])\n",
      "[68,     6] loss: 17932.972\n",
      "torch.Size([20, 1])\n",
      "torch.Size([20, 1])\n",
      "torch.Size([20, 1])\n",
      "torch.Size([20, 1])\n",
      "torch.Size([20, 1])\n",
      "torch.Size([15, 1])\n",
      "[69,     6] loss: 17779.672\n",
      "torch.Size([20, 1])\n",
      "torch.Size([20, 1])\n",
      "torch.Size([20, 1])\n",
      "torch.Size([20, 1])\n",
      "torch.Size([20, 1])\n",
      "torch.Size([15, 1])\n",
      "[70,     6] loss: 17667.649\n",
      "torch.Size([20, 1])\n",
      "torch.Size([20, 1])\n",
      "torch.Size([20, 1])\n",
      "torch.Size([20, 1])\n",
      "torch.Size([20, 1])\n",
      "torch.Size([15, 1])\n",
      "[71,     6] loss: 17570.240\n",
      "torch.Size([20, 1])\n",
      "torch.Size([20, 1])\n",
      "torch.Size([20, 1])\n",
      "torch.Size([20, 1])\n",
      "torch.Size([20, 1])\n",
      "torch.Size([15, 1])\n",
      "[72,     6] loss: 17448.064\n",
      "torch.Size([20, 1])\n",
      "torch.Size([20, 1])\n",
      "torch.Size([20, 1])\n",
      "torch.Size([20, 1])\n",
      "torch.Size([20, 1])\n",
      "torch.Size([15, 1])\n",
      "[73,     6] loss: 17355.580\n",
      "torch.Size([20, 1])\n",
      "torch.Size([20, 1])\n",
      "torch.Size([20, 1])\n",
      "torch.Size([20, 1])\n",
      "torch.Size([20, 1])\n",
      "torch.Size([15, 1])\n",
      "[74,     6] loss: 17261.314\n",
      "torch.Size([20, 1])\n",
      "torch.Size([20, 1])\n",
      "torch.Size([20, 1])\n",
      "torch.Size([20, 1])\n",
      "torch.Size([20, 1])\n",
      "torch.Size([15, 1])\n",
      "[75,     6] loss: 17167.522\n",
      "torch.Size([20, 1])\n",
      "torch.Size([20, 1])\n",
      "torch.Size([20, 1])\n",
      "torch.Size([20, 1])\n",
      "torch.Size([20, 1])\n",
      "torch.Size([15, 1])\n",
      "[76,     6] loss: 17073.755\n",
      "torch.Size([20, 1])\n",
      "torch.Size([20, 1])\n",
      "torch.Size([20, 1])\n",
      "torch.Size([20, 1])\n",
      "torch.Size([20, 1])\n",
      "torch.Size([15, 1])\n",
      "[77,     6] loss: 16975.558\n",
      "torch.Size([20, 1])\n",
      "torch.Size([20, 1])\n",
      "torch.Size([20, 1])\n",
      "torch.Size([20, 1])\n",
      "torch.Size([20, 1])\n",
      "torch.Size([15, 1])\n",
      "[78,     6] loss: 16855.359\n",
      "torch.Size([20, 1])\n",
      "torch.Size([20, 1])\n",
      "torch.Size([20, 1])\n",
      "torch.Size([20, 1])\n",
      "torch.Size([20, 1])\n",
      "torch.Size([15, 1])\n",
      "[79,     6] loss: 16751.906\n",
      "torch.Size([20, 1])\n",
      "torch.Size([20, 1])\n",
      "torch.Size([20, 1])\n",
      "torch.Size([20, 1])\n",
      "torch.Size([20, 1])\n",
      "torch.Size([15, 1])\n",
      "[80,     6] loss: 16654.755\n",
      "torch.Size([20, 1])\n",
      "torch.Size([20, 1])\n",
      "torch.Size([20, 1])\n",
      "torch.Size([20, 1])\n",
      "torch.Size([20, 1])\n",
      "torch.Size([15, 1])\n",
      "[81,     6] loss: 16555.978\n",
      "torch.Size([20, 1])\n",
      "torch.Size([20, 1])\n",
      "torch.Size([20, 1])\n",
      "torch.Size([20, 1])\n",
      "torch.Size([20, 1])\n",
      "torch.Size([15, 1])\n",
      "[82,     6] loss: 16452.860\n",
      "torch.Size([20, 1])\n",
      "torch.Size([20, 1])\n",
      "torch.Size([20, 1])\n",
      "torch.Size([20, 1])\n",
      "torch.Size([20, 1])\n",
      "torch.Size([15, 1])\n",
      "[83,     6] loss: 16362.743\n",
      "torch.Size([20, 1])\n",
      "torch.Size([20, 1])\n",
      "torch.Size([20, 1])\n",
      "torch.Size([20, 1])\n",
      "torch.Size([20, 1])\n",
      "torch.Size([15, 1])\n",
      "[84,     6] loss: 16262.247\n",
      "torch.Size([20, 1])\n",
      "torch.Size([20, 1])\n",
      "torch.Size([20, 1])\n",
      "torch.Size([20, 1])\n",
      "torch.Size([20, 1])\n",
      "torch.Size([15, 1])\n",
      "[85,     6] loss: 16164.736\n",
      "torch.Size([20, 1])\n",
      "torch.Size([20, 1])\n",
      "torch.Size([20, 1])\n",
      "torch.Size([20, 1])\n",
      "torch.Size([20, 1])\n",
      "torch.Size([15, 1])\n",
      "[86,     6] loss: 16067.031\n",
      "torch.Size([20, 1])\n",
      "torch.Size([20, 1])\n",
      "torch.Size([20, 1])\n",
      "torch.Size([20, 1])\n",
      "torch.Size([20, 1])\n",
      "torch.Size([15, 1])\n",
      "[87,     6] loss: 15978.911\n",
      "torch.Size([20, 1])\n",
      "torch.Size([20, 1])\n",
      "torch.Size([20, 1])\n",
      "torch.Size([20, 1])\n",
      "torch.Size([20, 1])\n",
      "torch.Size([15, 1])\n",
      "[88,     6] loss: 15877.616\n",
      "torch.Size([20, 1])\n",
      "torch.Size([20, 1])\n",
      "torch.Size([20, 1])\n",
      "torch.Size([20, 1])\n",
      "torch.Size([20, 1])\n",
      "torch.Size([15, 1])\n",
      "[89,     6] loss: 15764.514\n",
      "torch.Size([20, 1])\n",
      "torch.Size([20, 1])\n",
      "torch.Size([20, 1])\n",
      "torch.Size([20, 1])\n",
      "torch.Size([20, 1])\n",
      "torch.Size([15, 1])\n",
      "[90,     6] loss: 15689.539\n",
      "torch.Size([20, 1])\n",
      "torch.Size([20, 1])\n",
      "torch.Size([20, 1])\n",
      "torch.Size([20, 1])\n",
      "torch.Size([20, 1])\n",
      "torch.Size([15, 1])\n",
      "[91,     6] loss: 15585.073\n",
      "torch.Size([20, 1])\n",
      "torch.Size([20, 1])\n",
      "torch.Size([20, 1])\n",
      "torch.Size([20, 1])\n",
      "torch.Size([20, 1])\n",
      "torch.Size([15, 1])\n",
      "[92,     6] loss: 15471.714\n",
      "torch.Size([20, 1])\n",
      "torch.Size([20, 1])\n",
      "torch.Size([20, 1])\n",
      "torch.Size([20, 1])\n",
      "torch.Size([20, 1])\n",
      "torch.Size([15, 1])\n",
      "[93,     6] loss: 15361.618\n",
      "torch.Size([20, 1])\n",
      "torch.Size([20, 1])\n",
      "torch.Size([20, 1])\n",
      "torch.Size([20, 1])\n",
      "torch.Size([20, 1])\n",
      "torch.Size([15, 1])\n",
      "[94,     6] loss: 15265.619\n",
      "torch.Size([20, 1])\n",
      "torch.Size([20, 1])\n",
      "torch.Size([20, 1])\n",
      "torch.Size([20, 1])\n",
      "torch.Size([20, 1])\n",
      "torch.Size([15, 1])\n",
      "[95,     6] loss: 15153.336\n",
      "torch.Size([20, 1])\n",
      "torch.Size([20, 1])\n",
      "torch.Size([20, 1])\n",
      "torch.Size([20, 1])\n",
      "torch.Size([20, 1])\n",
      "torch.Size([15, 1])\n",
      "[96,     6] loss: 15034.645\n",
      "torch.Size([20, 1])\n",
      "torch.Size([20, 1])\n",
      "torch.Size([20, 1])\n",
      "torch.Size([20, 1])\n",
      "torch.Size([20, 1])\n",
      "torch.Size([15, 1])\n",
      "[97,     6] loss: 14917.511\n",
      "torch.Size([20, 1])\n",
      "torch.Size([20, 1])\n",
      "torch.Size([20, 1])\n",
      "torch.Size([20, 1])\n",
      "torch.Size([20, 1])\n",
      "torch.Size([15, 1])\n",
      "[98,     6] loss: 14807.020\n",
      "torch.Size([20, 1])\n",
      "torch.Size([20, 1])\n",
      "torch.Size([20, 1])\n",
      "torch.Size([20, 1])\n",
      "torch.Size([20, 1])\n",
      "torch.Size([15, 1])\n",
      "[99,     6] loss: 14859.276\n",
      "torch.Size([20, 1])\n",
      "torch.Size([20, 1])\n",
      "torch.Size([20, 1])\n",
      "torch.Size([20, 1])\n",
      "torch.Size([20, 1])\n",
      "torch.Size([15, 1])\n",
      "[100,     6] loss: 14723.258\n",
      "torch.Size([20, 1])\n",
      "torch.Size([20, 1])\n",
      "torch.Size([20, 1])\n",
      "torch.Size([20, 1])\n",
      "torch.Size([20, 1])\n",
      "torch.Size([15, 1])\n",
      "[101,     6] loss: 14587.457\n",
      "torch.Size([20, 1])\n",
      "torch.Size([20, 1])\n",
      "torch.Size([20, 1])\n",
      "torch.Size([20, 1])\n",
      "torch.Size([20, 1])\n",
      "torch.Size([15, 1])\n",
      "[102,     6] loss: 14422.771\n",
      "torch.Size([20, 1])\n",
      "torch.Size([20, 1])\n",
      "torch.Size([20, 1])\n",
      "torch.Size([20, 1])\n",
      "torch.Size([20, 1])\n",
      "torch.Size([15, 1])\n",
      "[103,     6] loss: 14264.376\n",
      "torch.Size([20, 1])\n",
      "torch.Size([20, 1])\n",
      "torch.Size([20, 1])\n",
      "torch.Size([20, 1])\n",
      "torch.Size([20, 1])\n",
      "torch.Size([15, 1])\n",
      "[104,     6] loss: 14126.796\n",
      "torch.Size([20, 1])\n",
      "torch.Size([20, 1])\n",
      "torch.Size([20, 1])\n",
      "torch.Size([20, 1])\n",
      "torch.Size([20, 1])\n",
      "torch.Size([15, 1])\n",
      "[105,     6] loss: 13979.662\n",
      "torch.Size([20, 1])\n",
      "torch.Size([20, 1])\n",
      "torch.Size([20, 1])\n",
      "torch.Size([20, 1])\n",
      "torch.Size([20, 1])\n",
      "torch.Size([15, 1])\n",
      "[106,     6] loss: 13846.209\n",
      "torch.Size([20, 1])\n",
      "torch.Size([20, 1])\n",
      "torch.Size([20, 1])\n",
      "torch.Size([20, 1])\n",
      "torch.Size([20, 1])\n",
      "torch.Size([15, 1])\n",
      "[107,     6] loss: 13697.093\n",
      "torch.Size([20, 1])\n",
      "torch.Size([20, 1])\n",
      "torch.Size([20, 1])\n",
      "torch.Size([20, 1])\n",
      "torch.Size([20, 1])\n",
      "torch.Size([15, 1])\n",
      "[108,     6] loss: 13546.591\n",
      "torch.Size([20, 1])\n",
      "torch.Size([20, 1])\n",
      "torch.Size([20, 1])\n",
      "torch.Size([20, 1])\n",
      "torch.Size([20, 1])\n",
      "torch.Size([15, 1])\n",
      "[109,     6] loss: 13406.182\n",
      "torch.Size([20, 1])\n",
      "torch.Size([20, 1])\n",
      "torch.Size([20, 1])\n",
      "torch.Size([20, 1])\n",
      "torch.Size([20, 1])\n",
      "torch.Size([15, 1])\n",
      "[110,     6] loss: 13269.902\n",
      "torch.Size([20, 1])\n",
      "torch.Size([20, 1])\n",
      "torch.Size([20, 1])\n",
      "torch.Size([20, 1])\n",
      "torch.Size([20, 1])\n",
      "torch.Size([15, 1])\n",
      "[111,     6] loss: 13103.218\n",
      "torch.Size([20, 1])\n",
      "torch.Size([20, 1])\n",
      "torch.Size([20, 1])\n",
      "torch.Size([20, 1])\n",
      "torch.Size([20, 1])\n",
      "torch.Size([15, 1])\n",
      "[112,     6] loss: 13062.438\n",
      "torch.Size([20, 1])\n",
      "torch.Size([20, 1])\n",
      "torch.Size([20, 1])\n",
      "torch.Size([20, 1])\n",
      "torch.Size([20, 1])\n",
      "torch.Size([15, 1])\n",
      "[113,     6] loss: 13085.497\n",
      "torch.Size([20, 1])\n",
      "torch.Size([20, 1])\n"
     ]
    },
    {
     "name": "stdout",
     "output_type": "stream",
     "text": [
      "torch.Size([20, 1])\n",
      "torch.Size([20, 1])\n",
      "torch.Size([20, 1])\n",
      "torch.Size([15, 1])\n",
      "[114,     6] loss: 12469.042\n",
      "torch.Size([20, 1])\n",
      "torch.Size([20, 1])\n",
      "torch.Size([20, 1])\n",
      "torch.Size([20, 1])\n",
      "torch.Size([20, 1])\n",
      "torch.Size([15, 1])\n",
      "[115,     6] loss: 12132.565\n",
      "torch.Size([20, 1])\n",
      "torch.Size([20, 1])\n",
      "torch.Size([20, 1])\n",
      "torch.Size([20, 1])\n",
      "torch.Size([20, 1])\n",
      "torch.Size([15, 1])\n",
      "[116,     6] loss: 11938.413\n",
      "torch.Size([20, 1])\n",
      "torch.Size([20, 1])\n",
      "torch.Size([20, 1])\n",
      "torch.Size([20, 1])\n",
      "torch.Size([20, 1])\n",
      "torch.Size([15, 1])\n",
      "[117,     6] loss: 11825.471\n",
      "torch.Size([20, 1])\n",
      "torch.Size([20, 1])\n",
      "torch.Size([20, 1])\n",
      "torch.Size([20, 1])\n",
      "torch.Size([20, 1])\n",
      "torch.Size([15, 1])\n",
      "[118,     6] loss: 11623.991\n",
      "torch.Size([20, 1])\n",
      "torch.Size([20, 1])\n",
      "torch.Size([20, 1])\n",
      "torch.Size([20, 1])\n",
      "torch.Size([20, 1])\n",
      "torch.Size([15, 1])\n",
      "[119,     6] loss: 11479.174\n",
      "torch.Size([20, 1])\n",
      "torch.Size([20, 1])\n",
      "torch.Size([20, 1])\n",
      "torch.Size([20, 1])\n",
      "torch.Size([20, 1])\n",
      "torch.Size([15, 1])\n",
      "[120,     6] loss: 11222.419\n",
      "torch.Size([20, 1])\n",
      "torch.Size([20, 1])\n",
      "torch.Size([20, 1])\n",
      "torch.Size([20, 1])\n",
      "torch.Size([20, 1])\n",
      "torch.Size([15, 1])\n",
      "[121,     6] loss: 11055.303\n",
      "torch.Size([20, 1])\n",
      "torch.Size([20, 1])\n",
      "torch.Size([20, 1])\n",
      "torch.Size([20, 1])\n",
      "torch.Size([20, 1])\n",
      "torch.Size([15, 1])\n",
      "[122,     6] loss: 10937.679\n",
      "torch.Size([20, 1])\n",
      "torch.Size([20, 1])\n",
      "torch.Size([20, 1])\n",
      "torch.Size([20, 1])\n",
      "torch.Size([20, 1])\n",
      "torch.Size([15, 1])\n",
      "[123,     6] loss: 10845.625\n",
      "torch.Size([20, 1])\n",
      "torch.Size([20, 1])\n",
      "torch.Size([20, 1])\n",
      "torch.Size([20, 1])\n",
      "torch.Size([20, 1])\n",
      "torch.Size([15, 1])\n",
      "[124,     6] loss: 10688.429\n",
      "torch.Size([20, 1])\n",
      "torch.Size([20, 1])\n",
      "torch.Size([20, 1])\n",
      "torch.Size([20, 1])\n",
      "torch.Size([20, 1])\n",
      "torch.Size([15, 1])\n",
      "[125,     6] loss: 10433.097\n",
      "torch.Size([20, 1])\n",
      "torch.Size([20, 1])\n",
      "torch.Size([20, 1])\n",
      "torch.Size([20, 1])\n",
      "torch.Size([20, 1])\n",
      "torch.Size([15, 1])\n",
      "[126,     6] loss: 10321.556\n",
      "torch.Size([20, 1])\n",
      "torch.Size([20, 1])\n",
      "torch.Size([20, 1])\n",
      "torch.Size([20, 1])\n",
      "torch.Size([20, 1])\n",
      "torch.Size([15, 1])\n",
      "[127,     6] loss: 10192.236\n",
      "torch.Size([20, 1])\n",
      "torch.Size([20, 1])\n",
      "torch.Size([20, 1])\n",
      "torch.Size([20, 1])\n",
      "torch.Size([20, 1])\n",
      "torch.Size([15, 1])\n",
      "[128,     6] loss: 10055.048\n",
      "torch.Size([20, 1])\n",
      "torch.Size([20, 1])\n",
      "torch.Size([20, 1])\n",
      "torch.Size([20, 1])\n",
      "torch.Size([20, 1])\n",
      "torch.Size([15, 1])\n",
      "[129,     6] loss: 9988.543\n",
      "torch.Size([20, 1])\n",
      "torch.Size([20, 1])\n",
      "torch.Size([20, 1])\n",
      "torch.Size([20, 1])\n",
      "torch.Size([20, 1])\n",
      "torch.Size([15, 1])\n",
      "[130,     6] loss: 9802.708\n",
      "torch.Size([20, 1])\n",
      "torch.Size([20, 1])\n",
      "torch.Size([20, 1])\n",
      "torch.Size([20, 1])\n",
      "torch.Size([20, 1])\n",
      "torch.Size([15, 1])\n",
      "[131,     6] loss: 9752.311\n",
      "torch.Size([20, 1])\n",
      "torch.Size([20, 1])\n",
      "torch.Size([20, 1])\n",
      "torch.Size([20, 1])\n",
      "torch.Size([20, 1])\n",
      "torch.Size([15, 1])\n",
      "[132,     6] loss: 9661.797\n",
      "torch.Size([20, 1])\n",
      "torch.Size([20, 1])\n",
      "torch.Size([20, 1])\n",
      "torch.Size([20, 1])\n",
      "torch.Size([20, 1])\n",
      "torch.Size([15, 1])\n",
      "[133,     6] loss: 9608.819\n",
      "torch.Size([20, 1])\n",
      "torch.Size([20, 1])\n",
      "torch.Size([20, 1])\n",
      "torch.Size([20, 1])\n",
      "torch.Size([20, 1])\n",
      "torch.Size([15, 1])\n",
      "[134,     6] loss: 9428.317\n",
      "torch.Size([20, 1])\n",
      "torch.Size([20, 1])\n",
      "torch.Size([20, 1])\n",
      "torch.Size([20, 1])\n",
      "torch.Size([20, 1])\n",
      "torch.Size([15, 1])\n",
      "[135,     6] loss: 9416.979\n",
      "torch.Size([20, 1])\n",
      "torch.Size([20, 1])\n",
      "torch.Size([20, 1])\n",
      "torch.Size([20, 1])\n",
      "torch.Size([20, 1])\n",
      "torch.Size([15, 1])\n",
      "[136,     6] loss: 9331.379\n",
      "torch.Size([20, 1])\n",
      "torch.Size([20, 1])\n",
      "torch.Size([20, 1])\n",
      "torch.Size([20, 1])\n",
      "torch.Size([20, 1])\n",
      "torch.Size([15, 1])\n",
      "[137,     6] loss: 9246.550\n",
      "torch.Size([20, 1])\n",
      "torch.Size([20, 1])\n",
      "torch.Size([20, 1])\n",
      "torch.Size([20, 1])\n",
      "torch.Size([20, 1])\n",
      "torch.Size([15, 1])\n",
      "[138,     6] loss: 9207.277\n",
      "torch.Size([20, 1])\n",
      "torch.Size([20, 1])\n",
      "torch.Size([20, 1])\n",
      "torch.Size([20, 1])\n",
      "torch.Size([20, 1])\n",
      "torch.Size([15, 1])\n",
      "[139,     6] loss: 9142.446\n",
      "torch.Size([20, 1])\n",
      "torch.Size([20, 1])\n",
      "torch.Size([20, 1])\n",
      "torch.Size([20, 1])\n",
      "torch.Size([20, 1])\n",
      "torch.Size([15, 1])\n",
      "[140,     6] loss: 9265.978\n",
      "torch.Size([20, 1])\n",
      "torch.Size([20, 1])\n",
      "torch.Size([20, 1])\n",
      "torch.Size([20, 1])\n",
      "torch.Size([20, 1])\n",
      "torch.Size([15, 1])\n",
      "[141,     6] loss: 9169.538\n",
      "torch.Size([20, 1])\n",
      "torch.Size([20, 1])\n",
      "torch.Size([20, 1])\n",
      "torch.Size([20, 1])\n",
      "torch.Size([20, 1])\n",
      "torch.Size([15, 1])\n",
      "[142,     6] loss: 9293.743\n",
      "torch.Size([20, 1])\n",
      "torch.Size([20, 1])\n",
      "torch.Size([20, 1])\n",
      "torch.Size([20, 1])\n",
      "torch.Size([20, 1])\n",
      "torch.Size([15, 1])\n",
      "[143,     6] loss: 9219.331\n",
      "torch.Size([20, 1])\n",
      "torch.Size([20, 1])\n",
      "torch.Size([20, 1])\n",
      "torch.Size([20, 1])\n",
      "torch.Size([20, 1])\n",
      "torch.Size([15, 1])\n",
      "[144,     6] loss: 9296.806\n",
      "torch.Size([20, 1])\n",
      "torch.Size([20, 1])\n",
      "torch.Size([20, 1])\n",
      "torch.Size([20, 1])\n",
      "torch.Size([20, 1])\n",
      "torch.Size([15, 1])\n",
      "[145,     6] loss: 9531.746\n",
      "torch.Size([20, 1])\n",
      "torch.Size([20, 1])\n",
      "torch.Size([20, 1])\n",
      "torch.Size([20, 1])\n",
      "torch.Size([20, 1])\n",
      "torch.Size([15, 1])\n",
      "[146,     6] loss: 9557.037\n",
      "torch.Size([20, 1])\n",
      "torch.Size([20, 1])\n",
      "torch.Size([20, 1])\n",
      "torch.Size([20, 1])\n",
      "torch.Size([20, 1])\n",
      "torch.Size([15, 1])\n",
      "[147,     6] loss: 9518.771\n",
      "torch.Size([20, 1])\n",
      "torch.Size([20, 1])\n",
      "torch.Size([20, 1])\n",
      "torch.Size([20, 1])\n",
      "torch.Size([20, 1])\n",
      "torch.Size([15, 1])\n",
      "[148,     6] loss: 9202.266\n",
      "torch.Size([20, 1])\n",
      "torch.Size([20, 1])\n",
      "torch.Size([20, 1])\n",
      "torch.Size([20, 1])\n",
      "torch.Size([20, 1])\n",
      "torch.Size([15, 1])\n",
      "[149,     6] loss: 9103.755\n",
      "torch.Size([20, 1])\n",
      "torch.Size([20, 1])\n",
      "torch.Size([20, 1])\n",
      "torch.Size([20, 1])\n",
      "torch.Size([20, 1])\n",
      "torch.Size([15, 1])\n",
      "[150,     6] loss: 9251.947\n",
      "torch.Size([20, 1])\n",
      "torch.Size([20, 1])\n",
      "torch.Size([20, 1])\n",
      "torch.Size([20, 1])\n",
      "torch.Size([20, 1])\n",
      "torch.Size([15, 1])\n",
      "[151,     6] loss: 9225.616\n",
      "torch.Size([20, 1])\n",
      "torch.Size([20, 1])\n",
      "torch.Size([20, 1])\n",
      "torch.Size([20, 1])\n",
      "torch.Size([20, 1])\n",
      "torch.Size([15, 1])\n",
      "[152,     6] loss: 8960.298\n",
      "torch.Size([20, 1])\n",
      "torch.Size([20, 1])\n",
      "torch.Size([20, 1])\n",
      "torch.Size([20, 1])\n",
      "torch.Size([20, 1])\n",
      "torch.Size([15, 1])\n",
      "[153,     6] loss: 9093.670\n",
      "torch.Size([20, 1])\n",
      "torch.Size([20, 1])\n",
      "torch.Size([20, 1])\n",
      "torch.Size([20, 1])\n",
      "torch.Size([20, 1])\n",
      "torch.Size([15, 1])\n",
      "[154,     6] loss: 9104.600\n",
      "torch.Size([20, 1])\n",
      "torch.Size([20, 1])\n",
      "torch.Size([20, 1])\n",
      "torch.Size([20, 1])\n",
      "torch.Size([20, 1])\n",
      "torch.Size([15, 1])\n",
      "[155,     6] loss: 8873.242\n",
      "torch.Size([20, 1])\n",
      "torch.Size([20, 1])\n",
      "torch.Size([20, 1])\n",
      "torch.Size([20, 1])\n",
      "torch.Size([20, 1])\n",
      "torch.Size([15, 1])\n",
      "[156,     6] loss: 8964.285\n",
      "torch.Size([20, 1])\n",
      "torch.Size([20, 1])\n",
      "torch.Size([20, 1])\n",
      "torch.Size([20, 1])\n",
      "torch.Size([20, 1])\n",
      "torch.Size([15, 1])\n",
      "[157,     6] loss: 9119.045\n",
      "torch.Size([20, 1])\n",
      "torch.Size([20, 1])\n",
      "torch.Size([20, 1])\n",
      "torch.Size([20, 1])\n",
      "torch.Size([20, 1])\n",
      "torch.Size([15, 1])\n",
      "[158,     6] loss: 8920.661\n",
      "torch.Size([20, 1])\n",
      "torch.Size([20, 1])\n",
      "torch.Size([20, 1])\n",
      "torch.Size([20, 1])\n",
      "torch.Size([20, 1])\n",
      "torch.Size([15, 1])\n",
      "[159,     6] loss: 8921.925\n",
      "torch.Size([20, 1])\n",
      "torch.Size([20, 1])\n",
      "torch.Size([20, 1])\n",
      "torch.Size([20, 1])\n",
      "torch.Size([20, 1])\n",
      "torch.Size([15, 1])\n",
      "[160,     6] loss: 9011.670\n",
      "torch.Size([20, 1])\n",
      "torch.Size([20, 1])\n",
      "torch.Size([20, 1])\n",
      "torch.Size([20, 1])\n",
      "torch.Size([20, 1])\n",
      "torch.Size([15, 1])\n",
      "[161,     6] loss: 8869.315\n",
      "torch.Size([20, 1])\n",
      "torch.Size([20, 1])\n",
      "torch.Size([20, 1])\n",
      "torch.Size([20, 1])\n",
      "torch.Size([20, 1])\n",
      "torch.Size([15, 1])\n",
      "[162,     6] loss: 8844.022\n",
      "torch.Size([20, 1])\n",
      "torch.Size([20, 1])\n",
      "torch.Size([20, 1])\n",
      "torch.Size([20, 1])\n",
      "torch.Size([20, 1])\n",
      "torch.Size([15, 1])\n",
      "[163,     6] loss: 8909.327\n",
      "torch.Size([20, 1])\n",
      "torch.Size([20, 1])\n",
      "torch.Size([20, 1])\n",
      "torch.Size([20, 1])\n",
      "torch.Size([20, 1])\n",
      "torch.Size([15, 1])\n",
      "[164,     6] loss: 8863.203\n",
      "torch.Size([20, 1])\n",
      "torch.Size([20, 1])\n",
      "torch.Size([20, 1])\n",
      "torch.Size([20, 1])\n",
      "torch.Size([20, 1])\n",
      "torch.Size([15, 1])\n",
      "[165,     6] loss: 8842.261\n",
      "torch.Size([20, 1])\n",
      "torch.Size([20, 1])\n",
      "torch.Size([20, 1])\n",
      "torch.Size([20, 1])\n",
      "torch.Size([20, 1])\n",
      "torch.Size([15, 1])\n",
      "[166,     6] loss: 8744.134\n",
      "torch.Size([20, 1])\n",
      "torch.Size([20, 1])\n",
      "torch.Size([20, 1])\n",
      "torch.Size([20, 1])\n",
      "torch.Size([20, 1])\n",
      "torch.Size([15, 1])\n",
      "[167,     6] loss: 8753.752\n",
      "torch.Size([20, 1])\n",
      "torch.Size([20, 1])\n",
      "torch.Size([20, 1])\n",
      "torch.Size([20, 1])\n",
      "torch.Size([20, 1])\n",
      "torch.Size([15, 1])\n",
      "[168,     6] loss: 8768.635\n",
      "torch.Size([20, 1])\n",
      "torch.Size([20, 1])\n",
      "torch.Size([20, 1])\n",
      "torch.Size([20, 1])\n",
      "torch.Size([20, 1])\n",
      "torch.Size([15, 1])\n",
      "[169,     6] loss: 8709.866\n",
      "torch.Size([20, 1])\n",
      "torch.Size([20, 1])\n",
      "torch.Size([20, 1])\n",
      "torch.Size([20, 1])\n",
      "torch.Size([20, 1])\n",
      "torch.Size([15, 1])\n",
      "[170,     6] loss: 8703.306\n",
      "torch.Size([20, 1])\n",
      "torch.Size([20, 1])\n"
     ]
    },
    {
     "name": "stdout",
     "output_type": "stream",
     "text": [
      "torch.Size([20, 1])\n",
      "torch.Size([20, 1])\n",
      "torch.Size([20, 1])\n",
      "torch.Size([15, 1])\n",
      "[171,     6] loss: 8629.269\n",
      "torch.Size([20, 1])\n",
      "torch.Size([20, 1])\n",
      "torch.Size([20, 1])\n",
      "torch.Size([20, 1])\n",
      "torch.Size([20, 1])\n",
      "torch.Size([15, 1])\n",
      "[172,     6] loss: 8600.475\n",
      "torch.Size([20, 1])\n",
      "torch.Size([20, 1])\n",
      "torch.Size([20, 1])\n",
      "torch.Size([20, 1])\n",
      "torch.Size([20, 1])\n",
      "torch.Size([15, 1])\n",
      "[173,     6] loss: 8541.345\n",
      "torch.Size([20, 1])\n",
      "torch.Size([20, 1])\n",
      "torch.Size([20, 1])\n",
      "torch.Size([20, 1])\n",
      "torch.Size([20, 1])\n",
      "torch.Size([15, 1])\n",
      "[174,     6] loss: 8485.411\n",
      "torch.Size([20, 1])\n",
      "torch.Size([20, 1])\n",
      "torch.Size([20, 1])\n",
      "torch.Size([20, 1])\n",
      "torch.Size([20, 1])\n",
      "torch.Size([15, 1])\n",
      "[175,     6] loss: 8467.887\n",
      "torch.Size([20, 1])\n",
      "torch.Size([20, 1])\n",
      "torch.Size([20, 1])\n",
      "torch.Size([20, 1])\n",
      "torch.Size([20, 1])\n",
      "torch.Size([15, 1])\n",
      "[176,     6] loss: 8413.868\n",
      "torch.Size([20, 1])\n",
      "torch.Size([20, 1])\n",
      "torch.Size([20, 1])\n",
      "torch.Size([20, 1])\n",
      "torch.Size([20, 1])\n",
      "torch.Size([15, 1])\n",
      "[177,     6] loss: 8399.592\n",
      "torch.Size([20, 1])\n",
      "torch.Size([20, 1])\n",
      "torch.Size([20, 1])\n",
      "torch.Size([20, 1])\n",
      "torch.Size([20, 1])\n",
      "torch.Size([15, 1])\n",
      "[178,     6] loss: 8382.261\n",
      "torch.Size([20, 1])\n",
      "torch.Size([20, 1])\n",
      "torch.Size([20, 1])\n",
      "torch.Size([20, 1])\n",
      "torch.Size([20, 1])\n",
      "torch.Size([15, 1])\n",
      "[179,     6] loss: 8419.794\n",
      "torch.Size([20, 1])\n",
      "torch.Size([20, 1])\n",
      "torch.Size([20, 1])\n",
      "torch.Size([20, 1])\n",
      "torch.Size([20, 1])\n",
      "torch.Size([15, 1])\n",
      "[180,     6] loss: 8366.904\n",
      "torch.Size([20, 1])\n",
      "torch.Size([20, 1])\n",
      "torch.Size([20, 1])\n",
      "torch.Size([20, 1])\n",
      "torch.Size([20, 1])\n",
      "torch.Size([15, 1])\n",
      "[181,     6] loss: 8377.843\n",
      "torch.Size([20, 1])\n",
      "torch.Size([20, 1])\n",
      "torch.Size([20, 1])\n",
      "torch.Size([20, 1])\n",
      "torch.Size([20, 1])\n",
      "torch.Size([15, 1])\n",
      "[182,     6] loss: 8356.936\n",
      "torch.Size([20, 1])\n",
      "torch.Size([20, 1])\n",
      "torch.Size([20, 1])\n",
      "torch.Size([20, 1])\n",
      "torch.Size([20, 1])\n",
      "torch.Size([15, 1])\n",
      "[183,     6] loss: 8334.040\n",
      "torch.Size([20, 1])\n",
      "torch.Size([20, 1])\n",
      "torch.Size([20, 1])\n",
      "torch.Size([20, 1])\n",
      "torch.Size([20, 1])\n",
      "torch.Size([15, 1])\n",
      "[184,     6] loss: 8365.324\n",
      "torch.Size([20, 1])\n",
      "torch.Size([20, 1])\n",
      "torch.Size([20, 1])\n",
      "torch.Size([20, 1])\n",
      "torch.Size([20, 1])\n",
      "torch.Size([15, 1])\n",
      "[185,     6] loss: 8314.754\n",
      "torch.Size([20, 1])\n",
      "torch.Size([20, 1])\n",
      "torch.Size([20, 1])\n",
      "torch.Size([20, 1])\n",
      "torch.Size([20, 1])\n",
      "torch.Size([15, 1])\n",
      "[186,     6] loss: 8329.502\n",
      "torch.Size([20, 1])\n",
      "torch.Size([20, 1])\n",
      "torch.Size([20, 1])\n",
      "torch.Size([20, 1])\n",
      "torch.Size([20, 1])\n",
      "torch.Size([15, 1])\n",
      "[187,     6] loss: 8314.693\n",
      "torch.Size([20, 1])\n",
      "torch.Size([20, 1])\n",
      "torch.Size([20, 1])\n",
      "torch.Size([20, 1])\n",
      "torch.Size([20, 1])\n",
      "torch.Size([15, 1])\n",
      "[188,     6] loss: 8348.967\n",
      "torch.Size([20, 1])\n",
      "torch.Size([20, 1])\n",
      "torch.Size([20, 1])\n",
      "torch.Size([20, 1])\n",
      "torch.Size([20, 1])\n",
      "torch.Size([15, 1])\n",
      "[189,     6] loss: 8280.872\n",
      "torch.Size([20, 1])\n",
      "torch.Size([20, 1])\n",
      "torch.Size([20, 1])\n",
      "torch.Size([20, 1])\n",
      "torch.Size([20, 1])\n",
      "torch.Size([15, 1])\n",
      "[190,     6] loss: 8284.775\n",
      "torch.Size([20, 1])\n",
      "torch.Size([20, 1])\n",
      "torch.Size([20, 1])\n",
      "torch.Size([20, 1])\n",
      "torch.Size([20, 1])\n",
      "torch.Size([15, 1])\n",
      "[191,     6] loss: 8288.144\n",
      "torch.Size([20, 1])\n",
      "torch.Size([20, 1])\n",
      "torch.Size([20, 1])\n",
      "torch.Size([20, 1])\n",
      "torch.Size([20, 1])\n",
      "torch.Size([15, 1])\n",
      "[192,     6] loss: 8273.961\n",
      "torch.Size([20, 1])\n",
      "torch.Size([20, 1])\n",
      "torch.Size([20, 1])\n",
      "torch.Size([20, 1])\n",
      "torch.Size([20, 1])\n",
      "torch.Size([15, 1])\n",
      "[193,     6] loss: 8278.972\n",
      "torch.Size([20, 1])\n",
      "torch.Size([20, 1])\n",
      "torch.Size([20, 1])\n",
      "torch.Size([20, 1])\n",
      "torch.Size([20, 1])\n",
      "torch.Size([15, 1])\n",
      "[194,     6] loss: 8299.794\n",
      "torch.Size([20, 1])\n",
      "torch.Size([20, 1])\n",
      "torch.Size([20, 1])\n",
      "torch.Size([20, 1])\n",
      "torch.Size([20, 1])\n",
      "torch.Size([15, 1])\n",
      "[195,     6] loss: 8250.875\n",
      "torch.Size([20, 1])\n",
      "torch.Size([20, 1])\n",
      "torch.Size([20, 1])\n",
      "torch.Size([20, 1])\n",
      "torch.Size([20, 1])\n",
      "torch.Size([15, 1])\n",
      "[196,     6] loss: 8275.601\n",
      "torch.Size([20, 1])\n",
      "torch.Size([20, 1])\n",
      "torch.Size([20, 1])\n",
      "torch.Size([20, 1])\n",
      "torch.Size([20, 1])\n",
      "torch.Size([15, 1])\n",
      "[197,     6] loss: 8232.195\n",
      "torch.Size([20, 1])\n",
      "torch.Size([20, 1])\n",
      "torch.Size([20, 1])\n",
      "torch.Size([20, 1])\n",
      "torch.Size([20, 1])\n",
      "torch.Size([15, 1])\n",
      "[198,     6] loss: 8260.226\n",
      "torch.Size([20, 1])\n",
      "torch.Size([20, 1])\n",
      "torch.Size([20, 1])\n",
      "torch.Size([20, 1])\n",
      "torch.Size([20, 1])\n",
      "torch.Size([15, 1])\n",
      "[199,     6] loss: 8227.662\n",
      "torch.Size([20, 1])\n",
      "torch.Size([20, 1])\n",
      "torch.Size([20, 1])\n",
      "torch.Size([20, 1])\n",
      "torch.Size([20, 1])\n",
      "torch.Size([15, 1])\n",
      "[200,     6] loss: 8247.189\n",
      "torch.Size([20, 1])\n",
      "torch.Size([20, 1])\n",
      "torch.Size([20, 1])\n",
      "torch.Size([20, 1])\n",
      "torch.Size([20, 1])\n",
      "torch.Size([15, 1])\n",
      "[201,     6] loss: 8210.008\n",
      "torch.Size([20, 1])\n",
      "torch.Size([20, 1])\n",
      "torch.Size([20, 1])\n",
      "torch.Size([20, 1])\n",
      "torch.Size([20, 1])\n",
      "torch.Size([15, 1])\n",
      "[202,     6] loss: 8231.738\n",
      "torch.Size([20, 1])\n",
      "torch.Size([20, 1])\n",
      "torch.Size([20, 1])\n",
      "torch.Size([20, 1])\n",
      "torch.Size([20, 1])\n",
      "torch.Size([15, 1])\n",
      "[203,     6] loss: 8203.545\n",
      "torch.Size([20, 1])\n",
      "torch.Size([20, 1])\n",
      "torch.Size([20, 1])\n",
      "torch.Size([20, 1])\n",
      "torch.Size([20, 1])\n",
      "torch.Size([15, 1])\n",
      "[204,     6] loss: 8235.209\n",
      "torch.Size([20, 1])\n",
      "torch.Size([20, 1])\n",
      "torch.Size([20, 1])\n",
      "torch.Size([20, 1])\n",
      "torch.Size([20, 1])\n",
      "torch.Size([15, 1])\n",
      "[205,     6] loss: 8194.151\n",
      "torch.Size([20, 1])\n",
      "torch.Size([20, 1])\n",
      "torch.Size([20, 1])\n",
      "torch.Size([20, 1])\n",
      "torch.Size([20, 1])\n",
      "torch.Size([15, 1])\n",
      "[206,     6] loss: 8211.297\n",
      "torch.Size([20, 1])\n",
      "torch.Size([20, 1])\n",
      "torch.Size([20, 1])\n",
      "torch.Size([20, 1])\n",
      "torch.Size([20, 1])\n",
      "torch.Size([15, 1])\n",
      "[207,     6] loss: 8178.520\n",
      "torch.Size([20, 1])\n",
      "torch.Size([20, 1])\n",
      "torch.Size([20, 1])\n",
      "torch.Size([20, 1])\n",
      "torch.Size([20, 1])\n",
      "torch.Size([15, 1])\n",
      "[208,     6] loss: 8207.152\n",
      "torch.Size([20, 1])\n",
      "torch.Size([20, 1])\n",
      "torch.Size([20, 1])\n",
      "torch.Size([20, 1])\n",
      "torch.Size([20, 1])\n",
      "torch.Size([15, 1])\n",
      "[209,     6] loss: 8168.652\n",
      "torch.Size([20, 1])\n",
      "torch.Size([20, 1])\n",
      "torch.Size([20, 1])\n",
      "torch.Size([20, 1])\n",
      "torch.Size([20, 1])\n",
      "torch.Size([15, 1])\n",
      "[210,     6] loss: 8197.275\n",
      "torch.Size([20, 1])\n",
      "torch.Size([20, 1])\n",
      "torch.Size([20, 1])\n",
      "torch.Size([20, 1])\n",
      "torch.Size([20, 1])\n",
      "torch.Size([15, 1])\n",
      "[211,     6] loss: 8179.089\n",
      "torch.Size([20, 1])\n",
      "torch.Size([20, 1])\n",
      "torch.Size([20, 1])\n",
      "torch.Size([20, 1])\n",
      "torch.Size([20, 1])\n",
      "torch.Size([15, 1])\n",
      "[212,     6] loss: 8189.167\n",
      "torch.Size([20, 1])\n",
      "torch.Size([20, 1])\n",
      "torch.Size([20, 1])\n",
      "torch.Size([20, 1])\n",
      "torch.Size([20, 1])\n",
      "torch.Size([15, 1])\n",
      "[213,     6] loss: 8167.009\n",
      "torch.Size([20, 1])\n",
      "torch.Size([20, 1])\n",
      "torch.Size([20, 1])\n",
      "torch.Size([20, 1])\n",
      "torch.Size([20, 1])\n",
      "torch.Size([15, 1])\n",
      "[214,     6] loss: 8179.223\n",
      "torch.Size([20, 1])\n",
      "torch.Size([20, 1])\n",
      "torch.Size([20, 1])\n",
      "torch.Size([20, 1])\n",
      "torch.Size([20, 1])\n",
      "torch.Size([15, 1])\n",
      "[215,     6] loss: 8156.835\n",
      "torch.Size([20, 1])\n",
      "torch.Size([20, 1])\n",
      "torch.Size([20, 1])\n",
      "torch.Size([20, 1])\n",
      "torch.Size([20, 1])\n",
      "torch.Size([15, 1])\n",
      "[216,     6] loss: 8170.255\n",
      "torch.Size([20, 1])\n",
      "torch.Size([20, 1])\n",
      "torch.Size([20, 1])\n",
      "torch.Size([20, 1])\n",
      "torch.Size([20, 1])\n",
      "torch.Size([15, 1])\n",
      "[217,     6] loss: 8144.079\n",
      "torch.Size([20, 1])\n",
      "torch.Size([20, 1])\n",
      "torch.Size([20, 1])\n",
      "torch.Size([20, 1])\n",
      "torch.Size([20, 1])\n",
      "torch.Size([15, 1])\n",
      "[218,     6] loss: 8157.967\n",
      "torch.Size([20, 1])\n",
      "torch.Size([20, 1])\n",
      "torch.Size([20, 1])\n",
      "torch.Size([20, 1])\n",
      "torch.Size([20, 1])\n",
      "torch.Size([15, 1])\n",
      "[219,     6] loss: 8138.209\n",
      "torch.Size([20, 1])\n",
      "torch.Size([20, 1])\n",
      "torch.Size([20, 1])\n",
      "torch.Size([20, 1])\n",
      "torch.Size([20, 1])\n",
      "torch.Size([15, 1])\n",
      "[220,     6] loss: 8155.604\n",
      "torch.Size([20, 1])\n",
      "torch.Size([20, 1])\n",
      "torch.Size([20, 1])\n",
      "torch.Size([20, 1])\n",
      "torch.Size([20, 1])\n",
      "torch.Size([15, 1])\n",
      "[221,     6] loss: 8129.769\n",
      "torch.Size([20, 1])\n",
      "torch.Size([20, 1])\n",
      "torch.Size([20, 1])\n",
      "torch.Size([20, 1])\n",
      "torch.Size([20, 1])\n",
      "torch.Size([15, 1])\n",
      "[222,     6] loss: 8144.035\n",
      "torch.Size([20, 1])\n",
      "torch.Size([20, 1])\n",
      "torch.Size([20, 1])\n",
      "torch.Size([20, 1])\n",
      "torch.Size([20, 1])\n",
      "torch.Size([15, 1])\n",
      "[223,     6] loss: 8130.695\n",
      "torch.Size([20, 1])\n",
      "torch.Size([20, 1])\n",
      "torch.Size([20, 1])\n",
      "torch.Size([20, 1])\n",
      "torch.Size([20, 1])\n",
      "torch.Size([15, 1])\n",
      "[224,     6] loss: 8131.223\n",
      "torch.Size([20, 1])\n",
      "torch.Size([20, 1])\n",
      "torch.Size([20, 1])\n",
      "torch.Size([20, 1])\n",
      "torch.Size([20, 1])\n",
      "torch.Size([15, 1])\n",
      "[225,     6] loss: 8127.862\n",
      "torch.Size([20, 1])\n",
      "torch.Size([20, 1])\n",
      "torch.Size([20, 1])\n",
      "torch.Size([20, 1])\n",
      "torch.Size([20, 1])\n",
      "torch.Size([15, 1])\n",
      "[226,     6] loss: 8118.574\n",
      "torch.Size([20, 1])\n",
      "torch.Size([20, 1])\n",
      "torch.Size([20, 1])\n",
      "torch.Size([20, 1])\n",
      "torch.Size([20, 1])\n",
      "torch.Size([15, 1])\n",
      "[227,     6] loss: 8127.451\n",
      "torch.Size([20, 1])\n",
      "torch.Size([20, 1])\n",
      "torch.Size([20, 1])\n",
      "torch.Size([20, 1])\n",
      "torch.Size([20, 1])\n",
      "torch.Size([15, 1])\n",
      "[228,     6] loss: 8105.412\n",
      "torch.Size([20, 1])\n",
      "torch.Size([20, 1])\n",
      "torch.Size([20, 1])\n",
      "torch.Size([20, 1])\n",
      "torch.Size([20, 1])\n",
      "torch.Size([15, 1])\n",
      "[229,     6] loss: 8115.913\n",
      "torch.Size([20, 1])\n",
      "torch.Size([20, 1])\n",
      "torch.Size([20, 1])\n",
      "torch.Size([20, 1])\n",
      "torch.Size([20, 1])\n",
      "torch.Size([15, 1])\n"
     ]
    },
    {
     "name": "stdout",
     "output_type": "stream",
     "text": [
      "[230,     6] loss: 8101.535\n",
      "torch.Size([20, 1])\n",
      "torch.Size([20, 1])\n",
      "torch.Size([20, 1])\n",
      "torch.Size([20, 1])\n",
      "torch.Size([20, 1])\n",
      "torch.Size([15, 1])\n",
      "[231,     6] loss: 8095.449\n",
      "torch.Size([20, 1])\n",
      "torch.Size([20, 1])\n",
      "torch.Size([20, 1])\n",
      "torch.Size([20, 1])\n",
      "torch.Size([20, 1])\n",
      "torch.Size([15, 1])\n",
      "[232,     6] loss: 8105.687\n",
      "torch.Size([20, 1])\n",
      "torch.Size([20, 1])\n",
      "torch.Size([20, 1])\n",
      "torch.Size([20, 1])\n",
      "torch.Size([20, 1])\n",
      "torch.Size([15, 1])\n",
      "[233,     6] loss: 8084.675\n",
      "torch.Size([20, 1])\n",
      "torch.Size([20, 1])\n",
      "torch.Size([20, 1])\n",
      "torch.Size([20, 1])\n",
      "torch.Size([20, 1])\n",
      "torch.Size([15, 1])\n",
      "[234,     6] loss: 8095.904\n",
      "torch.Size([20, 1])\n",
      "torch.Size([20, 1])\n",
      "torch.Size([20, 1])\n",
      "torch.Size([20, 1])\n",
      "torch.Size([20, 1])\n",
      "torch.Size([15, 1])\n",
      "[235,     6] loss: 8072.896\n",
      "torch.Size([20, 1])\n",
      "torch.Size([20, 1])\n",
      "torch.Size([20, 1])\n",
      "torch.Size([20, 1])\n",
      "torch.Size([20, 1])\n",
      "torch.Size([15, 1])\n",
      "[236,     6] loss: 8058.126\n",
      "torch.Size([20, 1])\n",
      "torch.Size([20, 1])\n",
      "torch.Size([20, 1])\n",
      "torch.Size([20, 1])\n",
      "torch.Size([20, 1])\n",
      "torch.Size([15, 1])\n",
      "[237,     6] loss: 8057.727\n",
      "torch.Size([20, 1])\n",
      "torch.Size([20, 1])\n",
      "torch.Size([20, 1])\n",
      "torch.Size([20, 1])\n",
      "torch.Size([20, 1])\n",
      "torch.Size([15, 1])\n",
      "[238,     6] loss: 8048.346\n",
      "torch.Size([20, 1])\n",
      "torch.Size([20, 1])\n",
      "torch.Size([20, 1])\n",
      "torch.Size([20, 1])\n",
      "torch.Size([20, 1])\n",
      "torch.Size([15, 1])\n",
      "[239,     6] loss: 8048.807\n",
      "torch.Size([20, 1])\n",
      "torch.Size([20, 1])\n",
      "torch.Size([20, 1])\n",
      "torch.Size([20, 1])\n",
      "torch.Size([20, 1])\n",
      "torch.Size([15, 1])\n",
      "[240,     6] loss: 8040.848\n",
      "torch.Size([20, 1])\n",
      "torch.Size([20, 1])\n",
      "torch.Size([20, 1])\n",
      "torch.Size([20, 1])\n",
      "torch.Size([20, 1])\n",
      "torch.Size([15, 1])\n",
      "[241,     6] loss: 8042.687\n",
      "torch.Size([20, 1])\n",
      "torch.Size([20, 1])\n",
      "torch.Size([20, 1])\n",
      "torch.Size([20, 1])\n",
      "torch.Size([20, 1])\n",
      "torch.Size([15, 1])\n",
      "[242,     6] loss: 8035.209\n",
      "torch.Size([20, 1])\n",
      "torch.Size([20, 1])\n",
      "torch.Size([20, 1])\n",
      "torch.Size([20, 1])\n",
      "torch.Size([20, 1])\n",
      "torch.Size([15, 1])\n",
      "[243,     6] loss: 8036.870\n",
      "torch.Size([20, 1])\n",
      "torch.Size([20, 1])\n",
      "torch.Size([20, 1])\n",
      "torch.Size([20, 1])\n",
      "torch.Size([20, 1])\n",
      "torch.Size([15, 1])\n",
      "[244,     6] loss: 8030.814\n",
      "torch.Size([20, 1])\n",
      "torch.Size([20, 1])\n",
      "torch.Size([20, 1])\n",
      "torch.Size([20, 1])\n",
      "torch.Size([20, 1])\n",
      "torch.Size([15, 1])\n",
      "[245,     6] loss: 8025.594\n",
      "torch.Size([20, 1])\n",
      "torch.Size([20, 1])\n",
      "torch.Size([20, 1])\n",
      "torch.Size([20, 1])\n",
      "torch.Size([20, 1])\n",
      "torch.Size([15, 1])\n",
      "[246,     6] loss: 8020.103\n",
      "torch.Size([20, 1])\n",
      "torch.Size([20, 1])\n",
      "torch.Size([20, 1])\n",
      "torch.Size([20, 1])\n",
      "torch.Size([20, 1])\n",
      "torch.Size([15, 1])\n",
      "[247,     6] loss: 8017.149\n",
      "torch.Size([20, 1])\n",
      "torch.Size([20, 1])\n",
      "torch.Size([20, 1])\n",
      "torch.Size([20, 1])\n",
      "torch.Size([20, 1])\n",
      "torch.Size([15, 1])\n",
      "[248,     6] loss: 8014.995\n",
      "torch.Size([20, 1])\n",
      "torch.Size([20, 1])\n",
      "torch.Size([20, 1])\n",
      "torch.Size([20, 1])\n",
      "torch.Size([20, 1])\n",
      "torch.Size([15, 1])\n",
      "[249,     6] loss: 8012.517\n",
      "torch.Size([20, 1])\n",
      "torch.Size([20, 1])\n",
      "torch.Size([20, 1])\n",
      "torch.Size([20, 1])\n",
      "torch.Size([20, 1])\n",
      "torch.Size([15, 1])\n",
      "[250,     6] loss: 8010.570\n",
      "Finished Training\n"
     ]
    }
   ],
   "source": [
    "import torch.utils.data as utils\n",
    "\n",
    "batch_size = 20\n",
    "\n",
    "tensor_x = torch.from_numpy(x_trn).float()\n",
    "tensor_y = torch.from_numpy(y_trn).float()\n",
    "dataset_tr = utils.TensorDataset(tensor_x, tensor_y)  # crear un conjunto de datos\n",
    "trainloader = utils.DataLoader(dataset_tr, batch_size=batch_size) # crear el cargador de datos\n",
    "\n",
    "# definir el modelo, optimizador y criterio de errors\n",
    "modelo = modelo_NN()\n",
    "optimizer = torch.optim.Adagrad(modelo.parameters(), lr=0.01)\n",
    "criterion = nn.MSELoss()\n",
    "\n",
    "for epoch in range(250):  # bucle sobre todos los datos cada vez\n",
    "\n",
    "    running_loss = 0.0\n",
    "    for i, data in enumerate(trainloader):  # bucle sobre todos los batches\n",
    "        \n",
    "        # entradas\n",
    "        xs, ys = data        \n",
    "        xs = xs.view(-1, 1)\n",
    "        ys = ys.view(-1, 1)\n",
    "                \n",
    "        # borrar los gradientes\n",
    "        modelo.zero_grad()\n",
    "\n",
    "        # forward + backward + optimize\n",
    "        outputs = modelo(xs)        \n",
    "        loss = criterion(outputs, ys)\n",
    "        loss.backward()        \n",
    "        optimizer.step()\n",
    "        \n",
    "        running_loss += loss.item()\n",
    "    print('[%d, %5d] loss: %.3f' %(epoch + 1, i + 1, running_loss))\n",
    "\n",
    "print('Finished Training')"
   ]
  },
  {
   "cell_type": "code",
   "execution_count": 337,
   "metadata": {},
   "outputs": [
    {
     "data": {
      "text/plain": [
       "Text(0.5, 1.0, 'Airline dataset')"
      ]
     },
     "execution_count": 337,
     "metadata": {},
     "output_type": "execute_result"
    },
    {
     "data": {
      "image/png": "[encoded data removed]",
      "text/plain": [
       "<Figure size 1152x432 with 1 Axes>"
      ]
     },
     "metadata": {
      "needs_background": "light"
     },
     "output_type": "display_data"
    }
   ],
   "source": [
    "# predicción\n",
    "x_prd = torch.tensor(x, dtype=torch.float).view(-1, 1)\n",
    "y_prd = modelo(x_prd).detach().numpy()\n",
    "\n",
    "plt.figure(figsize=(16, 6))\n",
    "plt.plot(x_prd, y_prd)\n",
    "plt.plot(x_tst, y_tst, 'or')\n",
    "plt.plot(x_trn, y_trn, 'og')\n",
    "plt.title('Airline dataset')"
   ]
  },
  {
   "cell_type": "markdown",
   "metadata": {},
   "source": [
    "## Redes Neuronales\n",
    "\n",
    "Para definir una red en PyTorch en general se siguen los siguentes pasos.\n",
    "\n",
    "* Definir la red que tenga parámetros entrenables (pesos)\n",
    "* Iterar sobre el dataset de inputs\n",
    "* Procesas el input a través de la red\n",
    "* Calcular la función de perdida (loss)\n",
    "* Propagar los gradientes hacia los parametros de la red\n",
    "* Actualizar los pesos de la red siguiendo una regla, en general se usa gradiente decendiente.\n",
    "\n",
    "### Crear una red"
   ]
  },
  {
   "cell_type": "code",
   "execution_count": 25,
   "metadata": {
    "scrolled": true
   },
   "outputs": [
    {
     "name": "stdout",
     "output_type": "stream",
     "text": [
      "Net(\n",
      "  (conv1): Conv2d(3, 6, kernel_size=(5, 5), stride=(1, 1))\n",
      "  (pool): MaxPool2d(kernel_size=2, stride=2, padding=0, dilation=1, ceil_mode=False)\n",
      "  (conv2): Conv2d(6, 16, kernel_size=(5, 5), stride=(1, 1))\n",
      "  (fc1): Linear(in_features=400, out_features=120, bias=True)\n",
      "  (fc2): Linear(in_features=120, out_features=84, bias=True)\n",
      "  (fc3): Linear(in_features=84, out_features=10, bias=True)\n",
      ")\n"
     ]
    }
   ],
   "source": [
    "import torch\n",
    "import torch.nn as nn\n",
    "import torch.nn.functional as F\n",
    "\n",
    "class Net(nn.Module):\n",
    "    def __init__(self):\n",
    "        super(Net, self).__init__()\n",
    "        # 1 input image channel, 6 output channels, 3x3 square convolution\n",
    "        # kernel\n",
    "        self.conv1 = nn.Conv2d(3, 6, 5)\n",
    "        self.pool = nn.MaxPool2d(2, 2)\n",
    "        self.conv2 = nn.Conv2d(6, 16, 5)\n",
    "        # an affine operation: y = Wx + b\n",
    "        self.fc1 = nn.Linear(16 * 5 * 5, 120)  # 5*5 from image dimension\n",
    "        self.fc2 = nn.Linear(120, 84)\n",
    "        self.fc3 = nn.Linear(84, 10)\n",
    "\n",
    "    def forward(self, x):\n",
    "        x = self.pool(F.relu(self.conv1(x)))\n",
    "        x = self.pool(F.relu(self.conv2(x)))\n",
    "        x = x.view(-1, 16 * 5 * 5)\n",
    "        x = F.relu(self.fc1(x))\n",
    "        x = F.relu(self.fc2(x))\n",
    "        x = self.fc3(x)\n",
    "        return x\n",
    "\n",
    "net = Net()\n",
    "print(net)"
   ]
  },
  {
   "cell_type": "code",
   "execution_count": 26,
   "metadata": {},
   "outputs": [
    {
     "name": "stdout",
     "output_type": "stream",
     "text": [
      "Capas: 10\n",
      "Tamaño de parámetros de capa 1 => torch.Size([6, 3, 5, 5])\n",
      "Tamaño de parámetros de capa 2 => torch.Size([6])\n",
      "Tamaño de parámetros de capa 3 => torch.Size([16, 6, 5, 5])\n",
      "Tamaño de parámetros de capa 4 => torch.Size([16])\n",
      "Tamaño de parámetros de capa 5 => torch.Size([120, 400])\n",
      "Tamaño de parámetros de capa 6 => torch.Size([120])\n",
      "Tamaño de parámetros de capa 7 => torch.Size([84, 120])\n",
      "Tamaño de parámetros de capa 8 => torch.Size([84])\n",
      "Tamaño de parámetros de capa 9 => torch.Size([10, 84])\n",
      "Tamaño de parámetros de capa 10 => torch.Size([10])\n"
     ]
    }
   ],
   "source": [
    "params = list(net.parameters())\n",
    "print(\"Capas:\", len(params))\n",
    "for i, param in enumerate(params):\n",
    "    print(\"Tamaño de parámetros de capa\", i+1, \"=>\", param.size())"
   ]
  },
  {
   "cell_type": "markdown",
   "metadata": {},
   "source": [
    "Vamos a entregar una entrada aleatoria de tamaño 1x3x32x32. Es decir que un \"batch\" de un elemento, tres colores, altura 32 y ancho 32. Es `nn.Conv2d` acepta un tensor de quatro dimensiones de `nSamples x nChannels x Height x Width`."
   ]
  },
  {
   "cell_type": "code",
   "execution_count": 27,
   "metadata": {},
   "outputs": [
    {
     "name": "stdout",
     "output_type": "stream",
     "text": [
      "tensor([[ 0.0519, -0.0632, -0.0022,  0.0406,  0.0245,  0.0203, -0.0303, -0.0408,\n",
      "         -0.0074, -0.0557]], grad_fn=<AddmmBackward>)\n"
     ]
    }
   ],
   "source": [
    "input = torch.randn(1, 3, 32, 32)\n",
    "out = net(input)\n",
    "print(out)  # tensor con tamaño 1x10"
   ]
  },
  {
   "cell_type": "markdown",
   "metadata": {},
   "source": [
    "### Función de perdida\n",
    "Una función de perdida toma una salida y el objetivo de su valor para calcular una medida de error. Por ejemplo, el `nn.MSELoss` que calcula el error de escuadrados mínimos:"
   ]
  },
  {
   "cell_type": "code",
   "execution_count": 28,
   "metadata": {},
   "outputs": [
    {
     "name": "stdout",
     "output_type": "stream",
     "text": [
      "tensor(1.1415, grad_fn=<MseLossBackward>)\n"
     ]
    }
   ],
   "source": [
    "output = net(input)\n",
    "target = torch.randn(10)  # a dummy target, for example\n",
    "target = target.view(1, -1)  # make it the same shape as output\n",
    "criterion = nn.MSELoss()\n",
    "\n",
    "loss = criterion(output, target)\n",
    "print(loss)"
   ]
  },
  {
   "cell_type": "markdown",
   "metadata": {},
   "source": [
    "Usamos propagación hacia atrás para empotrar los valores de error en nuestros cadas de red neuronal. En PyTorch hacemos el \"backprop\" simplemente usando `backward()` en la salida de función de perdida:"
   ]
  },
  {
   "cell_type": "code",
   "execution_count": 29,
   "metadata": {},
   "outputs": [
    {
     "data": {
      "text/plain": [
       "tensor([ 0.0025,  0.0089,  0.0096, -0.0005,  0.0052,  0.0064])"
      ]
     },
     "execution_count": 29,
     "metadata": {},
     "output_type": "execute_result"
    }
   ],
   "source": [
    "net.zero_grad()  # borrar los valores de antes de todos parámetros\n",
    "\n",
    "loss.backward()\n",
    "\n",
    "net.conv1.bias.grad"
   ]
  },
  {
   "cell_type": "markdown",
   "metadata": {},
   "source": [
    "### Actualizar los pesos\n",
    "El método más simple de actualizar los pesos es el \"Stochastic Gradient Descent (SGD)\". En PyTorch podemos usar el packete `torch.optim` que nos da implementaciones de varios tipos de reglas de actualizar (como SGD, Nesterov-SGD, Adam, RMSProp, ...)."
   ]
  },
  {
   "cell_type": "code",
   "execution_count": 30,
   "metadata": {},
   "outputs": [],
   "source": [
    "# create your optimizer\n",
    "optimizer = torch.optim.SGD(net.parameters(), lr=0.01)\n",
    "\n",
    "# in your training loop:\n",
    "optimizer.zero_grad()   # zero the gradient buffers\n",
    "output = net(input)\n",
    "loss = criterion(output, target)\n",
    "loss.backward()\n",
    "optimizer.step()    # Does the update"
   ]
  },
  {
   "cell_type": "markdown",
   "metadata": {},
   "source": [
    "## Red neuronal ejemplo con imágenes\n",
    "Vamos a usar `torchvision` para cargar un base de datos de imágenes. Instala con `conda install torchvision`."
   ]
  },
  {
   "cell_type": "code",
   "execution_count": 31,
   "metadata": {},
   "outputs": [],
   "source": [
    "import torchvision\n",
    "import torchvision.transforms as transforms"
   ]
  },
  {
   "cell_type": "code",
   "execution_count": 32,
   "metadata": {},
   "outputs": [
    {
     "name": "stdout",
     "output_type": "stream",
     "text": [
      "Files already downloaded and verified\n",
      "Files already downloaded and verified\n"
     ]
    }
   ],
   "source": [
    "transform = transforms.Compose(\n",
    "    [transforms.ToTensor(),\n",
    "     transforms.Normalize((0.5, 0.5, 0.5), (0.5, 0.5, 0.5))])\n",
    "\n",
    "trainset = torchvision.datasets.CIFAR10(root='./data', train=True,\n",
    "                                        download=True, transform=transform)\n",
    "trainloader = torch.utils.data.DataLoader(trainset, batch_size=4,\n",
    "                                          shuffle=True, num_workers=2)\n",
    "\n",
    "testset = torchvision.datasets.CIFAR10(root='./data', train=False,\n",
    "                                       download=True, transform=transform)\n",
    "testloader = torch.utils.data.DataLoader(testset, batch_size=4,\n",
    "                                         shuffle=False, num_workers=2)\n",
    "\n",
    "classes = ('plane', 'car', 'bird', 'cat',\n",
    "           'deer', 'dog', 'frog', 'horse', 'ship', 'truck')"
   ]
  },
  {
   "cell_type": "markdown",
   "metadata": {},
   "source": [
    "Mostramos unos imágenes que tenemos en el set de entrenamiento:"
   ]
  },
  {
   "cell_type": "code",
   "execution_count": 33,
   "metadata": {},
   "outputs": [
    {
     "data": {
      "image/png": "[encoded data removed]",
      "text/plain": [
       "<Figure size 432x288 with 1 Axes>"
      ]
     },
     "metadata": {
      "needs_background": "light"
     },
     "output_type": "display_data"
    },
    {
     "name": "stdout",
     "output_type": "stream",
     "text": [
      "  dog  ship truck   cat\n"
     ]
    }
   ],
   "source": [
    "%matplotlib inline\n",
    "import matplotlib.pyplot as plt\n",
    "import numpy as np\n",
    "\n",
    "def imshow(img):\n",
    "    img = img / 2 + 0.5\n",
    "    npimg = img.numpy()\n",
    "    plt.imshow(np.transpose(npimg, (1, 2, 0)))\n",
    "    plt.show()\n",
    "\n",
    "\n",
    "# get some random training images\n",
    "\n",
    "dataiter = iter(trainloader)\n",
    "images, labels = dataiter.next()\n",
    "\n",
    "# show images\n",
    "imshow(torchvision.utils.make_grid(images))\n",
    "# print labels\n",
    "print(' '.join('%5s' % classes[labels[j]] for j in range(4)))"
   ]
  },
  {
   "cell_type": "markdown",
   "metadata": {},
   "source": [
    "Elejamos una función criteria y de perdida:"
   ]
  },
  {
   "cell_type": "code",
   "execution_count": 34,
   "metadata": {},
   "outputs": [],
   "source": [
    "import torch.optim as optim\n",
    "\n",
    "criterion = nn.CrossEntropyLoss()\n",
    "optimizer = optim.SGD(net.parameters(), lr=0.001, momentum=0.9)"
   ]
  },
  {
   "cell_type": "markdown",
   "metadata": {},
   "source": [
    "Entrenar:"
   ]
  },
  {
   "cell_type": "code",
   "execution_count": 35,
   "metadata": {},
   "outputs": [
    {
     "name": "stdout",
     "output_type": "stream",
     "text": [
      "[1,  2000] loss: 2.234\n",
      "[1,  4000] loss: 1.853\n",
      "[1,  6000] loss: 1.667\n",
      "[1,  8000] loss: 1.579\n",
      "[1, 10000] loss: 1.525\n",
      "[1, 12000] loss: 1.460\n",
      "[2,  2000] loss: 1.393\n",
      "[2,  4000] loss: 1.361\n",
      "[2,  6000] loss: 1.344\n",
      "[2,  8000] loss: 1.301\n",
      "[2, 10000] loss: 1.292\n",
      "[2, 12000] loss: 1.286\n",
      "Finished Training\n"
     ]
    }
   ],
   "source": [
    "for epoch in range(2):  # loop over the dataset multiple times\n",
    "\n",
    "    running_loss = 0.0\n",
    "    for i, data in enumerate(trainloader, 0):\n",
    "        # get the inputs; data is a list of [inputs, labels]\n",
    "        inputs, labels = data\n",
    "\n",
    "        # zero the parameter gradients\n",
    "        optimizer.zero_grad()\n",
    "\n",
    "        # forward + backward + optimize\n",
    "        outputs = net(inputs)\n",
    "        loss = criterion(outputs, labels)\n",
    "        loss.backward()\n",
    "        optimizer.step()\n",
    "\n",
    "        # print statistics\n",
    "        running_loss += loss.item()\n",
    "        if i % 2000 == 1999:    # print every 2000 mini-batches\n",
    "            print('[%d, %5d] loss: %.3f' %\n",
    "                  (epoch + 1, i + 1, running_loss / 2000))\n",
    "            running_loss = 0.0\n",
    "\n",
    "print('Finished Training')"
   ]
  },
  {
   "cell_type": "markdown",
   "metadata": {},
   "source": [
    "#### Guardar y cargar el modelo"
   ]
  },
  {
   "cell_type": "code",
   "execution_count": null,
   "metadata": {},
   "outputs": [],
   "source": [
    "torch.save(net.state_dict(), './cifar_net.pth') # guardar"
   ]
  },
  {
   "cell_type": "code",
   "execution_count": 343,
   "metadata": {},
   "outputs": [
    {
     "data": {
      "text/plain": [
       "Net(\n",
       "  (conv1): Conv2d(3, 6, kernel_size=(5, 5), stride=(1, 1))\n",
       "  (pool): MaxPool2d(kernel_size=2, stride=2, padding=0, dilation=1, ceil_mode=False)\n",
       "  (conv2): Conv2d(6, 16, kernel_size=(5, 5), stride=(1, 1))\n",
       "  (fc1): Linear(in_features=400, out_features=120, bias=True)\n",
       "  (fc2): Linear(in_features=120, out_features=84, bias=True)\n",
       "  (fc3): Linear(in_features=84, out_features=10, bias=True)\n",
       ")"
      ]
     },
     "execution_count": 343,
     "metadata": {},
     "output_type": "execute_result"
    }
   ],
   "source": [
    "net.load_state_dict(torch.load('./cifar_net.pth'))\n",
    "net.eval()"
   ]
  },
  {
   "cell_type": "markdown",
   "metadata": {},
   "source": [
    "Tomamos cuatro imágenes aleatorios para ver si la red funciona:"
   ]
  },
  {
   "cell_type": "code",
   "execution_count": 344,
   "metadata": {},
   "outputs": [],
   "source": [
    "dataiter = iter(testloader)"
   ]
  },
  {
   "cell_type": "code",
   "execution_count": 345,
   "metadata": {},
   "outputs": [
    {
     "data": {
      "image/png": "[encoded data removed]",
      "text/plain": [
       "<Figure size 432x288 with 1 Axes>"
      ]
     },
     "metadata": {
      "needs_background": "light"
     },
     "output_type": "display_data"
    },
    {
     "name": "stdout",
     "output_type": "stream",
     "text": [
      "GroundTruth:    cat  ship  ship plane\n"
     ]
    }
   ],
   "source": [
    "# print images\n",
    "images, labels = dataiter.next()\n",
    "imshow(torchvision.utils.make_grid(images))\n",
    "print('GroundTruth: ', ' '.join('%5s' % classes[labels[j]] for j in range(4)))"
   ]
  },
  {
   "cell_type": "markdown",
   "metadata": {},
   "source": [
    "Apliquemos la red y verifiquemos la salida:"
   ]
  },
  {
   "cell_type": "code",
   "execution_count": 346,
   "metadata": {},
   "outputs": [
    {
     "name": "stdout",
     "output_type": "stream",
     "text": [
      "Predicted:    cat   car  ship  ship\n"
     ]
    }
   ],
   "source": [
    "outputs = net(images)\n",
    "\n",
    "_, predicted = torch.max(outputs, 1)\n",
    "\n",
    "print('Predicted: ', ' '.join('%5s' % classes[predicted[j]]\n",
    "                              for j in range(4)))"
   ]
  },
  {
   "cell_type": "markdown",
   "metadata": {},
   "source": [
    "¿Qué tal funciona la red en los categorías?"
   ]
  },
  {
   "cell_type": "code",
   "execution_count": null,
   "metadata": {},
   "outputs": [],
   "source": [
    "import seaborn as sn\n",
    "import pandas as pd\n",
    "import matplotlib.pyplot as plt\n",
    "\n",
    "from sklearn.metrics import confusion_matrix\n",
    "\n",
    "label_list = torch.zeros(0, dtype=torch.long)\n",
    "pred_list = torch.zeros(0, dtype=torch.long)\n",
    "\n",
    "class_correct = list(0. for i in range(10))\n",
    "class_total = list(0. for i in range(10))\n",
    "with torch.no_grad():\n",
    "    for data in testloader:\n",
    "        images, labels = data\n",
    "        outputs = net(images)\n",
    "        _, predicted = torch.max(outputs, 1)\n",
    "        \n",
    "        label_list = torch.cat([label_list, labels.view(-1)])\n",
    "        pred_list = torch.cat([pred_list, predicted.view(-1)])\n",
    "        \n",
    "        c = (predicted == labels).squeeze()\n",
    "        for i in range(4):\n",
    "            label = labels[i]\n",
    "            class_correct[label] += c[i].item()\n",
    "            class_total[label] += 1\n",
    "\n",
    "\n",
    "for i in range(10):\n",
    "    print('Accuracy of %5s : %2d %%' % (\n",
    "        classes[i], 100 * class_correct[i] / class_total[i]))\n",
    "\n",
    "# Confusion matrix\n",
    "conf_mat = confusion_matrix(label_list.numpy(), pred_list.numpy())\n",
    "df_cm = pd.DataFrame(conf_mat, index=classes, columns=classes)\n",
    "\n",
    "plt.figure(figsize=(10,8))\n",
    "sn.heatmap(df_cm, annot=True, cmap='rocket_r')\n",
    "\n",
    "b, t = plt.ylim()\n",
    "plt.ylim(b+0.5, t-0.5)\n",
    "plt.show()"
   ]
  },
  {
   "cell_type": "markdown",
   "metadata": {},
   "source": [
    "## Entranar en el GPU\n",
    "Para verificar si tienes un GPU de Nvidia y has instalado CUDA (que es un método de acceder el GPU a través código), executamos:"
   ]
  },
  {
   "cell_type": "code",
   "execution_count": null,
   "metadata": {},
   "outputs": [],
   "source": [
    "device = torch.device(\"cuda:0\" if torch.cuda.is_available() else \"cpu\")\n",
    "print(device)"
   ]
  },
  {
   "cell_type": "markdown",
   "metadata": {},
   "source": [
    "Para usar el red en el GPU (si lo de arriba dice `cuda:0`), tenemos que mudar todo los datos y la red hacia el GPU:"
   ]
  },
  {
   "cell_type": "code",
   "execution_count": null,
   "metadata": {},
   "outputs": [],
   "source": [
    "net.to(device)\n",
    "inputs, labels = data[0].to(device), data[1].to(device)"
   ]
  },
  {
   "cell_type": "code",
   "execution_count": null,
   "metadata": {},
   "outputs": [],
   "source": []
  }
 ],
 "metadata": {
  "kernelspec": {
   "display_name": "Python 3",
   "language": "python",
   "name": "python3"
  },
  "language_info": {
   "codemirror_mode": {
    "name": "ipython",
    "version": 3
   },
   "file_extension": ".py",
   "mimetype": "text/x-python",
   "name": "python",
   "nbconvert_exporter": "python",
   "pygments_lexer": "ipython3",
   "version": "3.7.3"
  }
 },
 "nbformat": 4,
 "nbformat_minor": 2
}
